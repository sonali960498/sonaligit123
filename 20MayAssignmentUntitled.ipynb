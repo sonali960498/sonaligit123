{
 "cells": [
  {
   "cell_type": "markdown",
   "id": "4dfd3ec6-e07b-4561-8643-9faaa3c71319",
   "metadata": {},
   "source": [
    "#Q.1 What are keywords in python? Using the keyword library,print all the python keywords."
   ]
  },
  {
   "cell_type": "markdown",
   "id": "6c02df40-5a1a-4070-9a8a-ac329e8248fc",
   "metadata": {},
   "source": [
    "Keywords in python are reserved words that have predefined meanings and cannot be used as identifiers.They are used to define the structure and logic of the code.Python provides a \"keyword\" library that allows you to access the list of all keywords. \n",
    "Here's how we can print all the python keywords:"
   ]
  },
  {
   "cell_type": "code",
   "execution_count": 1,
   "id": "cbc1fcad-4637-4275-8a71-946b03cc9ce4",
   "metadata": {},
   "outputs": [
    {
     "name": "stdout",
     "output_type": "stream",
     "text": [
      "['False', 'None', 'True', 'and', 'as', 'assert', 'async', 'await', 'break', 'class', 'continue', 'def', 'del', 'elif', 'else', 'except', 'finally', 'for', 'from', 'global', 'if', 'import', 'in', 'is', 'lambda', 'nonlocal', 'not', 'or', 'pass', 'raise', 'return', 'try', 'while', 'with', 'yield']\n"
     ]
    }
   ],
   "source": [
    "import keyword\n",
    "\n",
    "all_keywords = keyword.kwlist\n",
    "print(all_keywords)"
   ]
  },
  {
   "cell_type": "markdown",
   "id": "02941904-013e-4c36-befc-604eb8db7835",
   "metadata": {},
   "source": [
    "#Q.2 what are the rules to create variables in python?"
   ]
  },
  {
   "cell_type": "markdown",
   "id": "aa80dedb-cd5b-4e52-a39e-51f6a28847fa",
   "metadata": {},
   "source": [
    "1.Variable Names: Variable names must start with a letter (a-z,A-Z) or an underscore (_). They can also contain numbers (0-9), bit not at the beginning.Variable names are case-sensitive,so \"myVar\" and \"mywar\" would be considered different variables.\n",
    "\n",
    "2.Valid characters: Variable names can only contain letters,numbers,and underscores.They canot contain spaces or special characters.\n",
    "\n",
    "3.Keywords: Variable names cannot be the same as python keywords.For example, you cannot name a variable \"if\" or \"while\" as there are reserved keywords.\n",
    "\n",
    "4.Convention: While not a strict rule, it's common to use lowercase letters for variable names.For multi-word variable names,you can use underscores between words(snake_case)or capitalize the first letter of each word except the first(camelcase).\n",
    "\n",
    "5.Avoid starting with underscore: variables that start with single underscore(_)are considered \"internal use\" variables and are not imported by a wildcard import statement.Variables that start and end with two uderscores(e.g.,myvar)have special meaning in certan contexts.\n",
    "\n",
    "6.Avoid starting with Double underscore: Variables that start with a double underscore(e.g.,_ _ myvar)have name mangling applied,which can be used in class inheritance to avoid name conflicts."
   ]
  },
  {
   "cell_type": "markdown",
   "id": "a23e4054-07b9-4023-92de-557addf0ec2a",
   "metadata": {},
   "source": [
    "#Q.3 What are the standards and conventions followed for the nomenclature of variables in python to improve code readability and maintainability?"
   ]
  },
  {
   "cell_type": "markdown",
   "id": "11d72ecd-0ec0-4a6a-b35d-243fb495d444",
   "metadata": {},
   "source": [
    "1.snake Case: Use lowercase letters for variable names and separate words with uderscores. This convention is widely used in python.\n",
    "Example:'my_variable_name'\n",
    "\n",
    "2.Discriptive Names: Choose meaningful and descriptive names for variables. This helps in uderstanding the purpose of the variable without needing comments.\n",
    "example: Instead of 'x = 5',use 'num_of_students = 5'.\n",
    "\n",
    "3.Avoid Single-Character Names: Unless the variable's purpose is very clear in the context, avoid using single-letter variable names. Instead,opt for names that reflect the purpose of the variable.\n",
    "Example:Instead of 'i = 0, use 'index = 0'.\n",
    "\n",
    "4.Constants:Use uppercase letters and underscores to name constants. Constants are values that should not be modified during the program's execution.\n",
    "Example: 'MAX_VALUE = 100'\n",
    "\n",
    "5.Function Names: Follow the same conventions as for variable names. Use  lowercase with underscores for function names.\n",
    "Example: 'calculate_average( )'\n",
    "\n",
    "6.Class Names: Use camelcase (capitalize the first letter of each word) for class names. This is known as \"CamelCase\" or \"PascalCase\"\n",
    "Example: \"studentInfo'\n",
    "\n",
    "7.Private variables: If you want to indicate that a variable should be treated as private and not accessed outside the class, start its name with a single underscore.\n",
    "Example: '_private_variable'\n",
    "\n",
    "8.Protected Variables: Start the name of a protected variable (a variable that should not be accessed outside the class except by subclasses) with a single underscore.\n",
    "Example: '_protected_variable'\n",
    "\n",
    "9.Dunder Methodes:  Names of special methodes in classes, like '_ _init_ _', should follow the same naming conventions as regular functions.\n",
    "\n",
    "10.Acronyms and Abbreviations: If a variable name includes an acronym or abbreviation, use all lowercase or all uppercase letters, depending on which one improves readability.\n",
    "Example: 'xml_parser' or 'XMLParser'"
   ]
  },
  {
   "cell_type": "markdown",
   "id": "2f05a3a4-1d51-47ef-9840-3afeed1a7608",
   "metadata": {},
   "source": [
    "#Q.4 what will happen if a keyword is used as a variable name?"
   ]
  },
  {
   "cell_type": "markdown",
   "id": "38757422-00d4-4f67-91bc-51a9b0f886b6",
   "metadata": {},
   "source": [
    "If you use a keyword as a variable name in python, you will encounter a syntax error. Keywords are reserved words that have special meanings in the python language,and they cannot be used as identifiers. Using a keyword as a variable name would lead to confusion and errors in the code's interpretation.\n",
    "For example:"
   ]
  },
  {
   "cell_type": "code",
   "execution_count": 2,
   "id": "4cb98360-c0aa-4423-9b45-27df189041f2",
   "metadata": {},
   "outputs": [
    {
     "ename": "SyntaxError",
     "evalue": "invalid syntax (182722112.py, line 1)",
     "output_type": "error",
     "traceback": [
      "\u001b[0;36m  Cell \u001b[0;32mIn [2], line 1\u001b[0;36m\u001b[0m\n\u001b[0;31m    if = 10\u001b[0m\n\u001b[0m       ^\u001b[0m\n\u001b[0;31mSyntaxError\u001b[0m\u001b[0;31m:\u001b[0m invalid syntax\n"
     ]
    }
   ],
   "source": [
    "if = 10"
   ]
  },
  {
   "cell_type": "markdown",
   "id": "8b820aab-7058-4ac0-8ee8-87433ce5548f",
   "metadata": {},
   "source": [
    "#Q.5 For what purpose def keyword is used?"
   ]
  },
  {
   "cell_type": "markdown",
   "id": "10cbb452-a165-48ba-b39e-d592729b447b",
   "metadata": {},
   "source": [
    "The 'def' keyword in python is used to define a function. A function is a block of code that performs a specific task and can be executed whenever needed. By using the 'def' keyword, you create a new function and define its behavior.\n",
    "\n",
    "Here's the basic syntax of defining a function using th 'def' keyword:"
   ]
  },
  {
   "cell_type": "code",
   "execution_count": 3,
   "id": "543b0f3a-26d8-4fbf-89ec-241ccf5f8c85",
   "metadata": {},
   "outputs": [],
   "source": [
    "def functio_name(parameters):\n",
    "    # Function body\n",
    "    # Code to perform the desired task\n",
    "    return result # Optional"
   ]
  },
  {
   "cell_type": "markdown",
   "id": "7be76081-6716-4043-b77d-30de02e44339",
   "metadata": {},
   "source": [
    "*'funtion_name': This is the name you give to the function.\n",
    "*'parameters': These are the input values that the function can accept. They are optional.\n",
    "*Function body: This is where you write the code that difines what the function does.\n",
    "*'return': This keyword is used to specify the value that the functin should return as its result.\n",
    "\n",
    "For example:"
   ]
  },
  {
   "cell_type": "code",
   "execution_count": 4,
   "id": "8ab8e4e9-1126-405b-a771-b5a16befccd1",
   "metadata": {},
   "outputs": [
    {
     "name": "stdout",
     "output_type": "stream",
     "text": [
      "25\n"
     ]
    }
   ],
   "source": [
    "def square(num):\n",
    "    return num * num\n",
    "\n",
    "result = square(5)\n",
    "print(result) "
   ]
  },
  {
   "cell_type": "markdown",
   "id": "c767a83e-7ce0-4ebf-87d9-978204f0274e",
   "metadata": {},
   "source": [
    "#Q.6 What is the operation of this special character'\\'?"
   ]
  },
  {
   "cell_type": "markdown",
   "id": "7ebdaa4e-7e4f-472c-8210-f359f7ffce0e",
   "metadata": {},
   "source": [
    "The special character \"is used as an escape character in programming and various other contexts. It indicates that character following it should be interpreted in a special way. For example, '\\n' represents a newline, '\\t' represents a tab, and '\\' represents a literal backslash. It's commonly used to include special characters within strings or to define special formatting in text."
   ]
  },
  {
   "cell_type": "markdown",
   "id": "5c8c12d7-efb2-4a0c-bdb1-38f5e0db6752",
   "metadata": {},
   "source": [
    "#Q.7 Give an example of the following conditions:\n",
    "(i)   Homogeneous list\n",
    "(ii)  Heterogeneous set \n",
    "(iii) Homogeneous tuple"
   ]
  },
  {
   "cell_type": "markdown",
   "id": "dec202cc-a7ce-41f0-a5fd-e74b240e3686",
   "metadata": {},
   "source": [
    "(i)Homogeneous list:\n",
    "A list where all elements are of the same data type.\n",
    "Example:'[1,2,3,4,5]\n",
    "\n",
    "(ii)Heterogeneous set:\n",
    "A set where elements can be of different data types.\n",
    "Example:'{\"apple\",5,3.14,True}'\n",
    "\n",
    "(iii)Homogeneous tuple:\n",
    "A tuple where all elements are of the same data type.\n",
    "Example:'(10,20,30,40,50)'"
   ]
  },
  {
   "cell_type": "markdown",
   "id": "17278ca7-d2bf-4dd0-b082-6fac25fb7746",
   "metadata": {},
   "source": [
    "#Q.8 Explain the mutable and immutable data types with proper explanation and examples."
   ]
  },
  {
   "cell_type": "markdown",
   "id": "6919f75d-159c-4352-b6d3-a426e314e66b",
   "metadata": {},
   "source": [
    "1.Mutable Data Types:\n",
    "Mutable data types are those whose values can be changed after they are created. In othe words, you can modify the content of a mutable object without creating a new object. Changes made to one reference of the object will affect all references to that object.\n",
    "Examples:"
   ]
  },
  {
   "cell_type": "markdown",
   "id": "7ec9c89b-64a0-44a5-b7fe-bfaaebb0d2da",
   "metadata": {},
   "source": [
    "a.List:List in python are mutable.You can add,remove,or modify elements in a list after it's created."
   ]
  },
  {
   "cell_type": "code",
   "execution_count": null,
   "id": "09b33b3f-dc23-4734-af3a-fd1236a8efe4",
   "metadata": {},
   "outputs": [],
   "source": [
    "my_list = [1,2,3]\n",
    "my_list[0] = 10    # Modify an element\n",
    "my_list.append(4)  # Adding an element"
   ]
  },
  {
   "cell_type": "markdown",
   "id": "446248b9-72eb-4e8b-a649-50e3deccad0f",
   "metadata": {},
   "source": [
    "b.Dictionaries:Dictionaries are mutable as well.You can add,modify,or remove key-value pairs."
   ]
  },
  {
   "cell_type": "code",
   "execution_count": null,
   "id": "c4fdf91d-aa8d-41ea-8d76-fa90056c54e5",
   "metadata": {},
   "outputs": [],
   "source": [
    "my_dict = {\"name\": \"Apple\", \"age\": 25}\n",
    "my_dict[\"age\"] = 26           # Modify a value\n",
    "my_dict[\"city\"] = \"New York\"  # Adding a new key-value pair"
   ]
  },
  {
   "cell_type": "markdown",
   "id": "6325af34-ed2b-4d16-8270-41aa6c223572",
   "metadata": {},
   "source": [
    "2.Immutable Data Types:\n",
    "Immutable data types are those whose values cannot be changed after they are created.When you modify an immutable object,a new object is created with updated value, while the original object remains unchanged.This means each reference to an immutable object is independent.\n",
    "Example:"
   ]
  },
  {
   "cell_type": "markdown",
   "id": "eae4f660-730f-47d5-8cb3-b26509873d8b",
   "metadata": {},
   "source": [
    "*Strings:Strings in python are immutable.Once a string is created, you cannot change its characters."
   ]
  },
  {
   "cell_type": "code",
   "execution_count": null,
   "id": "34221e77-1d00-4610-a582-30f77ddb8059",
   "metadata": {},
   "outputs": [],
   "source": [
    "my_string = \"Hello\"\n",
    "new_string = my_string + \"World\"  # A new string is created"
   ]
  },
  {
   "cell_type": "markdown",
   "id": "f8855565-8149-43be-a88c-4bf691b02819",
   "metadata": {},
   "source": [
    "*Tuples:Tuples are also immutable.You cannot modify elements or the size of a tuple once it's created."
   ]
  },
  {
   "cell_type": "code",
   "execution_count": null,
   "id": "8c33689a-f516-45d7-bf99-5a04a6b1c299",
   "metadata": {},
   "outputs": [],
   "source": [
    "my_tuple = (1,2,3)\n",
    "new_tuple = my_tuple + (4,5)  # A new tuple is created"
   ]
  },
  {
   "cell_type": "markdown",
   "id": "034ee094-47cd-46b0-8693-41139d80fa8c",
   "metadata": {},
   "source": [
    "Immutable objects are useful for situations where you want to ensure data integrity and prevent unintended modifications.Mutable objects are handy when you need to change the content of the object without creating a new one, which can be more memory-efficient in certain scenarios."
   ]
  },
  {
   "cell_type": "code",
   "execution_count": null,
   "id": "ccbd1e5f-4a65-4a20-8b64-03eda88f95c5",
   "metadata": {},
   "outputs": [],
   "source": [
    "#Q.9 Write a code to create the given structure using only for loop.\n",
    "    *\n",
    "   ***\n",
    "  *****\n",
    " *******\n",
    "*********"
   ]
  },
  {
   "cell_type": "markdown",
   "id": "f02f1a0e-089e-4697-a250-24f5bb2f403f",
   "metadata": {},
   "source": [
    "python code snippet that uses nested for loops to create the given structure:"
   ]
  },
  {
   "cell_type": "code",
   "execution_count": 3,
   "id": "b4d4fb84-6d89-4305-82bf-73ba048c2894",
   "metadata": {},
   "outputs": [
    {
     "name": "stdout",
     "output_type": "stream",
     "text": [
      "    *\n",
      "   ***\n",
      "  *****\n",
      " *******\n",
      "*********\n"
     ]
    }
   ],
   "source": [
    "rows = 5 \n",
    "\n",
    "for i in range(1, rows + 1):\n",
    "    print(' ' * (rows - i) + '*' * (2 * i - 1))\n",
    "    "
   ]
  },
  {
   "cell_type": "code",
   "execution_count": null,
   "id": "57e23c07-7ff8-4c31-baac-a2c745d0e37d",
   "metadata": {},
   "outputs": [],
   "source": [
    "#Q.10 Write a code to create the given structure using while loop.\n",
    "|||||||||\n",
    " |||||||\n",
    "  |||||\n",
    "   |||\n",
    "    |"
   ]
  },
  {
   "cell_type": "markdown",
   "id": "9fdcb788-d489-46d4-b64e-8a0129dd5b95",
   "metadata": {},
   "source": [
    "Python code snippet that uses a while loop to creat the given structure:"
   ]
  },
  {
   "cell_type": "code",
   "execution_count": 5,
   "id": "65ccb915-7a75-4a8d-b2cf-f657f6153383",
   "metadata": {},
   "outputs": [
    {
     "name": "stdout",
     "output_type": "stream",
     "text": [
      "|||||||||\n",
      " |||||||\n",
      "  |||||\n",
      "   |||\n",
      "    |\n"
     ]
    }
   ],
   "source": [
    "rows = 5\n",
    "i = 1\n",
    "\n",
    "while i <= rows:\n",
    "    print(' ' * (i - 1) + '|' * (2 * (rows - i) + 1))\n",
    "    i += 1"
   ]
  }
 ],
 "metadata": {
  "kernelspec": {
   "display_name": "Python 3 (ipykernel)",
   "language": "python",
   "name": "python3"
  },
  "language_info": {
   "codemirror_mode": {
    "name": "ipython",
    "version": 3
   },
   "file_extension": ".py",
   "mimetype": "text/x-python",
   "name": "python",
   "nbconvert_exporter": "python",
   "pygments_lexer": "ipython3",
   "version": "3.10.6"
  }
 },
 "nbformat": 4,
 "nbformat_minor": 5
}
