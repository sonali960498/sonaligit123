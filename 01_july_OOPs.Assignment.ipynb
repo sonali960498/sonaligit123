{
 "cells": [
  {
   "cell_type": "markdown",
   "id": "76316172-addf-4285-b78f-6fedfa0ff002",
   "metadata": {},
   "source": [
    "Q1. What is the primary goal of Object-Oriented Programming (OOP)?"
   ]
  },
  {
   "cell_type": "markdown",
   "id": "e1b8eada-dbcf-41f3-959b-97a5e58496c0",
   "metadata": {},
   "source": [
    "The primary goal of Object-Oriented Programming (OOP) is to organize complex software systems into modular, reusable components called objects. OOP aims to provide a way to structure code that reflects the real-world entities being modeled, making it easier to manage and maintain large codebases. Key principles of OOP include encapsulation, inheritance, and polymorphism, which facilitate code organization, reusability, and flexibility. Overall, the goal of OOP is to improve code quality, scalability, and maintainability by promoting modularity, abstraction, and code reuse."
   ]
  },
  {
   "cell_type": "markdown",
   "id": "9c64de1d-9026-47e2-9d06-e557ff334632",
   "metadata": {},
   "source": [
    "Q2. What is an object in Python?"
   ]
  },
  {
   "cell_type": "markdown",
   "id": "741f8489-c7a0-41c6-a15e-dd17f68ea49f",
   "metadata": {},
   "source": [
    "In Python, an object is a fundamental concept that represents a specific instance of a class. Every value in Python is an object, whether it's a number, string, list, or any other data type. Objects encapsulate both data (attributes) and behavior (methods) within them.\n",
    "\n",
    "When you create an instance of a class in Python, you're creating an object. For example, if you have a class named Car, you can create individual car objects, each with its own unique characteristics (such as make, model, and color).\n",
    "\n",
    "Example:"
   ]
  },
  {
   "cell_type": "code",
   "execution_count": 2,
   "id": "a9aea128-f6be-415a-a2b4-456f136d19fe",
   "metadata": {},
   "outputs": [
    {
     "name": "stdout",
     "output_type": "stream",
     "text": [
      "Toyota\n",
      "Mustang\n",
      "The blue Toyota Corolla is driving.\n"
     ]
    }
   ],
   "source": [
    "class Car:\n",
    "    def __init__(self, make, model, color):\n",
    "        self.make = make\n",
    "        self.model = model\n",
    "        self.color = color\n",
    "    \n",
    "    def drive(self):\n",
    "        print(f\"The {self.color} {self.make} {self.model} is driving.\")\n",
    "\n",
    "# Creating objects (instances) of the Car class\n",
    "my_car = Car(\"Toyota\", \"Corolla\", \"blue\")\n",
    "your_car = Car(\"Ford\", \"Mustang\", \"red\")\n",
    "\n",
    "# Accessing attributes and invoking methods of objects\n",
    "print(my_car.make)  \n",
    "print(your_car.model) \n",
    "my_car.drive()  \n"
   ]
  },
  {
   "cell_type": "markdown",
   "id": "09b88eaf-563a-48b5-bc11-9a56cf91b382",
   "metadata": {},
   "source": [
    "In this example, my_car and your_car are objects (instances) of the Car class. They have attributes (make, model, color) and a method (drive) associated with them. Each object maintains its own state, independent of other objects created from the same class."
   ]
  },
  {
   "cell_type": "markdown",
   "id": "2edc71d9-0f7b-429e-bf3b-cf610ae1f7aa",
   "metadata": {},
   "source": [
    "Q3. What is a class in Python?"
   ]
  },
  {
   "cell_type": "markdown",
   "id": "f28f1db6-b669-4908-9e31-1dd3615bd2be",
   "metadata": {},
   "source": [
    "In Python, a class is a blueprint for creating objects. It defines the attributes (data) and methods (functions) that objects of the class will have. Classes provide a way to encapsulate related data and behavior into a single unit.\n",
    "\n",
    "Example of a class in Python:"
   ]
  },
  {
   "cell_type": "code",
   "execution_count": 1,
   "id": "289c05d0-e543-4754-bff3-824246152cca",
   "metadata": {},
   "outputs": [
    {
     "name": "stdout",
     "output_type": "stream",
     "text": [
      "Toyota\n",
      "2022\n",
      "The car is driving.\n"
     ]
    }
   ],
   "source": [
    "class Car:\n",
    "    def __init__(self, make, model, year):\n",
    "        self.make = make\n",
    "        self.model = model\n",
    "        self.year = year\n",
    "    \n",
    "    def drive(self):\n",
    "        print(\"The car is driving.\")\n",
    "\n",
    "# Creating an instance of the Car class\n",
    "my_car = Car(\"Toyota\", \"Corolla\", 2022)\n",
    "\n",
    "# Accessing attributes and invoking methods of the object\n",
    "print(my_car.make)  \n",
    "print(my_car.year)  \n",
    "my_car.drive()  \n"
   ]
  },
  {
   "cell_type": "markdown",
   "id": "3d20633f-203f-4d0c-9337-d75e7edc77c2",
   "metadata": {},
   "source": [
    "In this example:\n",
    "\n",
    "* Car is the class.\n",
    "* make, model, and year are attributes of the class.\n",
    "* __init__ is a special method (constructor) called when an object is created. It initializes the object's attributes.\n",
    "* drive is a method of the class.\n",
    "We can create multiple objects (instances) of the same class, each with its own set of attributes and methods. Classes provide a way to organize and manage complex code by grouping related functionality together. They are essential for implementing Object-Oriented Programming (OOP) concepts in Python.\n"
   ]
  },
  {
   "cell_type": "markdown",
   "id": "77b8a3e4-77ad-47c5-a525-f92899e46d08",
   "metadata": {},
   "source": [
    "Q4. What are attributes and methods in a class?"
   ]
  },
  {
   "cell_type": "markdown",
   "id": "b7f01ab8-0d9e-41d2-a92c-a6175a106e98",
   "metadata": {},
   "source": [
    "In the context of a class in Python:\n",
    "\n",
    "1.Attributes: Attributes are data stored within a class or instance and represent the state or characteristics of the object. They are defined within the class and are accessed using dot notation (object.attribute). Attributes can be variables that store values specific to each instance of the class. In the context of object-oriented programming, attributes are sometimes referred to as properties or fields.\n",
    "\n",
    "Example:"
   ]
  },
  {
   "cell_type": "code",
   "execution_count": 3,
   "id": "4b76cff9-67b2-42e8-8fce-dec13f648076",
   "metadata": {},
   "outputs": [
    {
     "name": "stdout",
     "output_type": "stream",
     "text": [
      "Toyota\n"
     ]
    }
   ],
   "source": [
    "class Car:\n",
    "    def __init__(self, make, model, year):\n",
    "        self.make = make\n",
    "        self.model = model\n",
    "        self.year = year\n",
    "\n",
    "my_car = Car(\"Toyota\", \"Corolla\", 2022)\n",
    "print(my_car.make) \n"
   ]
  },
  {
   "cell_type": "markdown",
   "id": "6ba0b097-4d20-43a7-845b-fc28ea11bb47",
   "metadata": {},
   "source": [
    "2.Methods: Methods are functions defined within a class that operate on objects created from that class. They represent the behavior or actions that an object can perform. Methods are defined within the class using the def keyword and typically take at least one parameter, conventionally named self, which refers to the instance of the class. Methods can access and manipulate the attributes of the class.\n",
    "\n",
    "Example:"
   ]
  },
  {
   "cell_type": "code",
   "execution_count": 4,
   "id": "c66cd885-5d6f-4531-a8d8-3ecc5f244920",
   "metadata": {},
   "outputs": [
    {
     "name": "stdout",
     "output_type": "stream",
     "text": [
      "The car is driving.\n"
     ]
    }
   ],
   "source": [
    "class Car:\n",
    "    def __init__(self, make, model, year):\n",
    "        self.make = make\n",
    "        self.model = model\n",
    "        self.year = year\n",
    "\n",
    "    def drive(self):\n",
    "        print(\"The car is driving.\")\n",
    "\n",
    "my_car = Car(\"Toyota\", \"Corolla\", 2022)\n",
    "my_car.drive()  \n"
   ]
  },
  {
   "cell_type": "markdown",
   "id": "652f2021-ddec-43d4-a9f0-9c5d06ea45b2",
   "metadata": {},
   "source": [
    "Q5. What is the difference between class variables and instance variables in Python?"
   ]
  },
  {
   "cell_type": "markdown",
   "id": "2de123ca-fa5e-47a6-be5d-3b4e48929a8a",
   "metadata": {},
   "source": [
    "In Python, class variables and instance variables are both types of attributes associated with classes, but they behave differently and serve distinct purposes:\n",
    "\n",
    "1.Class Variables:\n",
    "\n",
    "Class variables are variables that are shared among all instances of a class.\n",
    "They are defined within the class definition but outside of any methods.\n",
    "Class variables are accessed using the class name itself or through an instance of the class.\n",
    "They are typically used to store data that is common to all instances of the class.\n",
    "Class variables are declared at the class level and are shared across all instances.\n",
    "Example:"
   ]
  },
  {
   "cell_type": "code",
   "execution_count": 5,
   "id": "a4185582-ef53-4989-8394-ed9c666bcef7",
   "metadata": {},
   "outputs": [
    {
     "name": "stdout",
     "output_type": "stream",
     "text": [
      "2\n"
     ]
    }
   ],
   "source": [
    "class Car:\n",
    "    num_cars = 0  # Class variable\n",
    "\n",
    "    def __init__(self, make, model):\n",
    "        self.make = make  # Instance variable\n",
    "        self.model = model  # Instance variable\n",
    "        Car.num_cars += 1\n",
    "\n",
    "car1 = Car(\"Toyota\", \"Corolla\")\n",
    "car2 = Car(\"Honda\", \"Civic\")\n",
    "\n",
    "print(Car.num_cars)\n"
   ]
  },
  {
   "cell_type": "markdown",
   "id": "8fbf4318-d2c8-45df-a904-c05fadd10989",
   "metadata": {},
   "source": [
    "2.Instance Variables:\n",
    "\n",
    "Instance variables are variables that are unique to each instance of a class.\n",
    "They are defined within the class constructor (__init__) and are initialized for each instance separately.\n",
    "Instance variables are accessed using the instance name (object).\n",
    "They represent the specific state or characteristics of each individual instance.\n",
    "Instance variables belong to specific instances and are not shared among other instances of the class.\n",
    "Example:"
   ]
  },
  {
   "cell_type": "code",
   "execution_count": 6,
   "id": "5a40f30f-d986-476d-9add-09c5b9be42c7",
   "metadata": {},
   "outputs": [
    {
     "name": "stdout",
     "output_type": "stream",
     "text": [
      "Toyota\n",
      "Civic\n"
     ]
    }
   ],
   "source": [
    "class Car:\n",
    "    def __init__(self, make, model):\n",
    "        self.make = make  # Instance variable\n",
    "        self.model = model  # Instance variable\n",
    "\n",
    "car1 = Car(\"Toyota\", \"Corolla\")\n",
    "car2 = Car(\"Honda\", \"Civic\")\n",
    "\n",
    "print(car1.make)  \n",
    "print(car2.model)  \n"
   ]
  },
  {
   "cell_type": "markdown",
   "id": "c5c972cc-0e32-481a-b84a-b729bb2166de",
   "metadata": {},
   "source": [
    "Q6. What is the purpose of the self parameter in Python class methods?"
   ]
  },
  {
   "cell_type": "markdown",
   "id": "6f247698-b2da-4f89-ba7c-2bb08b1970e9",
   "metadata": {},
   "source": [
    "In Python, the self parameter in class methods serves the purpose of referring to the instance of the class itself. When you call a method on an instance of a class, Python automatically passes the instance as the first argument to the method. By convention, this first parameter is named self, although you can technically name it anything you want, but using self is a widely accepted convention in the Python community.\n",
    "\n",
    "The primary purposes of the self parameter are:\n",
    "\n",
    "1.Accessing Instance Variables: Inside a method, you can access instance variables (attributes) using self.variable_name. This allows the method to operate on the specific data associated with the instance it was called on.\n",
    "\n",
    "2.Calling Other Methods: self allows you to call other methods of the same class within a method. This facilitates code organization and reusability.\n",
    "\n",
    "3.Creating and Manipulating Instance State: self is used to modify the state of the instance. Methods can modify instance variables or perform operations that affect the state of the instance.\n",
    "\n",
    "Example to illustrate the use of self in a class method:"
   ]
  },
  {
   "cell_type": "code",
   "execution_count": 7,
   "id": "14b32215-2bb9-4349-b9a6-113573caa593",
   "metadata": {},
   "outputs": [
    {
     "name": "stdout",
     "output_type": "stream",
     "text": [
      "Engine started.\n",
      "The Toyota Corolla is running.\n",
      "Engine stopped.\n",
      "The Toyota Corolla is not running.\n"
     ]
    }
   ],
   "source": [
    "class Car:\n",
    "    def __init__(self, make, model):\n",
    "        self.make = make\n",
    "        self.model = model\n",
    "        self.is_running = False\n",
    "\n",
    "    def start_engine(self):\n",
    "        self.is_running = True\n",
    "        print(\"Engine started.\")\n",
    "\n",
    "    def stop_engine(self):\n",
    "        self.is_running = False\n",
    "        print(\"Engine stopped.\")\n",
    "\n",
    "    def display_status(self):\n",
    "        if self.is_running:\n",
    "            print(f\"The {self.make} {self.model} is running.\")\n",
    "        else:\n",
    "            print(f\"The {self.make} {self.model} is not running.\")\n",
    "\n",
    "# Creating an instance of the Car class\n",
    "my_car = Car(\"Toyota\", \"Corolla\")\n",
    "\n",
    "# Calling methods using the instance\n",
    "my_car.start_engine()\n",
    "my_car.display_status()  \n",
    "\n",
    "my_car.stop_engine()\n",
    "my_car.display_status()  \n"
   ]
  },
  {
   "cell_type": "markdown",
   "id": "58c27b49-3f69-401b-861b-2ca0733776c1",
   "metadata": {},
   "source": [
    "In this example, self is used within each method to refer to the instance of the Car class on which the method is called. This allows the methods to access and modify the instance variables (make, model, is_running) specific to that instance."
   ]
  },
  {
   "cell_type": "markdown",
   "id": "f2dbffda-d245-43a5-9e7b-6e6711fa37a5",
   "metadata": {},
   "source": [
    "Q7. For a library management system, you have to design the \"Book\" class with OOP\n",
    "principles in mind. The “Book” class will have following attributes:\n",
    "a. title: Represents the title of the book.\n",
    "b. author: Represents the author(s) of the book.\n",
    "c. isbn: Represents the ISBN (International Standard Book Number) of the book.\n",
    "d. publication_year: Represents the year of publication of the book.\n",
    "e. available_copies: Represents the number of copies available for checkout.\n",
    "The class will also include the following methods:\n",
    "a. check_out(self): Decrements the available copies by one if there are copies\n",
    "available for checkout.\n",
    "b. return_book(self): Increments the available copies by one when a book is\n",
    "returned.\n",
    "c. display_book_info(self): Displays the information about the book, including its\n",
    "attributes and the number of available copies."
   ]
  },
  {
   "cell_type": "markdown",
   "id": "0c182ab0-a76e-46a9-bc85-cb3554b1ed9e",
   "metadata": {},
   "source": [
    "Below is the implementation of the \"Book\" class in Python according to the provided requirements:"
   ]
  },
  {
   "cell_type": "code",
   "execution_count": 8,
   "id": "723934e2-6c21-45a3-aaaa-4a17ec9f778c",
   "metadata": {},
   "outputs": [
    {
     "name": "stdout",
     "output_type": "stream",
     "text": [
      "Book Information:\n",
      "Title: Python Programming\n",
      "Author(s): John Doe\n",
      "ISBN: 978-0-13-467949-9\n",
      "Publication Year: 2020\n",
      "Available Copies: 5\n",
      "Book 'Python Programming' checked out successfully.\n",
      "Book Information:\n",
      "Title: Python Programming\n",
      "Author(s): John Doe\n",
      "ISBN: 978-0-13-467949-9\n",
      "Publication Year: 2020\n",
      "Available Copies: 4\n",
      "Book 'Python Programming' returned successfully.\n",
      "Book Information:\n",
      "Title: Python Programming\n",
      "Author(s): John Doe\n",
      "ISBN: 978-0-13-467949-9\n",
      "Publication Year: 2020\n",
      "Available Copies: 5\n"
     ]
    }
   ],
   "source": [
    "class Book:\n",
    "    def __init__(self, title, author, isbn, publication_year, available_copies):\n",
    "        self.title = title\n",
    "        self.author = author\n",
    "        self.isbn = isbn\n",
    "        self.publication_year = publication_year\n",
    "        self.available_copies = available_copies\n",
    "\n",
    "    def check_out(self):\n",
    "        if self.available_copies > 0:\n",
    "            self.available_copies -= 1\n",
    "            print(f\"Book '{self.title}' checked out successfully.\")\n",
    "        else:\n",
    "            print(\"Sorry, this book is currently not available for checkout.\")\n",
    "\n",
    "    def return_book(self):\n",
    "        self.available_copies += 1\n",
    "        print(f\"Book '{self.title}' returned successfully.\")\n",
    "\n",
    "    def display_book_info(self):\n",
    "        print(\"Book Information:\")\n",
    "        print(f\"Title: {self.title}\")\n",
    "        print(f\"Author(s): {self.author}\")\n",
    "        print(f\"ISBN: {self.isbn}\")\n",
    "        print(f\"Publication Year: {self.publication_year}\")\n",
    "        print(f\"Available Copies: {self.available_copies}\")\n",
    "\n",
    "\n",
    "# Example usage:\n",
    "book1 = Book(\"Python Programming\", \"John Doe\", \"978-0-13-467949-9\", 2020, 5)\n",
    "book1.display_book_info()\n",
    "\n",
    "book1.check_out()\n",
    "book1.display_book_info()\n",
    "\n",
    "book1.return_book()\n",
    "book1.display_book_info()\n"
   ]
  },
  {
   "cell_type": "markdown",
   "id": "cfe4e216-573f-4b80-a279-fea2b7b85134",
   "metadata": {},
   "source": [
    "This implementation defines a Book class with attributes for title, author, ISBN, publication year, and available copies. It also includes methods for checking out a book, returning a book, and displaying book information. Each method operates on the attributes of the instance it is called on, ensuring encapsulation and adhering to the principles of object-oriented programming."
   ]
  },
  {
   "cell_type": "markdown",
   "id": "534a4182-e75a-40c8-b29d-e1dc2ac6b476",
   "metadata": {},
   "source": [
    "Q8. For a ticket booking system, you have to design the \"Ticket\" class with OOP\n",
    "principles in mind. The “Ticket” class should have the following attributes:\n",
    "a. ticket_id: Represents the unique identifier for the ticket.\n",
    "b. event_name: Represents the name of the event.\n",
    "c. event_date: Represents the date of the event.\n",
    "d. venue: Represents the venue of the event.\n",
    "e. seat_number: Represents the seat number associated with the ticket.\n",
    "f. price: Represents the price of the ticket.\n",
    "g. is_reserved: Represents the reservation status of the ticket.\n",
    "The class also includes the following methods:\n",
    "a. reserve_ticket(self): Marks the ticket as reserved if it is not already reserved.\n",
    "b. cancel_reservation(self): Cancels the reservation of the ticket if it is already\n",
    "reserved.\n",
    "c. display_ticket_info(self): Displays the information about the ticket, including its\n",
    "attributes and reservation status."
   ]
  },
  {
   "cell_type": "markdown",
   "id": "7958d236-7dba-4544-9da5-b55366f1e02b",
   "metadata": {},
   "source": [
    "The implementation of the \"Ticket\" class in Python according to the provided requirements:"
   ]
  },
  {
   "cell_type": "code",
   "execution_count": 9,
   "id": "d1275ce2-abd1-4a0f-aa2e-9073eedd391b",
   "metadata": {},
   "outputs": [
    {
     "name": "stdout",
     "output_type": "stream",
     "text": [
      "Ticket Information:\n",
      "Ticket ID: T123\n",
      "Event Name: Concert\n",
      "Event Date: 2024-03-15\n",
      "Venue: Arena\n",
      "Seat Number: A12\n",
      "Price: 50\n",
      "Reservation Status: Not Reserved\n",
      "Ticket T123 reserved successfully.\n",
      "Ticket Information:\n",
      "Ticket ID: T123\n",
      "Event Name: Concert\n",
      "Event Date: 2024-03-15\n",
      "Venue: Arena\n",
      "Seat Number: A12\n",
      "Price: 50\n",
      "Reservation Status: Reserved\n",
      "Reservation for ticket T123 canceled successfully.\n",
      "Ticket Information:\n",
      "Ticket ID: T123\n",
      "Event Name: Concert\n",
      "Event Date: 2024-03-15\n",
      "Venue: Arena\n",
      "Seat Number: A12\n",
      "Price: 50\n",
      "Reservation Status: Not Reserved\n"
     ]
    }
   ],
   "source": [
    "class Ticket:\n",
    "    def __init__(self, ticket_id, event_name, event_date, venue, seat_number, price):\n",
    "        self.ticket_id = ticket_id\n",
    "        self.event_name = event_name\n",
    "        self.event_date = event_date\n",
    "        self.venue = venue\n",
    "        self.seat_number = seat_number\n",
    "        self.price = price\n",
    "        self.is_reserved = False\n",
    "\n",
    "    def reserve_ticket(self):\n",
    "        if not self.is_reserved:\n",
    "            self.is_reserved = True\n",
    "            print(f\"Ticket {self.ticket_id} reserved successfully.\")\n",
    "        else:\n",
    "            print(\"This ticket is already reserved.\")\n",
    "\n",
    "    def cancel_reservation(self):\n",
    "        if self.is_reserved:\n",
    "            self.is_reserved = False\n",
    "            print(f\"Reservation for ticket {self.ticket_id} canceled successfully.\")\n",
    "        else:\n",
    "            print(\"This ticket is not reserved.\")\n",
    "\n",
    "    def display_ticket_info(self):\n",
    "        print(\"Ticket Information:\")\n",
    "        print(f\"Ticket ID: {self.ticket_id}\")\n",
    "        print(f\"Event Name: {self.event_name}\")\n",
    "        print(f\"Event Date: {self.event_date}\")\n",
    "        print(f\"Venue: {self.venue}\")\n",
    "        print(f\"Seat Number: {self.seat_number}\")\n",
    "        print(f\"Price: {self.price}\")\n",
    "        print(f\"Reservation Status: {'Reserved' if self.is_reserved else 'Not Reserved'}\")\n",
    "\n",
    "\n",
    "# Example usage:\n",
    "ticket1 = Ticket(\"T123\", \"Concert\", \"2024-03-15\", \"Arena\", \"A12\", 50)\n",
    "ticket1.display_ticket_info()\n",
    "\n",
    "ticket1.reserve_ticket()\n",
    "ticket1.display_ticket_info()\n",
    "\n",
    "ticket1.cancel_reservation()\n",
    "ticket1.display_ticket_info()\n"
   ]
  },
  {
   "cell_type": "markdown",
   "id": "cebe1e11-a445-4179-bdb2-010af4347454",
   "metadata": {},
   "source": [
    "This implementation defines a Ticket class with attributes for ticket ID, event name, event date, venue, seat number, price, and reservation status. It also includes methods for reserving a ticket, canceling a reservation, and displaying ticket information. Each method operates on the attributes of the instance it is called on, ensuring encapsulation and adhering to the principles of object-oriented programming."
   ]
  },
  {
   "cell_type": "markdown",
   "id": "899c906a-42fa-4f24-9624-a14e843e5ec6",
   "metadata": {},
   "source": [
    "Q9. You are creating a shopping cart for an e-commerce website. Using OOP to model\n",
    "the \"ShoppingCart\" functionality the class should contain following attributes and\n",
    "methods:\n",
    "a. items: Represents the list of items in the shopping cart.\n",
    "The class also includes the following methods:\n",
    "a. add_item(self, item): Adds an item to the shopping cart by appending it to the\n",
    "list of items.\n",
    "b. remove_item(self, item): Removes an item from the shopping cart if it exists in\n",
    "the list.\n",
    "c. view_cart(self): Displays the items currently present in the shopping cart.\n",
    "d. clear_cart(self): Clears all items from the shopping cart by reassigning an\n",
    "empty list to the items attribute."
   ]
  },
  {
   "cell_type": "markdown",
   "id": "c24e570f-9acc-4992-a410-30d227fecb5b",
   "metadata": {},
   "source": [
    "The implementation of the \"ShoppingCart\" class in Python according to the provided requirements:"
   ]
  },
  {
   "cell_type": "code",
   "execution_count": 10,
   "id": "d56328d0-0b89-48db-95cc-6ea37976fe95",
   "metadata": {},
   "outputs": [
    {
     "name": "stdout",
     "output_type": "stream",
     "text": [
      "Item 'Book' added to the shopping cart.\n",
      "Item 'Laptop' added to the shopping cart.\n",
      "Item 'Phone' added to the shopping cart.\n",
      "Items in the shopping cart:\n",
      "- Book\n",
      "- Laptop\n",
      "- Phone\n",
      "Item 'Book' removed from the shopping cart.\n",
      "Items in the shopping cart:\n",
      "- Laptop\n",
      "- Phone\n",
      "Shopping cart cleared.\n",
      "The shopping cart is empty.\n"
     ]
    }
   ],
   "source": [
    "class ShoppingCart:\n",
    "    def __init__(self):\n",
    "        self.items = []\n",
    "\n",
    "    def add_item(self, item):\n",
    "        self.items.append(item)\n",
    "        print(f\"Item '{item}' added to the shopping cart.\")\n",
    "\n",
    "    def remove_item(self, item):\n",
    "        if item in self.items:\n",
    "            self.items.remove(item)\n",
    "            print(f\"Item '{item}' removed from the shopping cart.\")\n",
    "        else:\n",
    "            print(f\"Item '{item}' is not in the shopping cart.\")\n",
    "\n",
    "    def view_cart(self):\n",
    "        if self.items:\n",
    "            print(\"Items in the shopping cart:\")\n",
    "            for item in self.items:\n",
    "                print(\"-\", item)\n",
    "        else:\n",
    "            print(\"The shopping cart is empty.\")\n",
    "\n",
    "    def clear_cart(self):\n",
    "        self.items = []\n",
    "        print(\"Shopping cart cleared.\")\n",
    "\n",
    "\n",
    "# Example usage:\n",
    "cart = ShoppingCart()\n",
    "\n",
    "cart.add_item(\"Book\")\n",
    "cart.add_item(\"Laptop\")\n",
    "cart.add_item(\"Phone\")\n",
    "\n",
    "cart.view_cart()\n",
    "\n",
    "cart.remove_item(\"Book\")\n",
    "cart.view_cart()\n",
    "\n",
    "cart.clear_cart()\n",
    "cart.view_cart()\n"
   ]
  },
  {
   "cell_type": "markdown",
   "id": "cd0e3712-aa3c-4b4e-8d6e-1b6302afc099",
   "metadata": {},
   "source": [
    "This implementation defines a ShoppingCart class with an attribute for items, representing the list of items in the shopping cart. It also includes methods for adding an item to the shopping cart, removing an item from the shopping cart, viewing the items in the shopping cart, and clearing the shopping cart. Each method operates on the items attribute of the instance it is called on, ensuring encapsulation and adhering to the principles of object-oriented programming."
   ]
  },
  {
   "cell_type": "markdown",
   "id": "e19bdac2-0754-480d-aa42-d6ae619484fb",
   "metadata": {},
   "source": [
    "Q10. Imagine a school management system. You have to design the \"Student\" class using\n",
    "OOP concepts.The “Student” class has the following attributes:\n",
    "a. name: Represents the name of the student.\n",
    "b. age: Represents the age of the student.\n",
    "c. grade: Represents the grade or class of the student.\n",
    "d. student_id: Represents the unique identifier for the student.\n",
    "e. attendance: Represents the attendance record of the student.\n",
    "The class should also include the following methods:\n",
    "a. update_attendance(self, date, status): Updates the attendance record of the\n",
    "student for a given date with the provided status (e.g., present or absent).\n",
    "b. get_attendance(self): Returns the attendance record of the student.\n",
    "c. get_average_attendance(self): Calculates and returns the average\n",
    "attendance percentage of the student based on their attendance record."
   ]
  },
  {
   "cell_type": "markdown",
   "id": "1be0d76d-056e-4ba7-8273-e7ad190d73e8",
   "metadata": {},
   "source": [
    "The implementation of the \"Student\" class in Python according to the provided requirements:"
   ]
  },
  {
   "cell_type": "code",
   "execution_count": 11,
   "id": "5ae35485-f4b2-42bd-a6c5-9d939f7c300b",
   "metadata": {},
   "outputs": [
    {
     "name": "stdout",
     "output_type": "stream",
     "text": [
      "Attendance for 2024-02-03 updated to 'present' for John Doe.\n",
      "Attendance for 2024-02-04 updated to 'absent' for John Doe.\n",
      "Attendance for 2024-02-05 updated to 'present' for John Doe.\n",
      "Attendance record: {'2024-02-03': 'present', '2024-02-04': 'absent', '2024-02-05': 'present'}\n",
      "Average attendance: 66.66666666666666 %\n"
     ]
    }
   ],
   "source": [
    "class Student:\n",
    "    def __init__(self, name, age, grade, student_id):\n",
    "        self.name = name\n",
    "        self.age = age\n",
    "        self.grade = grade\n",
    "        self.student_id = student_id\n",
    "        self.attendance = {}\n",
    "\n",
    "    def update_attendance(self, date, status):\n",
    "        self.attendance[date] = status\n",
    "        print(f\"Attendance for {date} updated to '{status}' for {self.name}.\")\n",
    "\n",
    "    def get_attendance(self):\n",
    "        return self.attendance\n",
    "\n",
    "    def get_average_attendance(self):\n",
    "        total_days = len(self.attendance)\n",
    "        if total_days == 0:\n",
    "            return 0\n",
    "        present_days = sum(1 for status in self.attendance.values() if status == 'present')\n",
    "        return (present_days / total_days) * 100\n",
    "\n",
    "\n",
    "# Example usage:\n",
    "student1 = Student(\"John Doe\", 15, 10, \"S12345\")\n",
    "\n",
    "student1.update_attendance(\"2024-02-03\", \"present\")\n",
    "student1.update_attendance(\"2024-02-04\", \"absent\")\n",
    "student1.update_attendance(\"2024-02-05\", \"present\")\n",
    "\n",
    "print(\"Attendance record:\", student1.get_attendance())\n",
    "print(\"Average attendance:\", student1.get_average_attendance(), \"%\")\n"
   ]
  },
  {
   "cell_type": "markdown",
   "id": "2b5bd2bd-332d-43ef-b70b-3acad5c5480b",
   "metadata": {},
   "source": [
    "This implementation defines a Student class with attributes for name, age, grade, student ID, and attendance record. It also includes methods for updating the attendance record of the student, getting the attendance record, and calculating the average attendance percentage based on the attendance record. Each method operates on the attributes of the instance it is called on, ensuring encapsulation and adhering to the principles of object-oriented programming."
   ]
  }
 ],
 "metadata": {
  "kernelspec": {
   "display_name": "Python 3 (ipykernel)",
   "language": "python",
   "name": "python3"
  },
  "language_info": {
   "codemirror_mode": {
    "name": "ipython",
    "version": 3
   },
   "file_extension": ".py",
   "mimetype": "text/x-python",
   "name": "python",
   "nbconvert_exporter": "python",
   "pygments_lexer": "ipython3",
   "version": "3.10.6"
  }
 },
 "nbformat": 4,
 "nbformat_minor": 5
}
