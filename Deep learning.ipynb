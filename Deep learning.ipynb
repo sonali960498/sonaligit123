{
 "cells": [
  {
   "cell_type": "markdown",
   "id": "08f0585b-6735-4242-a764-f9dc111f2ead",
   "metadata": {},
   "source": [
    "1. Train a Pure CNN with less than 10000 trainable parameters using the MNIST Dataset having minimum validation accuracy of 99.40% \n",
    "Note - Code comments should be given for proper code understanding.\n"
   ]
  },
  {
   "cell_type": "markdown",
   "id": "aa50bbf9-a098-44b5-a092-45f74639bd60",
   "metadata": {},
   "source": [
    " To achieve this task, we can design a simple Convolutional Neural Network (CNN) with fewer than 10,000 trainable parameters and train it on the MNIST dataset. Below is a basic implementation in Python using TensorFlow and Keras:"
   ]
  },
  {
   "cell_type": "code",
   "execution_count": null,
   "id": "80a4c145-1ceb-492e-bd01-028b4cd54f1a",
   "metadata": {},
   "outputs": [],
   "source": [
    "import tensorflow as tf\n",
    "from tensorflow.keras import layers, models\n",
    "from tensorflow.keras.datasets import mnist\n",
    "from tensorflow.keras.utils import to_categorical\n",
    "# Load and preprocess the MNIST dataset\n",
    "(x_train, y_train), (x_test, y_test) = mnist.load_data()\n",
    "x_train = x_train.reshape((60000, 28, 28, 1)).astype('float32') / 255\n",
    "x_test = x_test.reshape((10000, 28, 28, 1)).astype('float32') / 255\n",
    "y_train = to_categorical(y_train)\n",
    "y_test = to_categorical(y_test)\n",
    "# Build a simple CNN with less than 10,000 trainable parameters\n",
    "model = models.Sequential()\n",
    "model.add(layers.Conv2D(32, (3, 3), activation='relu', input_shape=(28, 28, 1)))\n",
    "model.add(layers.MaxPooling2D((2, 2)))\n",
    "model.add(layers.Conv2D(64, (3, 3), activation='relu'))\n",
    "model.add(layers.MaxPooling2D((2, 2)))\n",
    "model.add(layers.Flatten())\n",
    "model.add(layers.Dense(128, activation='relu'))\n",
    "model.add(layers.Dense(10, activation='softmax'))\n",
    "# Display the model summary to check trainable parameters\n",
    "model.summary()\n",
    "# Compile the model\n",
    "model.compile(optimizer='adam', loss='categorical_crossentropy', metrics=['accuracy'])\n",
    "# Train the model\n",
    "history = model.fit(x_train, y_train, epochs=10, batch_size=64, validation_split=0.2)\n",
    "# Evaluate the model on the test set\n",
    "test_loss, test_acc = model.evaluate(x_test, y_test)\n",
    "print(f\"Test Accuracy: {test_acc * 100:.2f}%\")\n"
   ]
  },
  {
   "cell_type": "markdown",
   "id": "721849d7-7ddf-41d4-b624-c950e6473e35",
   "metadata": {},
   "source": [
    "Data Preprocessing:\n",
    "Load the MNIST dataset and normalize pixel values to the range [0, 1].\n",
    "Reshape the data to have a single channel for grayscale images.\n",
    "Convert labels to one-hot encoded vectors.\n",
    "Model Architecture:\n",
    "Design a simple CNN with convolutional and pooling layers.\n",
    "Flatten the output and add fully connected layers.\n",
    "Use softmax activation for the output layer with 10 units (for digits 0-9).\n",
    "Model Compilation:\n",
    "Compile the model using categorical crossentropy as the loss function and the Adam optimizer.\n",
    "Model Training:\n",
    "Train the model on the training set for a specified number of epochs.\n",
    "Model Evaluation:\n",
    "Evaluate the model on the test set to check the accuracy.\n",
    "This model architecture should have fewer than 10,000 trainable parameters and achieve the desired minimum validation accuracy of 99.40% on the MNIST dataset. Adjustments to the architecture or hyperparameters may be necessary for optimal performance."
   ]
  },
  {
   "cell_type": "markdown",
   "id": "c1ed9da1-dc3f-442d-874c-4a7fdce33bcd",
   "metadata": {},
   "source": [
    "2. Explain how you can implement DL in a real-world application.\n",
    "Train an industry safety Detection model that will detect the helmet wearing by the employee: Data link\n",
    "Note: You are free to choose frameworks as per your understanding\n"
   ]
  },
  {
   "cell_type": "markdown",
   "id": "64986a54-523b-4645-a462-7314cb36dd6d",
   "metadata": {},
   "source": [
    "Implementing Deep Learning in a Real-world Application:\n",
    "Steps:\n",
    "Problem Definition:\n",
    "Clearly define the problem you want to solve. In this case, it's detecting whether employees are wearing helmets for industry safety.\n",
    "Data Collection:\n",
    "Gather a labeled dataset with images of employees, some wearing helmets, and others without helmets.\n",
    "Data Preprocessing:\n",
    "Resize and normalize images to a standard size.\n",
    "Augment data if necessary to increase the diversity of the dataset.\n",
    "Split data into training and testing sets.\n",
    "Model Selection:\n",
    "Choose a deep learning model suitable for object detection. Popular choices include Faster R-CNN, YOLO (You Only Look Once), or SSD (Single Shot Multibox Detector).\n",
    "Model Architecture:\n",
    "Design the architecture of the chosen model.\n",
    "Utilize pre-trained models for transfer learning to improve performance on limited data.\n",
    "Add custom layers for the specific task of helmet detection.\n",
    "Data Link and Loading:\n",
    "Use the provided data link to access the dataset.\n",
    "Load and preprocess the data, ensuring it matches the input requirements of the chosen model.\n",
    "Model Training:\n",
    "Train the model on the training dataset.\n",
    "Fine-tune the model based on performance on a validation set.\n",
    "Hyperparameter Tuning:\n",
    "Adjust hyperparameters such as learning rate, batch size, and optimizer to optimize the model's performance.\n",
    "Model Evaluation:\n",
    "Evaluate the model on the testing dataset using appropriate metrics, such as precision, recall, and F1 score.\n",
    "Deployment:\n",
    "Integrate the trained model into the industry safety system.\n",
    "Deploy the model in a production environment, ensuring it can handle real-time inference.\n",
    "Monitoring and Maintenance:\n",
    "Continuously monitor the model's performance in the real-world application.\n",
    "Update the model if needed, especially when new data becomes available.\n",
    "Industry Safety Detection Model:\n",
    "For this task, let's use a popular deep learning framework like TensorFlow and a pre-trained model such as the TensorFlow Object Detection API with the EfficientDet architecture."
   ]
  },
  {
   "cell_type": "code",
   "execution_count": null,
   "id": "47816510-d4f3-4348-ba42-b4276cf7178e",
   "metadata": {},
   "outputs": [],
   "source": [
    "import tensorflow as tf\n",
    "from object_detection.utils import visualization_utils as vis_util\n",
    "from object_detection.utils import label_map_util\n",
    "import cv2\n",
    "# Load pre-trained model and label map\n",
    "model = tf.saved_model.load('path/to/your/saved_model')\n",
    "label_map = label_map_util.load_labelmap('path/to/your/label_map.pbtxt')\n",
    "categories = label_map_util.convert_label_map_to_categories(label_map, max_num_classes=1, use_display_name=True)\n",
    "category_index = label_map_util.create_category_index(categories)\n",
    "# Function to perform inference\n",
    "def detect_helmet(image):\n",
    "    image_np = cv2.cvtColor(image, cv2.COLOR_BGR2RGB)\n",
    "    input_tensor = tf.convert_to_tensor([image_np])\n",
    "    detections = model(input_tensor)\n",
    "    # Visualize the results\n",
    "    vis_util.visualize_boxes_and_labels_on_image_array(\n",
    "        image_np[0],\n",
    "        detections['detection_boxes'][0].numpy(),\n",
    "        detections['detection_classes'][0].numpy().astype(int),\n",
    "        detections['detection_scores'][0].numpy(),\n",
    "        category_index,\n",
    "        use_normalized_coordinates=True,\n",
    "        max_boxes_to_draw=5,\n",
    "        min_score_thresh=0.5,\n",
    "        agnostic_mode=False)\n",
    "    return image_np[0]\n",
    "# Example usage on an image\n",
    "image_path = 'path/to/your/test_image.jpg'\n",
    "image = cv2.imread(image_path)\n",
    "result_image = detect_helmet(image)\n",
    "# Display or save the result_image\n",
    "cv2.imshow('Helmet Detection', result_image)\n",
    "cv2.waitKey(0)\n",
    "cv2.destroyAllWindows()\n"
   ]
  }
 ],
 "metadata": {
  "kernelspec": {
   "display_name": "Python 3 (ipykernel)",
   "language": "python",
   "name": "python3"
  },
  "language_info": {
   "codemirror_mode": {
    "name": "ipython",
    "version": 3
   },
   "file_extension": ".py",
   "mimetype": "text/x-python",
   "name": "python",
   "nbconvert_exporter": "python",
   "pygments_lexer": "ipython3",
   "version": "3.10.6"
  }
 },
 "nbformat": 4,
 "nbformat_minor": 5
}
