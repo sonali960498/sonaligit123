{
 "cells": [
  {
   "cell_type": "markdown",
   "id": "766512f0-0411-4b93-a56e-d9481577b5b2",
   "metadata": {},
   "source": [
    "Q1. Explain what inheritance is in object-oriented programming and why it is used."
   ]
  },
  {
   "cell_type": "markdown",
   "id": "3bedf814-f1ef-4f55-84e2-27830731fe54",
   "metadata": {},
   "source": [
    "In object-oriented programming (OOP), inheritance is a mechanism by which a new class (called a derived class or subclass) is created from an existing class (called a base class or superclass). The derived class inherits attributes and methods from the base class, allowing it to reuse code and extend functionality.\n",
    "\n",
    "Inheritance is used for several reasons:\n",
    "\n",
    "1.Code Reusability: Inheritance allows you to define common attributes and methods in a base class and then reuse them in multiple derived classes. This promotes code reusability, as you don't need to duplicate code across multiple classes.\n",
    "\n",
    "2.Modularity and Extensibility: Inheritance facilitates modular design by allowing you to organize classes into a hierarchy based on their relationships. You can create specialized subclasses that inherit from a common base class and add additional attributes or methods specific to the subclass. This makes it easier to extend and customize functionality without modifying the base class.\n",
    "\n",
    "3.Polymorphism: Inheritance enables polymorphic behavior, where objects of different classes can be treated interchangeably if they share a common base class. This allows for more flexible and generic code that can operate on objects of different types without needing to know their specific implementations.\n",
    "\n",
    "4.Maintainability: Inheritance promotes a hierarchical structure that makes code easier to understand and maintain. By defining common functionality in a base class, changes or updates to that functionality only need to be made in one place, reducing the risk of errors and improving maintainability.\n",
    "\n",
    "Overall, inheritance is a powerful concept in OOP that promotes code reuse, modularity, extensibility, polymorphism, and maintainability, making it a fundamental aspect of object-oriented design.\n"
   ]
  },
  {
   "cell_type": "markdown",
   "id": "57725916-8b2a-4e4f-8b65-0529c0039893",
   "metadata": {},
   "source": [
    "Q2. Discuss the concept of single inheritance and multiple inheritance, highlighting their differences and advantages."
   ]
  },
  {
   "cell_type": "markdown",
   "id": "50ec4ee0-c511-4412-bb8c-6a3b439856db",
   "metadata": {},
   "source": [
    "Single inheritance and multiple inheritance are both mechanisms provided by object-oriented programming languages like Python to facilitate code reuse and hierarchy in class structures. Let's discuss each concept and highlight their differences and advantages:\n",
    "\n",
    "Single Inheritance:\n",
    "In single inheritance, a class can inherit attributes and methods from only one base class. This means that each derived class has only one immediate parent class in its inheritance hierarchy.\n",
    "\n",
    "Example:"
   ]
  },
  {
   "cell_type": "code",
   "execution_count": 1,
   "id": "12f84cc4-61fe-4aad-b7a1-9f2861083490",
   "metadata": {},
   "outputs": [],
   "source": [
    "class Animal:\n",
    "    def speak(self):\n",
    "        print(\"Animal speaks.\")\n",
    "\n",
    "class Dog(Animal):  # Dog inherits from Animal\n",
    "    def bark(self):\n",
    "        print(\"Dog barks.\")\n",
    "\n",
    "# Dog inherits from Animal\n"
   ]
  },
  {
   "cell_type": "markdown",
   "id": "6e2acffb-5cf4-4518-bfa3-42218d5b4da0",
   "metadata": {},
   "source": [
    "Advantages:\n",
    "\n",
    "1.Simplicity: Single inheritance simplifies the class hierarchy by limiting each class to one parent class. This can make the code easier to understand and maintain.\n",
    "\n",
    "2.Avoids Diamond Problem: Single inheritance helps avoid the diamond problem, a common issue in multiple inheritance where ambiguities arise due to conflicting method implementations from multiple parent classes.\n",
    "\n",
    "Multiple Inheritance:\n",
    "In multiple inheritance, a class can inherit attributes and methods from more than one base class. This means that each derived class can have multiple parent classes in its inheritance hierarchy.\n",
    "\n",
    "Example:"
   ]
  },
  {
   "cell_type": "code",
   "execution_count": 2,
   "id": "51f65232-92ac-4a07-bdc1-2f100ae7a557",
   "metadata": {},
   "outputs": [],
   "source": [
    "class Car:\n",
    "    def drive(self):\n",
    "        print(\"Car is driving.\")\n",
    "\n",
    "class Electric:\n",
    "    def charge(self):\n",
    "        print(\"Car is charging.\")\n",
    "\n",
    "class ElectricCar(Car, Electric):  # ElectricCar inherits from Car and Electric\n",
    "    pass\n",
    "\n",
    "# ElectricCar inherits from both Car and Electric\n"
   ]
  },
  {
   "cell_type": "markdown",
   "id": "8a76cff9-f1a3-4c90-bc41-9e7326e69ee3",
   "metadata": {},
   "source": [
    "Advantages:\n",
    "\n",
    "Code Reusability: Multiple inheritance allows for more extensive code reuse by inheriting behavior from multiple parent classes. This can reduce code duplication and promote modularity.\n",
    "\n",
    "Flexibility: Multiple inheritance provides greater flexibility in designing class hierarchies. It allows for creating specialized classes that combine features from multiple parent classes, enabling more diverse and complex behaviors.\n",
    "\n",
    "Promotes Composition: Multiple inheritance can be used to simulate composition, where a class combines the functionality of multiple other classes. This can lead to more modular and flexible designs.\n",
    "\n",
    "Differences:\n",
    "\n",
    "Number of Parent Classes: Single inheritance involves only one parent class, while multiple inheritance involves multiple parent classes.\n",
    "\n",
    "Hierarchy Complexity: Single inheritance typically results in a simpler class hierarchy compared to multiple inheritance, which can lead to more complex hierarchies.\n",
    "\n",
    "Diamond Problem: Multiple inheritance can lead to the diamond problem, where conflicts arise if two or more parent classes have methods with the same name. This problem is not present in single inheritance."
   ]
  },
  {
   "cell_type": "markdown",
   "id": "d885a536-bb13-4a8b-b9b2-ff79655aa360",
   "metadata": {},
   "source": [
    "Q3. Explain the terms \"base class\" and \"derived class\" in the context of inheritance."
   ]
  },
  {
   "cell_type": "markdown",
   "id": "ea917610-a598-4bb7-8484-6c94c6b08d75",
   "metadata": {},
   "source": [
    "In the context of inheritance in object-oriented programming (OOP), the terms \"base class\" and \"derived class\" refer to the relationship between classes within an inheritance hierarchy.\n",
    "\n",
    "1.Base Class (or Superclass):\n",
    "\n",
    "A base class, also known as a superclass or parent class, is the class from which other classes inherit attributes and methods.\n",
    "It serves as the foundation or blueprint for creating new classes.\n",
    "Base classes typically define common behavior and attributes that are shared among multiple subclasses.\n",
    "Base classes may or may not have their own instances; they are primarily designed to be inherited by other classes.\n",
    "Example: In a hierarchy of shapes, a base class Shape might define common properties and methods such as area() and perimeter().\n",
    "Derived Class (or Subclass):\n",
    "\n",
    "2.A derived class, also known as a subclass or child class, is a class that inherits attributes and methods from a base class.\n",
    "Derived classes extend or specialize the functionality of the base class by adding new attributes or methods or by overriding existing ones.\n",
    "Derived classes can have their own attributes and methods in addition to those inherited from the base class.\n",
    "Example: In the hierarchy of shapes, Circle and Rectangle might be derived classes of the Shape base class. They inherit properties and methods such as area() and perimeter() from Shape but may also have their own specific attributes and methods, such as radius for Circle and length and width for Rectangle.\n",
    "\n",
    "A base class provides a blueprint for creating new classes and defines common behavior shared by multiple subclasses, while derived classes inherit attributes and methods from a base class and can extend or specialize that functionality as needed. The relationship between base classes and derived classes forms the foundation of inheritance, which is a key concept in object-oriented programming."
   ]
  },
  {
   "cell_type": "markdown",
   "id": "53dbb1f9-1415-4b35-9e53-e9f7a9949044",
   "metadata": {},
   "source": [
    "Q4. What is the significance of the \"protected\" access modifier in inheritance? How does it differ from \"private\" and \"public\" modifiers?"
   ]
  },
  {
   "cell_type": "markdown",
   "id": "7734a6c5-0a29-42a5-a554-03cd0fff725b",
   "metadata": {},
   "source": [
    "In object-oriented programming, access modifiers are keywords that define the visibility and accessibility of class members (attributes and methods) from outside the class. In Python, there are three main access modifiers: \"public\", \"protected\", and \"private\". Let's discuss each modifier and then focus on the significance of the \"protected\" access modifier in inheritance:\n",
    "\n",
    "1.Public: Public members are accessible from outside the class. They can be accessed by any code that has access to the object. In Python, all members are public by default unless specified otherwise.\n",
    "\n",
    "2.Protected: Protected members are accessible within the class itself and by its subclasses (derived classes). In Python, protected members are conventionally denoted with a single leading underscore (_). While they can be accessed from outside the class, it is considered a best practice not to do so to maintain encapsulation.\n",
    "\n",
    "3.Private: Private members are only accessible within the class itself. They cannot be accessed directly from outside the class, not even by subclasses. In Python, private members are conventionally denoted with a double leading underscore (__).\n",
    "\n",
    "The significance of the \"protected\" access modifier in inheritance:\n",
    "\n",
    "Significance of \"protected\" access modifier in inheritance:\n",
    "*The \"protected\" access modifier allows subclasses (derived classes) to access and modify attributes and methods of their base class.\n",
    "*It promotes code reuse and extension by allowing subclasses to inherit and use the behavior and attributes of their base class, even though those members may not be intended for direct access by external code.\n",
    "*It provides a middle ground between \"public\" and \"private\" access, allowing subclasses to access necessary internal functionality without exposing it to external code.\n",
    "*\"Protected\" members are typically used when certain attributes or methods need to be accessible within a class hierarchy but should not be directly accessible from outside the hierarchy.\n",
    "\n",
    "The \"protected\" access modifier in inheritance allows subclasses to access and use the attributes and methods of their base class, promoting code reuse, extension, and encapsulation within class hierarchies. It provides a balance between accessibility and encapsulation, making it a useful tool in designing and implementing object-oriented systems."
   ]
  },
  {
   "cell_type": "markdown",
   "id": "8330c997-09c7-43c2-bb4f-9e0759b836d8",
   "metadata": {},
   "source": [
    "Q5. What is the purpose of the \"super\" keyword in inheritance? Provide an example."
   ]
  },
  {
   "cell_type": "markdown",
   "id": "db763541-cb09-426b-b2d4-7c992379a290",
   "metadata": {},
   "source": [
    "In Python, the super() keyword is used to call methods and access attributes from the parent class (superclass) within a subclass. It provides a way to invoke the superclass's methods and constructors, allowing for code reuse and facilitating the extension of functionality in subclasses.\n",
    "\n",
    "The purpose of the super() keyword in inheritance is to explicitly reference the superclass's methods and constructors, especially when the subclass overrides those methods or constructors. It ensures that the superclass's implementation is executed along with any additional functionality provided by the subclass.\n",
    "\n",
    "Example to illustrate the purpose of the super() keyword in inheritance:"
   ]
  },
  {
   "cell_type": "code",
   "execution_count": 3,
   "id": "a3ebfcc0-d1b2-4c0a-bb4f-0c0b0a908aa7",
   "metadata": {},
   "outputs": [
    {
     "name": "stdout",
     "output_type": "stream",
     "text": [
      "Toyota vehicle engine started.\n",
      "Car model Corolla engine started.\n"
     ]
    }
   ],
   "source": [
    "class Vehicle:\n",
    "    def __init__(self, brand):\n",
    "        self.brand = brand\n",
    "\n",
    "    def start_engine(self):\n",
    "        print(f\"{self.brand} vehicle engine started.\")\n",
    "\n",
    "class Car(Vehicle):\n",
    "    def __init__(self, brand, model):\n",
    "        super().__init__(brand)  # Calling superclass constructor\n",
    "        self.model = model\n",
    "\n",
    "    def start_engine(self):\n",
    "        super().start_engine()  # Calling superclass method\n",
    "        print(f\"Car model {self.model} engine started.\")\n",
    "\n",
    "# Creating an instance of the Car class\n",
    "my_car = Car(\"Toyota\", \"Corolla\")\n",
    "\n",
    "# Calling the start_engine method of the Car class\n",
    "my_car.start_engine()\n"
   ]
  },
  {
   "cell_type": "markdown",
   "id": "46e7f17b-8e5d-43c4-b0a4-b7d5a7b819d1",
   "metadata": {},
   "source": [
    "In this example:\n",
    "\n",
    "*We have a base class Vehicle with an __init__ method and a start_engine method.\n",
    "*We have a subclass Car that inherits from Vehicle and overrides the __init__ and start_engine methods.\n",
    "*In the Car subclass, the __init__ method uses super() to call the constructor of the superclass (Vehicle) to initialize the brand attribute.\n",
    "*In the start_engine method of the Car subclass, super() is used to call the start_engine method of the superclass (Vehicle) before printing additional information specific to the Car subclass."
   ]
  },
  {
   "cell_type": "markdown",
   "id": "98e2c6e1-00dd-407b-a84e-f1e49ab2747a",
   "metadata": {},
   "source": [
    "Q6. Create a base class called \"Vehicle\" with attributes like \"make\", \"model\", and \"year\".\n",
    "Then, create a derived class called \"Car\" that inherits from \"Vehicle\" and adds an\n",
    "attribute called \"fuel_type\". Implement appropriate methods in both classes"
   ]
  },
  {
   "cell_type": "markdown",
   "id": "40c63d7f-f39d-46e8-84db-206d04a4a0f4",
   "metadata": {},
   "source": [
    "The implementation of the \"Vehicle\" base class and the \"Car\" derived class in Python:"
   ]
  },
  {
   "cell_type": "code",
   "execution_count": 4,
   "id": "70e5720c-66a5-4fdb-ac23-7d8aa9ad6a6f",
   "metadata": {},
   "outputs": [
    {
     "name": "stdout",
     "output_type": "stream",
     "text": [
      "Vehicle Information:\n",
      "Make: Toyota, Model: Corolla, Year: 2022\n",
      "\n",
      "Car Information:\n",
      "Make: Honda, Model: Accord, Year: 2023\n",
      "Fuel Type: Gasoline\n"
     ]
    }
   ],
   "source": [
    "class Vehicle:\n",
    "    def __init__(self, make, model, year):\n",
    "        self.make = make\n",
    "        self.model = model\n",
    "        self.year = year\n",
    "\n",
    "    def display_info(self):\n",
    "        print(f\"Make: {self.make}, Model: {self.model}, Year: {self.year}\")\n",
    "\n",
    "class Car(Vehicle):\n",
    "    def __init__(self, make, model, year, fuel_type):\n",
    "        super().__init__(make, model, year)\n",
    "        self.fuel_type = fuel_type\n",
    "\n",
    "    def display_info(self):\n",
    "        super().display_info()\n",
    "        print(f\"Fuel Type: {self.fuel_type}\")\n",
    "\n",
    "# Creating instances of Vehicle and Car classes\n",
    "vehicle1 = Vehicle(\"Toyota\", \"Corolla\", 2022)\n",
    "car1 = Car(\"Honda\", \"Accord\", 2023, \"Gasoline\")\n",
    "\n",
    "# Displaying information about the vehicle and car\n",
    "print(\"Vehicle Information:\")\n",
    "vehicle1.display_info()\n",
    "\n",
    "print(\"\\nCar Information:\")\n",
    "car1.display_info()\n"
   ]
  },
  {
   "cell_type": "markdown",
   "id": "2c884d05-7784-4fc4-8c5e-104f208a963b",
   "metadata": {},
   "source": [
    "In this implementation:\n",
    "\n",
    "*The Vehicle class serves as the base class with attributes make, model, and year, and a method display_info() to display information about the vehicle.\n",
    "*The Car class inherits from the Vehicle class and adds an additional attribute fuel_type.\n",
    "*Both classes have an __init__ method to initialize their attributes and a display_info() method to display information about the vehicle or car.\n",
    "*In the Car class, super().__init__(make, model, year) is used to call the constructor of the superclass (Vehicle) to initialize the make, model, and year attributes. Then, the fuel_type attribute is initialized separately.\n",
    "*The display_info() method in the Car class calls the display_info() method of the superclass (Vehicle) using super().display_info() to display information about the car along with the additional fuel_type attribute."
   ]
  },
  {
   "cell_type": "markdown",
   "id": "1b7eb77f-1ef1-4dfe-a821-c4bf7b7e8432",
   "metadata": {},
   "source": [
    "Q7. Create a base class called \"Employee\" with attributes like \"name\" and \"salary.\"\n",
    "Derive two classes, \"Manager\" and \"Developer,\" from \"Employee.\" Add an additional\n",
    "attribute called \"department\" for the \"Manager\" class and \"programming_language\"\n",
    "for the \"Developer\" class."
   ]
  },
  {
   "cell_type": "markdown",
   "id": "a0818950-2e5c-468f-afea-3e46ef8c7e9f",
   "metadata": {},
   "source": [
    "The implementation of the \"Employee\" base class and the derived classes \"Manager\" and \"Developer\" in Python:"
   ]
  },
  {
   "cell_type": "code",
   "execution_count": 5,
   "id": "b2c2c8c2-31a0-431a-bd75-35d135827d24",
   "metadata": {},
   "outputs": [
    {
     "name": "stdout",
     "output_type": "stream",
     "text": [
      "Manager Information:\n",
      "Name: John Doe\n",
      "Salary: 80000\n",
      "Department: Engineering\n",
      "\n",
      "Developer Information:\n",
      "Name: Jane Smith\n",
      "Salary: 70000\n",
      "Programming Language: Python\n"
     ]
    }
   ],
   "source": [
    "class Employee:\n",
    "    def __init__(self, name, salary):\n",
    "        self.name = name\n",
    "        self.salary = salary\n",
    "\n",
    "class Manager(Employee):\n",
    "    def __init__(self, name, salary, department):\n",
    "        super().__init__(name, salary)\n",
    "        self.department = department\n",
    "\n",
    "class Developer(Employee):\n",
    "    def __init__(self, name, salary, programming_language):\n",
    "        super().__init__(name, salary)\n",
    "        self.programming_language = programming_language\n",
    "\n",
    "# Creating instances of Manager and Developer classes\n",
    "manager1 = Manager(\"John Doe\", 80000, \"Engineering\")\n",
    "developer1 = Developer(\"Jane Smith\", 70000, \"Python\")\n",
    "\n",
    "# Displaying information about the manager and developer\n",
    "print(\"Manager Information:\")\n",
    "print(\"Name:\", manager1.name)\n",
    "print(\"Salary:\", manager1.salary)\n",
    "print(\"Department:\", manager1.department)\n",
    "\n",
    "print(\"\\nDeveloper Information:\")\n",
    "print(\"Name:\", developer1.name)\n",
    "print(\"Salary:\", developer1.salary)\n",
    "print(\"Programming Language:\", developer1.programming_language)\n"
   ]
  },
  {
   "cell_type": "markdown",
   "id": "a4d17f78-1587-4d79-b358-3f4644dda058",
   "metadata": {},
   "source": [
    "In this implementation:\n",
    "\n",
    "*The Employee class serves as the base class with attributes name and salary.\n",
    "*The Manager class and the Developer class inherit from the Employee class and add additional attributes department and programming_language, respectively.\n",
    "*Both derived classes have an __init__ method to initialize their attributes, where super().__init__(name, salary) is used to call the constructor of the superclass (Employee) to initialize the name and salary attributes.\n",
    "*Instances of the Manager and Developer classes are created with their respective attributes.\n",
    "*Information about the manager and developer is displayed using print statements."
   ]
  },
  {
   "cell_type": "markdown",
   "id": "82a464b5-4db2-415e-8366-677fe4a88b89",
   "metadata": {},
   "source": [
    "Q8. Design a base class called \"Shape\" with attributes like \"colour\" and \"border_width.\"\n",
    "Create derived classes, \"Rectangle\" and \"Circle,\" that inherit from \"Shape\" and add\n",
    "specific attributes like \"length\" and \"width\" for the \"Rectangle\" class and \"radius\" for\n",
    "the \"Circle\" class."
   ]
  },
  {
   "cell_type": "markdown",
   "id": "2590feef-56a0-4970-9ce6-24d72481445c",
   "metadata": {},
   "source": [
    "The implementation of the \"Shape\" base class and the derived classes \"Rectangle\" and \"Circle\" in Python:"
   ]
  },
  {
   "cell_type": "code",
   "execution_count": 6,
   "id": "0ccb193e-c1de-447c-9f60-6ffd1fe56af4",
   "metadata": {},
   "outputs": [
    {
     "name": "stdout",
     "output_type": "stream",
     "text": [
      "Rectangle Information:\n",
      "Colour: blue\n",
      "Border Width: 2\n",
      "Length: 5\n",
      "Width: 3\n",
      "\n",
      "Circle Information:\n",
      "Colour: red\n",
      "Border Width: 1\n",
      "Radius: 4\n"
     ]
    }
   ],
   "source": [
    "class Shape:\n",
    "    def __init__(self, colour, border_width):\n",
    "        self.colour = colour\n",
    "        self.border_width = border_width\n",
    "\n",
    "class Rectangle(Shape):\n",
    "    def __init__(self, colour, border_width, length, width):\n",
    "        super().__init__(colour, border_width)\n",
    "        self.length = length\n",
    "        self.width = width\n",
    "\n",
    "class Circle(Shape):\n",
    "    def __init__(self, colour, border_width, radius):\n",
    "        super().__init__(colour, border_width)\n",
    "        self.radius = radius\n",
    "\n",
    "# Creating instances of Rectangle and Circle classes\n",
    "rectangle1 = Rectangle(\"blue\", 2, 5, 3)\n",
    "circle1 = Circle(\"red\", 1, 4)\n",
    "\n",
    "# Displaying information about the rectangle and circle\n",
    "print(\"Rectangle Information:\")\n",
    "print(\"Colour:\", rectangle1.colour)\n",
    "print(\"Border Width:\", rectangle1.border_width)\n",
    "print(\"Length:\", rectangle1.length)\n",
    "print(\"Width:\", rectangle1.width)\n",
    "\n",
    "print(\"\\nCircle Information:\")\n",
    "print(\"Colour:\", circle1.colour)\n",
    "print(\"Border Width:\", circle1.border_width)\n",
    "print(\"Radius:\", circle1.radius)\n"
   ]
  },
  {
   "cell_type": "markdown",
   "id": "a16da16a-4ee5-4702-9d53-44e37cf4d06a",
   "metadata": {},
   "source": [
    "In this implementation:\n",
    "\n",
    "*The Shape class serves as the base class with attributes colour and border_width.\n",
    "*The Rectangle class and the Circle class inherit from the Shape class and add additional attributes length and width for rectangles and radius for circles, respectively.\n",
    "*Both derived classes have an __init__ method to initialize their attributes, where super().__init__(colour, border_width) is used to call the constructor of the superclass (Shape) to initialize the colour and border_width attributes.\n",
    "*Instances of the Rectangle and Circle classes are created with their respective attributes.\n",
    "*Information about the rectangle and circle is displayed using print statements."
   ]
  },
  {
   "cell_type": "markdown",
   "id": "c2d20e42-c0a7-4c94-b6e1-f4c6a361c085",
   "metadata": {},
   "source": [
    "Q9. Create a base class called \"Device\" with attributes like \"brand\" and \"model.\" Derive\n",
    "two classes, \"Phone\" and \"Tablet,\" from \"Device.\" Add specific attributes like\n",
    "\"screen_size\" for the \"Phone\" class and \"battery_capacity\" for the \"Tablet\" class."
   ]
  },
  {
   "cell_type": "markdown",
   "id": "154bc919-f46a-44cd-9316-d47495b8760b",
   "metadata": {},
   "source": [
    "The implementation of the \"Device\" base class and the derived classes \"Phone\" and \"Tablet\" in Python:"
   ]
  },
  {
   "cell_type": "code",
   "execution_count": 7,
   "id": "932cde90-9009-40aa-a5c2-641e4db212c6",
   "metadata": {},
   "outputs": [
    {
     "name": "stdout",
     "output_type": "stream",
     "text": [
      "Phone Information:\n",
      "Brand: Apple\n",
      "Model: iPhone 13\n",
      "Screen Size: 6.1 inches\n",
      "\n",
      "Tablet Information:\n",
      "Brand: Samsung\n",
      "Model: Galaxy Tab S7\n",
      "Battery Capacity: 10000 mAh\n"
     ]
    }
   ],
   "source": [
    "class Device:\n",
    "    def __init__(self, brand, model):\n",
    "        self.brand = brand\n",
    "        self.model = model\n",
    "\n",
    "class Phone(Device):\n",
    "    def __init__(self, brand, model, screen_size):\n",
    "        super().__init__(brand, model)\n",
    "        self.screen_size = screen_size\n",
    "\n",
    "class Tablet(Device):\n",
    "    def __init__(self, brand, model, battery_capacity):\n",
    "        super().__init__(brand, model)\n",
    "        self.battery_capacity = battery_capacity\n",
    "\n",
    "# Creating instances of Phone and Tablet classes\n",
    "phone1 = Phone(\"Apple\", \"iPhone 13\", 6.1)\n",
    "tablet1 = Tablet(\"Samsung\", \"Galaxy Tab S7\", 10000)\n",
    "\n",
    "# Displaying information about the phone and tablet\n",
    "print(\"Phone Information:\")\n",
    "print(\"Brand:\", phone1.brand)\n",
    "print(\"Model:\", phone1.model)\n",
    "print(\"Screen Size:\", phone1.screen_size, \"inches\")\n",
    "\n",
    "print(\"\\nTablet Information:\")\n",
    "print(\"Brand:\", tablet1.brand)\n",
    "print(\"Model:\", tablet1.model)\n",
    "print(\"Battery Capacity:\", tablet1.battery_capacity, \"mAh\")\n"
   ]
  },
  {
   "cell_type": "markdown",
   "id": "f4dbfb88-96d2-4766-ac63-ea5a020f8168",
   "metadata": {},
   "source": [
    "In this implementation:\n",
    "\n",
    "*The Device class serves as the base class with attributes brand and model.\n",
    "*The Phone class and the Tablet class inherit from the Device class and add additional attributes screen_size for phones and battery_capacity for tablets, respectively.\n",
    "*Both derived classes have an __init__ method to initialize their attributes, where super().__init__(brand, model) is used to call the constructor of the superclass (Device) to initialize the brand and model attributes.\n",
    "*Instances of the Phone and Tablet classes are created with their respective attributes.\n",
    "*Information about the phone and tablet is displayed using print statements."
   ]
  },
  {
   "cell_type": "markdown",
   "id": "0cb40b40-1f7c-4b39-8c3c-98e2407618c4",
   "metadata": {},
   "source": [
    "Q10. Create a base class called \"BankAccount\" with attributes like \"account_number\" and\n",
    "\"balance.\" Derive two classes, \"SavingsAccount\" and \"CheckingAccount,\" from\n",
    "\"BankAccount.\" Add specific methods like \"calculate_interest\" for the\n",
    "\"SavingsAccount\" class and \"deduct_fees\" for the \"CheckingAccount\" class"
   ]
  },
  {
   "cell_type": "markdown",
   "id": "16359a07-29ce-4870-9144-0af30d3d8db4",
   "metadata": {},
   "source": [
    "The implementation of the \"BankAccount\" base class and the derived classes \"SavingsAccount\" and \"CheckingAccount\" in Python:"
   ]
  },
  {
   "cell_type": "code",
   "execution_count": 9,
   "id": "79bc4175-bf3f-4fcf-a8ed-0cc9b24a35b0",
   "metadata": {},
   "outputs": [
    {
     "name": "stdout",
     "output_type": "stream",
     "text": [
      "Savings Account Balance after interest: 1020.0\n",
      "Checking Account Balance after fees deduction: 1990\n"
     ]
    }
   ],
   "source": [
    "class BankAccount:\n",
    "    def __init__(self, account_number, balance):\n",
    "        self.account_number = account_number\n",
    "        self.balance = balance\n",
    "\n",
    "class SavingsAccount(BankAccount):\n",
    "    def __init__(self, account_number, balance):\n",
    "        super().__init__(account_number, balance)\n",
    "\n",
    "    def calculate_interest(self, interest_rate):\n",
    "        interest = self.balance * (interest_rate / 100)\n",
    "        self.balance += interest\n",
    "        return interest\n",
    "\n",
    "class CheckingAccount(BankAccount):\n",
    "    def __init__(self, account_number, balance):\n",
    "        super().__init__(account_number, balance)\n",
    "\n",
    "    def deduct_fees(self, fee_amount):\n",
    "        if self.balance >= fee_amount:\n",
    "            self.balance -= fee_amount\n",
    "            return fee_amount\n",
    "        else:\n",
    "            return 0  # No fees deducted if balance is insufficient\n",
    "\n",
    "# Creating instances of SavingsAccount and CheckingAccount classes\n",
    "savings_account = SavingsAccount(\"SA123456\", 1000)\n",
    "checking_account = CheckingAccount(\"CA789012\", 2000)\n",
    "\n",
    "# Testing methods\n",
    "savings_interest = savings_account.calculate_interest(2)  # 2% interest rate\n",
    "checking_fees = checking_account.deduct_fees(10)  # $10 fees deducted\n",
    "\n",
    "# Displaying updated balances\n",
    "print(\"Savings Account Balance after interest:\", savings_account.balance)\n",
    "print(\"Checking Account Balance after fees deduction:\", checking_account.balance)\n"
   ]
  },
  {
   "cell_type": "markdown",
   "id": "8ab78e55-5f29-4c8f-a663-f116863eb48e",
   "metadata": {},
   "source": [
    "In this implementation:\n",
    "\n",
    "*The BankAccount class serves as the base class with attributes account_number and balance.\n",
    "*The SavingsAccount class and the CheckingAccount class inherit from the BankAccount class.\n",
    "*Each derived class has an __init__ method to initialize the attributes, where super().__init__(account_number, balance) is used to call the constructor of the superclass (BankAccount) to initialize the account_number and balance attributes.\n",
    "*The SavingsAccount class has a method calculate_interest to calculate and add interest to the account balance based on a given interest rate.\n",
    "*The CheckingAccount class has a method deduct_fees to deduct fees from the account balance if sufficient funds are available.\n",
    "*Instances of the SavingsAccount and CheckingAccount classes are created, and their methods are tested with sample interest rates and fee amounts.\n",
    "*The updated balances of the accounts are displayed after applying interest and deducting fees."
   ]
  }
 ],
 "metadata": {
  "kernelspec": {
   "display_name": "Python 3 (ipykernel)",
   "language": "python",
   "name": "python3"
  },
  "language_info": {
   "codemirror_mode": {
    "name": "ipython",
    "version": 3
   },
   "file_extension": ".py",
   "mimetype": "text/x-python",
   "name": "python",
   "nbconvert_exporter": "python",
   "pygments_lexer": "ipython3",
   "version": "3.10.6"
  }
 },
 "nbformat": 4,
 "nbformat_minor": 5
}
