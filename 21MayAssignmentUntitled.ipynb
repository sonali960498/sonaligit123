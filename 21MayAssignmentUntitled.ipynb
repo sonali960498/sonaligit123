{
 "cells": [
  {
   "cell_type": "markdown",
   "id": "710ff75b-7761-4b17-b03d-ae77af8cf80b",
   "metadata": {},
   "source": [
    "#Q.1 Create two int type variables,apply addition,subtraction,division and multiplications and store the results in variables.Then print the data in the following format by calling the variables:\n",
    "\n",
    "First variable is _ and second variable is _.\n",
    "Addition: _+_=_\n",
    "Subtraction: _-_=_\n",
    "Multiplication: _*_=_\n",
    "Division: _/_=_"
   ]
  },
  {
   "cell_type": "code",
   "execution_count": 4,
   "id": "16f7f500-f93d-4595-b22c-a4a4b469e1eb",
   "metadata": {},
   "outputs": [
    {
     "name": "stdout",
     "output_type": "stream",
     "text": [
      "First variable is 10 second variable is 5\n",
      "Addition: 10 + 5 =Addition\n",
      "Subtraction: 10 - 5 =subtraction\n",
      "Multiplication: 10 * 5 =Multiplication\n",
      "Division: 10 / 5 =Division\n"
     ]
    }
   ],
   "source": [
    "# Define the variables\n",
    "first_variable = 10\n",
    "second_variable = 5\n",
    "\n",
    "# Pperform arithmetic operations\n",
    "addition = first_variable + second_variable\n",
    "subtraction = first_variable - second_variable\n",
    "multiplication = first_variable * second_variable\n",
    "division = first_variable / second_variable\n",
    "\n",
    "# Print the formatted output\n",
    "print(\"First variable is\", first_variable,\"second variable is\", second_variable)\n",
    "print(\"Addition:\", first_variable, \"+\", second_variable,\"=\" \"Addition\")\n",
    "print(\"Subtraction:\", first_variable, \"-\", second_variable,\"=\" \"subtraction\")\n",
    "print(\"Multiplication:\",first_variable,\"*\",second_variable,\"=\" \"Multiplication\")\n",
    "print(\"Division:\", first_variable, \"/\", second_variable,\"=\" \"Division\")"
   ]
  },
  {
   "cell_type": "markdown",
   "id": "67c2cb6b-cf0a-4fee-b053-07271727a4da",
   "metadata": {},
   "source": [
    "#Q.2 What is the difference between the following operators.\n",
    "(i) '/' & '//'\n",
    "(ii) '**' & '^'"
   ]
  },
  {
   "cell_type": "markdown",
   "id": "cf44c925-c055-4066-b12f-98420d45eee6",
   "metadata": {},
   "source": [
    "(i) '/' & '//':\n",
    "1.'/'(Division Operator):This operator is used for regular divison between two numbers. It return the quotient as a floating-point number(decimal).For example,'10 / 3' would result in '3.333...' .\n",
    "\n",
    "2.'//'(Floor Division Operator):This operator is used for floor division. It also performs division between two numbers, but it returns the quotient as an integer by rounding down the result. For example, '10 // 3' would result in '3'"
   ]
  },
  {
   "cell_type": "markdown",
   "id": "5dce58dc-97c2-4112-9dd7-1147f561845a",
   "metadata": {},
   "source": [
    "(ii) '**' & '^':\n",
    "1.'**' (Exponentiation Operator): This operator is used to raise a number to a certain power. For example, '2 ** 3' equals '8' because it calculates 2 raised to the power of 3.\n",
    "2.'^' (Bitwise XOR Operator):This operator is used for bitwise XOR (exclusive OR) operation between corresponding bits of two numbers. It's not used for exponentiation.For example, '5 ^ 3' would perform a bitwise XOR operation and result in '6'."
   ]
  },
  {
   "cell_type": "markdown",
   "id": "bbf4e71e-601a-45d0-a044-796952386af0",
   "metadata": {},
   "source": [
    "#Q.3 List the logical operators."
   ]
  },
  {
   "cell_type": "markdown",
   "id": "250a963d-995f-4d5b-bfb0-d68e8ed747ac",
   "metadata": {},
   "source": [
    "1.AND('and'):Returns 'True' if both operands are true.\n",
    "2.OR('or'):Returns 'True' if at least one of the operands is true.\n",
    "3.NOT('not'):Returns the opposite of the operand's truth value; if the oprand is true,it returns 'False',and vice versa.\n",
    "\n",
    "These logical operators are commonly used to perform logical operations on boolean values or expressions in programming languages."
   ]
  },
  {
   "cell_type": "markdown",
   "id": "25d6883f-d339-4d0d-9925-6fb05ee6c90a",
   "metadata": {},
   "source": [
    "#Q.4 Explain right shift operator and left shift operator with examples."
   ]
  },
  {
   "cell_type": "markdown",
   "id": "54805c8f-203d-4d3a-9fbf-c52fdc5a0d32",
   "metadata": {},
   "source": [
    "In python, the right shift('>>')and left shift('<<') operators are used for bitwise shifting of binary representations of numbers. These operators allow you to shift the bits of an integer to the rigt or left by a specified number of positions."
   ]
  },
  {
   "cell_type": "markdown",
   "id": "780a41c7-fc35-46db-90ca-13b3398bef98",
   "metadata": {},
   "source": [
    "1.Right Shift Operator('>>'):\n",
    "*The right shift operator('>>')shifts the bits of a number to the right by a specified number of positions.\n",
    "*When you perform a right shift,the rightmost bits are discarded, and zeros are added on the left.\n",
    "*It's equivalent to dividing the number by 2 raised to the power of the specified shift amount.\n",
    "Example:"
   ]
  },
  {
   "cell_type": "code",
   "execution_count": 4,
   "id": "23ce6e2a-40bb-4d7c-8383-dcaabf115f56",
   "metadata": {},
   "outputs": [
    {
     "name": "stdout",
     "output_type": "stream",
     "text": [
      "0b100\n"
     ]
    }
   ],
   "source": [
    "num = 16  #Binary representation: 10000\n",
    "shifted_num = num >> 2  # Right shift by 2 positions\n",
    "print(bin(shifted_num))  "
   ]
  },
  {
   "cell_type": "markdown",
   "id": "7dd89822-76d3-4407-8ea2-89b9326b4d22",
   "metadata": {},
   "source": [
    "2.Left Shift Operator('<<'):\n",
    "*The left shift operator('<<')shifts the bits of a number to the left by a specified number of positions.\n",
    "*When you perform a left shift,zeros are added on the right, and the leftmost bits are discarded.\n",
    "*It's equivalent to multiplying the number by 2 raised to the power of the specified shift amount.\n",
    "Example:"
   ]
  },
  {
   "cell_type": "code",
   "execution_count": 5,
   "id": "5f59fff1-652a-4224-869e-99f358bf6ffa",
   "metadata": {},
   "outputs": [
    {
     "name": "stdout",
     "output_type": "stream",
     "text": [
      "0b10000\n"
     ]
    }
   ],
   "source": [
    "num = 4  #Binary representation: 100\n",
    "shifted_num = num << 2   #Left shift by 2 positions\n",
    "print(bin(shifted_num))  "
   ]
  },
  {
   "cell_type": "markdown",
   "id": "baefe31b-aac9-40e1-991d-ce4b30848e1e",
   "metadata": {},
   "source": [
    "#Q.5 Create a list containing int type data of length 15. Then write a code to check if 10 is present in the list or not."
   ]
  },
  {
   "cell_type": "code",
   "execution_count": 1,
   "id": "b8e69e08-d318-47c9-829b-ef1cf7aa8212",
   "metadata": {},
   "outputs": [
    {
     "ename": "NameError",
     "evalue": "name 'my_list' is not defined",
     "output_type": "error",
     "traceback": [
      "\u001b[0;31m---------------------------------------------------------------------------\u001b[0m",
      "\u001b[0;31mNameError\u001b[0m                                 Traceback (most recent call last)",
      "Cell \u001b[0;32mIn [1], line 5\u001b[0m\n\u001b[1;32m      2\u001b[0m mu_list \u001b[38;5;241m=\u001b[39m [\u001b[38;5;241m2\u001b[39m,\u001b[38;5;241m4\u001b[39m,\u001b[38;5;241m6\u001b[39m,\u001b[38;5;241m8\u001b[39m,\u001b[38;5;241m10\u001b[39m,\u001b[38;5;241m12\u001b[39m,\u001b[38;5;241m14\u001b[39m,\u001b[38;5;241m16\u001b[39m,\u001b[38;5;241m18\u001b[39m,\u001b[38;5;241m20\u001b[39m,\u001b[38;5;241m22\u001b[39m,\u001b[38;5;241m24\u001b[39m,\u001b[38;5;241m26\u001b[39m,\u001b[38;5;241m28\u001b[39m,\u001b[38;5;241m30\u001b[39m]\n\u001b[1;32m      4\u001b[0m \u001b[38;5;66;03m# Check if 10 is present in the list\u001b[39;00m\n\u001b[0;32m----> 5\u001b[0m \u001b[38;5;28;01mif\u001b[39;00m \u001b[38;5;241m10\u001b[39m \u001b[38;5;129;01min\u001b[39;00m \u001b[43mmy_list\u001b[49m:\n\u001b[1;32m      6\u001b[0m     \u001b[38;5;28mprint\u001b[39m(\u001b[38;5;124m\"\u001b[39m\u001b[38;5;124m10 is present in the list.\u001b[39m\u001b[38;5;124m\"\u001b[39m)\n\u001b[1;32m      7\u001b[0m \u001b[38;5;28;01melse\u001b[39;00m:\n",
      "\u001b[0;31mNameError\u001b[0m: name 'my_list' is not defined"
     ]
    }
   ],
   "source": [
    "# Creat a list of integers\n",
    "mu_list = [2,4,6,8,10,12,14,16,18,20,22,24,26,28,30]\n",
    "\n",
    "# Check if 10 is present in the list\n",
    "if 10 in my_list:\n",
    "    print(\"10 is present in the list.\")\n",
    "else:\n",
    "    print(\"10 is not present in the list.\")"
   ]
  },
  {
   "cell_type": "code",
   "execution_count": null,
   "id": "46aac355-3ae7-4b3b-9c78-5d6a66dead5e",
   "metadata": {},
   "outputs": [],
   "source": []
  }
 ],
 "metadata": {
  "kernelspec": {
   "display_name": "Python 3 (ipykernel)",
   "language": "python",
   "name": "python3"
  },
  "language_info": {
   "codemirror_mode": {
    "name": "ipython",
    "version": 3
   },
   "file_extension": ".py",
   "mimetype": "text/x-python",
   "name": "python",
   "nbconvert_exporter": "python",
   "pygments_lexer": "ipython3",
   "version": "3.10.6"
  }
 },
 "nbformat": 4,
 "nbformat_minor": 5
}
