{
 "cells": [
  {
   "cell_type": "markdown",
   "id": "1a82323c-e8b1-4d77-ae2d-82b7ec995a62",
   "metadata": {},
   "source": [
    "#Q.1 In the below elements which of them are values an expression?\n",
    "eg:-values can be integer or string and expression will be mathematical operators.\n",
    "* ,'hello' ,-87.8 , - , / , + , 6"
   ]
  },
  {
   "cell_type": "code",
   "execution_count": null,
   "id": "6ff180a6-3eee-4863-9992-b3e5ce52ac07",
   "metadata": {},
   "outputs": [],
   "source": [
    "Answer-\n",
    "values are = -87.8 , 6 , 'hello'      \n",
    "expression are = * , - , / , +"
   ]
  },
  {
   "cell_type": "markdown",
   "id": "551e01e6-1c34-4747-af48-2a96c8e3935f",
   "metadata": {},
   "source": [
    "#Q.2 What is the difference between string and variable?"
   ]
  },
  {
   "cell_type": "markdown",
   "id": "996741c4-17e7-4710-9c7d-c7d6d519c940",
   "metadata": {},
   "source": [
    "Answer- \n",
    "Variable - Variable is the name of memory location where we can stored different types of values.\n",
    "String - String in python, are sequences of characters or simply test.\n",
    "a string can either be created using single quotes or double quotes."
   ]
  },
  {
   "cell_type": "markdown",
   "id": "1db4ef95-7c43-47be-b62e-4cb97f518fd3",
   "metadata": {},
   "source": [
    "#Q.3 Describe three defferent data types."
   ]
  },
  {
   "cell_type": "markdown",
   "id": "59c9d071-65c7-4796-9aaa-eafb264861d6",
   "metadata": {},
   "source": [
    "Answer - \n",
    "1.NUMBERS(integer) - In python, there are two basic types of numbers and they are called integer and floating point numbers."
   ]
  },
  {
   "cell_type": "code",
   "execution_count": null,
   "id": "00b593c7-9736-40a3-be2d-82defbd5cd53",
   "metadata": {},
   "outputs": [],
   "source": [
    "An integer does not have decimals."
   ]
  },
  {
   "cell_type": "code",
   "execution_count": 3,
   "id": "9000d82a-7dbf-4108-ba12-33bea4fb0026",
   "metadata": {},
   "outputs": [
    {
     "name": "stdout",
     "output_type": "stream",
     "text": [
      "21\n"
     ]
    }
   ],
   "source": [
    "# X is an integer\n",
    "X = 21\n",
    "print(X)"
   ]
  },
  {
   "cell_type": "code",
   "execution_count": null,
   "id": "a68b7f5e-05ab-44f5-82b8-48c9c0bc9871",
   "metadata": {},
   "outputs": [],
   "source": [
    "A floating poin number has decimals."
   ]
  },
  {
   "cell_type": "code",
   "execution_count": 4,
   "id": "a54358bf-d58a-42ac-980e-b191c471b305",
   "metadata": {},
   "outputs": [
    {
     "name": "stdout",
     "output_type": "stream",
     "text": [
      "21.33\n"
     ]
    }
   ],
   "source": [
    "# X is a floating point number \n",
    "X = 21.33\n",
    "print (X)"
   ]
  },
  {
   "cell_type": "code",
   "execution_count": null,
   "id": "0b4c3703-bcd6-4805-80a1-a21812d79517",
   "metadata": {},
   "outputs": [],
   "source": [
    "To add numbers, use the plus sign(+)."
   ]
  },
  {
   "cell_type": "code",
   "execution_count": 5,
   "id": "e3aeea1c-2814-423e-858b-ba87b86ab9a0",
   "metadata": {},
   "outputs": [
    {
     "name": "stdout",
     "output_type": "stream",
     "text": [
      "10\n"
     ]
    }
   ],
   "source": [
    "x = 7 \n",
    "y = 3\n",
    "print(x+y)"
   ]
  },
  {
   "cell_type": "code",
   "execution_count": null,
   "id": "6892d898-df0e-4de3-9f34-dd4da968f7f8",
   "metadata": {},
   "outputs": [],
   "source": [
    "2.String - String are simply text.\n",
    "A string must be surrounded by single quotes or double quotas."
   ]
  },
  {
   "cell_type": "code",
   "execution_count": 6,
   "id": "9fbc3b26-a9f1-4ea8-a22b-d1ff7f94d3e8",
   "metadata": {},
   "outputs": [
    {
     "name": "stdout",
     "output_type": "stream",
     "text": [
      "mangos\n"
     ]
    }
   ],
   "source": [
    "# using single quotes \n",
    "fruit = 'mangos'\n",
    "print(fruit)"
   ]
  },
  {
   "cell_type": "code",
   "execution_count": 7,
   "id": "89182f9b-16f7-4316-af47-0d5e39c8583b",
   "metadata": {},
   "outputs": [
    {
     "name": "stdout",
     "output_type": "stream",
     "text": [
      "mangos\n"
     ]
    }
   ],
   "source": [
    "# using double quotes\n",
    "fruit = \"mangos\"\n",
    "print(fruit)"
   ]
  },
  {
   "cell_type": "code",
   "execution_count": null,
   "id": "d6596a00-5831-469c-811b-ca53ad700c4a",
   "metadata": {},
   "outputs": [],
   "source": [
    "single or double quotes\n",
    "Use single quotes when your string contains double quotes."
   ]
  },
  {
   "cell_type": "code",
   "execution_count": 9,
   "id": "5a4bd79d-d30f-4b30-902c-350742e193e6",
   "metadata": {},
   "outputs": [
    {
     "name": "stdout",
     "output_type": "stream",
     "text": [
      "I told you \"python is easy to learn\"\n"
     ]
    }
   ],
   "source": [
    "x = 'I told you \"python is easy to learn\"'\n",
    "print(x)"
   ]
  },
  {
   "cell_type": "code",
   "execution_count": null,
   "id": "c19f9ec1-4e02-465d-a4f6-393e2cbb48b5",
   "metadata": {},
   "outputs": [],
   "source": [
    "Use double quotes when your string contains single quotes."
   ]
  },
  {
   "cell_type": "code",
   "execution_count": 10,
   "id": "dd2d210c-71f7-4262-8b1d-59f79454e160",
   "metadata": {},
   "outputs": [
    {
     "name": "stdout",
     "output_type": "stream",
     "text": [
      "Let's learn Python!\n"
     ]
    }
   ],
   "source": [
    "x = \"Let's learn Python!\"\n",
    "print (x)"
   ]
  },
  {
   "cell_type": "markdown",
   "id": "d02be1c2-cd26-46f2-b949-8d325b95a527",
   "metadata": {},
   "source": [
    "3.Booleans - The Boolean data type can only have one of these two values:True or false"
   ]
  },
  {
   "cell_type": "code",
   "execution_count": 11,
   "id": "bc4b23b0-d37b-4d6a-b0b6-80f7e666179e",
   "metadata": {},
   "outputs": [
    {
     "name": "stdout",
     "output_type": "stream",
     "text": [
      "True\n",
      "False\n"
     ]
    }
   ],
   "source": [
    "bool = True\n",
    "print(bool)\n",
    "bool = False\n",
    "print(bool)"
   ]
  },
  {
   "cell_type": "markdown",
   "id": "52071c1a-c723-427d-8987-60548b372625",
   "metadata": {},
   "source": [
    "When comparing two values, python returns a Bollean."
   ]
  },
  {
   "cell_type": "code",
   "execution_count": 1,
   "id": "c38d26e2-231a-418c-aacb-0ca180ffda76",
   "metadata": {},
   "outputs": [
    {
     "name": "stdout",
     "output_type": "stream",
     "text": [
      "True\n",
      "True\n",
      "False\n",
      "True\n",
      "False\n"
     ]
    }
   ],
   "source": [
    "print(10 > 5) #True\n",
    "print(6 > 3) #True\n",
    "print(4 < 2) #False\n",
    "print(5==5)  #True\n",
    "print(5==6)  #False"
   ]
  },
  {
   "cell_type": "markdown",
   "id": "e11e4588-016e-4ad7-ac30-275b764446cd",
   "metadata": {},
   "source": [
    "#Q.4 What is an expression made up of? What do all expression do?"
   ]
  },
  {
   "cell_type": "markdown",
   "id": "085f1733-243a-4df7-a2c2-4da04d763e05",
   "metadata": {},
   "source": [
    "Answer - A valid combination of operators, varitable, literal, identifier etc in python is called an expression.\n",
    "In any programing language, an expression is evaluated as per the precedence of its operators.\n",
    "the expression in python produces some value or result after being interpretend by the python interpreter.\n",
    "An expression in python is a combination of operators and operands. An example of expression can be : x = x + 10 x =  x + 10 x = x + 10."
   ]
  },
  {
   "cell_type": "markdown",
   "id": "c96ca4dd-b796-48a3-8b4f-13261559a072",
   "metadata": {},
   "source": [
    "#Q.5 This assignment statements,like spam = 10. What is the difference between an expression and a statement?"
   ]
  },
  {
   "cell_type": "markdown",
   "id": "703ad342-9fac-4076-b25b-ee6d488f3b7f",
   "metadata": {},
   "source": [
    "Answer - An expression evaluates to a single value. A statement does not. An expression is something that can be reduced to a value.\n",
    "A statement in python is used for creating variables or for displaying values.\n",
    "The expression in python produces some value or result after being inteepreted by the python interpreter."
   ]
  },
  {
   "cell_type": "markdown",
   "id": "ae26dc23-ff74-4eb7-bf90-cd692904b0f2",
   "metadata": {},
   "source": [
    "#Q.6 After running the following code, what does the variable bacon contain?\n",
    "bacon = 22 , \n",
    "bacon = 1"
   ]
  },
  {
   "cell_type": "markdown",
   "id": "b413b5de-8205-412b-92d8-f3863ccde72e",
   "metadata": {},
   "source": [
    "Answer - \n",
    "The bacon variable is set to 22. \n",
    "The bacon 1 expression does not reassign the value in bacon (that would need an assignment: bacon = bacon 1)"
   ]
  },
  {
   "cell_type": "markdown",
   "id": "9b83713a-ba76-4821-ba80-daf55fe530d3",
   "metadata": {},
   "source": [
    "#Q.7 What should the values of the following two terms be?\n",
    "'spam' = 'spamspam'\n",
    "'spam'= 3"
   ]
  },
  {
   "cell_type": "code",
   "execution_count": null,
   "id": "2e75d0ca-4f04-4c36-b728-cf45d7c0e6d4",
   "metadata": {},
   "outputs": [],
   "source": [
    "Answer - Both expression evaluate to the string 'spamspamspam'"
   ]
  },
  {
   "cell_type": "markdown",
   "id": "0688808d-4873-4f75-8ebf-6bf3a2490c64",
   "metadata": {},
   "source": [
    "#Q.8 why is eggs a valid variable name while 100 is invalid?"
   ]
  },
  {
   "cell_type": "code",
   "execution_count": null,
   "id": "2fabcac5-a6e9-4118-aa12-3269f9df4730",
   "metadata": {},
   "outputs": [],
   "source": [
    "Answer - Variable name canot begin with a number."
   ]
  },
  {
   "cell_type": "markdown",
   "id": "e255ebe4-ee38-4d19-ba6b-f214adb0011f",
   "metadata": {},
   "source": [
    "#Q.9 What three functions can be used to get the integer,floating-point number,or string version of a value?"
   ]
  },
  {
   "cell_type": "markdown",
   "id": "7db7b14b-82d9-4dd2-8b13-2e1fb46acd1e",
   "metadata": {},
   "source": [
    "Answer - \n",
    "The int(), float(), and str() functions will evaluate to the integer, floating-point number, and string versions of the value passed to them.\n"
   ]
  },
  {
   "cell_type": "markdown",
   "id": "ad98b812-5f89-47fb-a39b-5ef44884f76a",
   "metadata": {},
   "source": [
    "#Q.10 Why does this expression cause an error? How can you fix it?\n",
    "'I have eaten'+99+'burritos.'"
   ]
  },
  {
   "cell_type": "markdown",
   "id": "e5f7a01b-983f-48ba-9a83-7d629df4ca9f",
   "metadata": {},
   "source": [
    "Answer - \n",
    "the expression cause an error because 99 is an integer, and only string can be concatenated to other strings with the +operator. \n",
    "The correct way is I have eaten'+str(99)+'burritos.'"
   ]
  }
 ],
 "metadata": {
  "kernelspec": {
   "display_name": "Python 3 (ipykernel)",
   "language": "python",
   "name": "python3"
  },
  "language_info": {
   "codemirror_mode": {
    "name": "ipython",
    "version": 3
   },
   "file_extension": ".py",
   "mimetype": "text/x-python",
   "name": "python",
   "nbconvert_exporter": "python",
   "pygments_lexer": "ipython3",
   "version": "3.10.6"
  }
 },
 "nbformat": 4,
 "nbformat_minor": 5
}
