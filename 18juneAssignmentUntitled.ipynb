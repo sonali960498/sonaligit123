{
 "cells": [
  {
   "cell_type": "markdown",
   "id": "374f8d97-cc4c-4b71-8721-d1a5e617387c",
   "metadata": {},
   "source": [
    "#Q.1 What is the role of the 'else' block in a try-except statement? Provide an example scenario where it would be useful."
   ]
  },
  {
   "cell_type": "markdown",
   "id": "32ebb628-a8d4-4040-af37-02600c6528fa",
   "metadata": {},
   "source": [
    "The 'else' block in a try-except statement is used to define a set of statements that will be executed if no exception is raised in the 'try' block. Its role is to handle the code that should run when there are no exceptions.\n",
    "\n",
    "Here's an example scenario wher the 'else' block is useful:"
   ]
  },
  {
   "cell_type": "code",
   "execution_count": null,
   "id": "fe9d04e2-8072-4851-a4dc-c31fd73a7db4",
   "metadata": {},
   "outputs": [],
   "source": [
    "try:\n",
    "    num1 = int(input(\"Enter a dividend: \"))\n",
    "    num2 = int(input(\"Enter a divisior: \"))\n",
    "    result = num1 / num2\n",
    " except ZeroDivisionError:\n",
    "     print(\"Error: Division by zero is not allowed.\")\n",
    " except ValueError:\n",
    "     print(\"Error: Please enter valid numbers.\")\n",
    " else:\n",
    "     print(\"The result of the division is:\",result)"
   ]
  },
  {
   "cell_type": "markdown",
   "id": "1a779c47-dfbf-47d7-b38c-575de7b2de1e",
   "metadata": {},
   "source": [
    "In this example, the 'try' block attempts to perform a division operation and the 'except' blocks handle potential exceptions like division by zero or invalid input. If no exceptions are raised the 'else' block will execute and it print the result of division. This helps provide a clean separation between error handling and the normal execution of the code."
   ]
  },
  {
   "cell_type": "markdown",
   "id": "2e565edc-0f0b-45c8-848b-15f3797284a9",
   "metadata": {},
   "source": [
    "#Q.2 Can a try-except block be nested inside another try-except block? Explain with an example."
   ]
  },
  {
   "cell_type": "markdown",
   "id": "155948d8-6620-456b-a46b-0a2354a0f1fd",
   "metadata": {},
   "source": [
    "Yes a try-except block can be nested inside another try-except block. This is useful when you want to handle exceptions at diifferent levels of granularity or have more specific error handling within a broader exception handling structure.\n",
    "\n",
    "Here's an example to illustrate nested try-except blocks:"
   ]
  },
  {
   "cell_type": "code",
   "execution_count": null,
   "id": "e8ca60d4-0137-4d45-abfb-d12074531161",
   "metadata": {},
   "outputs": [],
   "source": [
    "try:\n",
    "    #output try block\n",
    "    num1 = int(input(\"Enter a dividend: \"))\n",
    "    num2 = int(input(\"Enter a divisor: \"))\n",
    "    \n",
    "    try:\n",
    "        # Inner try block\n",
    "        result = num1 / num2\n",
    "    except ZeroDivisionError:\n",
    "        print(\"Inner Error: Division by zero is not allowed.\")\n",
    "    except ValueErroe:\n",
    "        print(\"Inner Error: Please enter valid numbers.\")\n",
    "    \n",
    "except ZeroDivisionError:\n",
    "    print(\"Outer Error: Division by zero is not allowed at the outer level.\")\n",
    "except ValueError:\n",
    "    print(\"Outer Error: Please enter valid numbers.\")\n",
    "else:\n",
    "    print(\"The result of the division is:\", result)"
   ]
  },
  {
   "cell_type": "markdown",
   "id": "3db733d2-1c86-46b3-908e-1188f35066a4",
   "metadata": {},
   "source": [
    "In this example,we have an outer try-except block that handles exceptions related to input values and an inner try-except block specially handles exceptions related to the division operation. This allows for different error messages and handling strategies at both levels. If an exception occurs in the inner block it will be caught by the inner 'except' blocks and if it occurs in the outer block it will be caught by the outer 'except' blocks. The 'else' block is executed only if no exceptions occur at both levels."
   ]
  },
  {
   "cell_type": "markdown",
   "id": "614dd706-ebd9-4cb1-a814-3ed30be779de",
   "metadata": {},
   "source": [
    "#Q.3 How can you create a custom exception class in python? Provide an example that demonstrates its usage."
   ]
  },
  {
   "cell_type": "markdown",
   "id": "8864d5ea-0634-4fd2-a077-0dafdd1ec2fe",
   "metadata": {},
   "source": [
    "To create a custom exception class in python we can define a new class that inherits from the built-in 'Exception' class or one of its subclasses. \n",
    "Here's an example:"
   ]
  },
  {
   "cell_type": "code",
   "execution_count": null,
   "id": "5c828781-c496-4098-8faf-7a70f5197550",
   "metadata": {},
   "outputs": [],
   "source": [
    "class CustomError(Exception):\n",
    "    def _ _init_ _(self, message):\n",
    "        super( )._ _init_ _(message)\n",
    "        \n",
    "# Example of using the custom exception \n",
    "def divide(a, b):\n",
    "    if b == 0:\n",
    "        raise CustomError(\"Division by zero is not allowed\")\n",
    "    return a / b\n",
    "\n",
    "try:\n",
    "    result = divide(10, 0)\n",
    "except CustomError as e:\n",
    "    print(f\"CustomError: {e}\")\n",
    "else:\n",
    "    print(f\"Result: {result}\")\n",
    "        "
   ]
  },
  {
   "cell_type": "markdown",
   "id": "9ab4bd47-8455-4c1d-bbc9-ba2625198e9d",
   "metadata": {},
   "source": [
    "In this example we create a custom exception class 'CustomError' that inherits from the 'Exception' class. When we call 'raise CustomError(\"message\"), it raises an exception with your custom message. The 'try...except' block demonstrates to catch and handle the custom exception.\n",
    "In this case if we attempt to divide by zero it raises the 'CustoError' and we can catch and handle it gracefully."
   ]
  },
  {
   "cell_type": "markdown",
   "id": "28e6c9b0-0e8a-4c0d-88d2-e5995c830413",
   "metadata": {},
   "source": [
    "#Q.4 What are some common exceptions that are built-in to python?"
   ]
  },
  {
   "cell_type": "markdown",
   "id": "abb9a63e-660e-458e-ae8c-b40283b6d245",
   "metadata": {},
   "source": [
    "Python includes a variety of built-in exception to handle common error scenarios in your code. Here are some coommon built-in exceptions in Python:"
   ]
  },
  {
   "cell_type": "markdown",
   "id": "d388f9f2-46aa-40dc-a861-b31bcf0b272a",
   "metadata": {},
   "source": [
    "1.'SyntaxError': Raised when there's a syntax error in our code.\n",
    "2.'IndentationError': Raised when there are issues with the indentation of our code.\n",
    "3.'NameError': Raised when a local or global name is not found.\n",
    "4.'TypeError': Raised when an operation or function is applied to an object of the wrong type.\n",
    "5.'ValueError': Raised when an operation or function receive an argument of the correct type but an inappropriate value.\n",
    "6.'ZeroDivisionError': Raised when you try to divide by zero \n",
    "7.'IndexError': Raised when an index is out of range in a sequence.\n",
    "8.'KeyError': Raised when a dictionary does not have a specified key.\n",
    "9.'FileNotFoundError': Raised when an attempt to open a file fails beacause the file does not exist.\n",
    "10.'IOError': Raised for I/O-related errors.\n",
    "11.'AttributeError': Raised when an object does not have an attribute we're trying to access.\n",
    "12.'ImportError': Raised when an import statement fails to import a module.\n",
    "13.'MemoryError': Raised when an operation runs out of memory.\n",
    "14.'KeybordInterrupt': Raised when the user interrupts the program(e.g., pressing Ctrl+C).\n",
    "\n",
    "These are just a few common built-in exceptions in python."
   ]
  },
  {
   "cell_type": "markdown",
   "id": "67266ef1-9654-4775-9874-e1a238d8adac",
   "metadata": {},
   "source": [
    "#Q.5 What is logging in python, and why is it important in sofware development?"
   ]
  },
  {
   "cell_type": "markdown",
   "id": "10f19de5-13a8-45b5-adff-f8a107f7626a",
   "metadata": {},
   "source": [
    "Logging in python is the process of recording information, typically text mwssages about the execution of a program. This information is stored in log files and can include details like errors warnings informational messages and debugging output.\n",
    "\n",
    "Logging is important in software development for several reasons:\n",
    "\n",
    "1.Debugging:It helps developers identify and diagnose issues in their code, making it easier to locate and fix bugs.\n",
    "2.Monitoring:Logs can provide real-time insights into the performance and behavior of a software application, helping in monitoring and maintaining it.\n",
    "3.Auditing:Logging can track user actives and system events aiding in security and compliance an audit trail.\n",
    "4.Troubleshooting:When issues arise in a deployed system log are crucial for post-mortem analysis to understand what went wrong.\n",
    "5.Historical Records:Logs serve as hostorical records that can be useful for historical analysis trend detection and system improvement over time.\n",
    "\n",
    "Python provides a built-in logging module that offers flexible and confihurable logging capabilities allowing developers to control what infomation gets logged where it's stored and how it's formatted.Properly implemented logging can make software development and maintenance more efficient and less error-prone."
   ]
  },
  {
   "cell_type": "markdown",
   "id": "c2a7d126-a83d-44cb-a779-58b38c17c173",
   "metadata": {},
   "source": [
    "#Q.6 Explain the purpose of log level in python logging and provide examples of when each log level would be appropriate."
   ]
  },
  {
   "cell_type": "markdown",
   "id": "9ff1d270-9579-4815-af83-a467b04b09f6",
   "metadata": {},
   "source": [
    "Log levels in python logging are used to categorize log messages by their severity and importance.Python's logging module provides several built-in log levels each serving a specific purpose.\n",
    "Here are the log levels and when they might be appropriate:\n",
    "\n",
    "1.DEBUG: This is the lowest log level and typically used for detailed debugging information.Use it when we want to capture fine-grained details about the program's execution, which can help diagnose issues during development."
   ]
  },
  {
   "cell_type": "code",
   "execution_count": null,
   "id": "648cbb6f-1c9b-46a1-9e48-0d5972a8aff0",
   "metadata": {},
   "outputs": [],
   "source": [
    "import logging\n",
    "logging.debug(\"This is a debug message\")"
   ]
  },
  {
   "cell_type": "markdown",
   "id": "96e8a383-b7c1-49ee-9b93-38b3671c4dbe",
   "metadata": {},
   "source": [
    "2.INFO: This level is used to provide general information about the program's operation. It's suitable for messages that don't indicate problems but are helpful for understanding what the program is doing."
   ]
  },
  {
   "cell_type": "code",
   "execution_count": null,
   "id": "252d8739-fead-4b21-96a5-209d552c944b",
   "metadata": {},
   "outputs": [],
   "source": [
    "import logging\n",
    "logging.info(\"Program started successfully\")"
   ]
  },
  {
   "cell_type": "markdown",
   "id": "1946ed73-0631-4f64-8784-d516942c68e8",
   "metadata": {},
   "source": [
    "3.WARNING: Warning are used to indicate potential issues or non-critical problems.They suggest that something might be wrong but the program can still continue running."
   ]
  },
  {
   "cell_type": "code",
   "execution_count": null,
   "id": "678fb861-f792-4949-98b8-732708650c1f",
   "metadata": {},
   "outputs": [],
   "source": [
    "import logging\n",
    "logging.warning(\"Disk space is running low\")"
   ]
  },
  {
   "cell_type": "markdown",
   "id": "f62fdfd5-2f01-4a55-9c5a-0711e5f7f0e8",
   "metadata": {},
   "source": [
    "4.ERROR: Error messages indicate the something has gone wrong in the program but it can still continue running possibly with degraded functionality."
   ]
  },
  {
   "cell_type": "code",
   "execution_count": null,
   "id": "7b07ffc0-be08-4c1b-b49c-54f2d054a767",
   "metadata": {},
   "outputs": [],
   "source": [
    "import logging\n",
    "logging.error(\"An unexpected error occurred\")"
   ]
  },
  {
   "cell_type": "markdown",
   "id": "74e50d3d-cfe5-4772-92e2-4a77826db076",
   "metadata": {},
   "source": [
    "5.CRITICAL:This is the highest log level and is used for critical errors that prevent the program from functioning.It typically requires immediate attention to prevent data loss or system failure."
   ]
  },
  {
   "cell_type": "code",
   "execution_count": null,
   "id": "78eef120-9a61-44bf-bd63-a47d91e67446",
   "metadata": {},
   "outputs": [],
   "source": [
    "import logging\n",
    "logging.critical(\"Database connection failed. Program cannot continue.\")"
   ]
  },
  {
   "cell_type": "markdown",
   "id": "a50d88bb-2bea-4cca-a5bc-3b27b16b5c5f",
   "metadata": {},
   "source": [
    "By using these log levels we can control the amount of detail in our logs and adjust the logging level based on the specific needs of our application.During development we might use DEBUG and INFO levels to understand the program's behavior and in production we can configure the logging level to capture only WARNING,ERROR, and CRITICAL messages to focus on issues that require immediate attention."
   ]
  },
  {
   "cell_type": "markdown",
   "id": "cd58bf7e-8088-4567-952a-7e232473b4de",
   "metadata": {},
   "source": [
    "#Q.7 What are log formatters in python logging, and how can you customise the log message format using formatters?"
   ]
  },
  {
   "cell_type": "markdown",
   "id": "1faddf1f-b76f-4249-a2a3-d0e498cc7147",
   "metadata": {},
   "source": [
    "Log formatters in python logging are used to control the format of log messages.They allow you to define how log records should be presented in the log files or other output destinations.Formatters are particularrly useful for making log messages more human-readable and informative.\n",
    "\n",
    "To customize the log message format using formatters we need to perform the following steps:"
   ]
  },
  {
   "cell_type": "markdown",
   "id": "e06cbba8-0229-4d89-905a-5f8e7f9bd887",
   "metadata": {},
   "source": [
    "1.Import the logging module:"
   ]
  },
  {
   "cell_type": "code",
   "execution_count": null,
   "id": "503e2dd8-7431-4969-8ca7-0bc1f4ce4e6d",
   "metadata": {},
   "outputs": [],
   "source": [
    "import logging"
   ]
  },
  {
   "cell_type": "markdown",
   "id": "2db9b6b2-f722-47d9-b006-9469fdab60b0",
   "metadata": {},
   "source": [
    "2.Create a logger:"
   ]
  },
  {
   "cell_type": "code",
   "execution_count": null,
   "id": "73871c0f-e43f-4f1c-81cd-7ac8f955c966",
   "metadata": {},
   "outputs": [],
   "source": [
    "logger = logging.getLogger('my_logger')"
   ]
  },
  {
   "cell_type": "markdown",
   "id": "353a9358-f74d-49ff-a6c0-8f028565e3c4",
   "metadata": {},
   "source": [
    "#Q.8 How can you set up logging to capture log messages from multiple modules or classes in python application?"
   ]
  },
  {
   "cell_type": "markdown",
   "id": "c178889c-69a1-497b-930a-a828995cf751",
   "metadata": {},
   "source": [
    "To capture log messages from multiple modules or classes in a python application, we can use the 'logging' module along with the concept of loggers. Loggers help organize your log messages and allow you to configure different parts of your application indipendentaly.\n",
    "Example:"
   ]
  },
  {
   "cell_type": "code",
   "execution_count": null,
   "id": "687467a1-ad92-46d9-8311-beeacbca4543",
   "metadata": {},
   "outputs": [],
   "source": [
    "\n",
    "import logging\n",
    "from module1 import Module1\n",
    "from module2 import Module2\n",
    "\n",
    "# Configure logging\n",
    "logging.basicConfig(level=logging.INFO, formate='%(asctime)s -\n",
    "                    %(levelname)s - %(message)s)\n",
    "                    \n",
    "#Create loggers for different parts of the application\n",
    "logger_main = logging.getLogger('main')\n",
    "logger_module1 = logging.getLogger('module1')\n",
    "logger_module2 = logging.getLogger('modele2')\n",
    "                    \n",
    "def main():\n",
    "    logger_main.info(\"Starting application\")\n",
    "            \n",
    "    module1_instance = Module1()\n",
    "    module2_instance = Module2()\n",
    "    \n",
    "    module1_instance.do_something()\n",
    "    module2_instance.do_something_else()\n",
    "                    \n",
    "    logger_main.info(\"Application finished\")\n",
    "                    \n",
    "if_ _ name_ _ == \"_ _main_ _\":\n",
    "    main()\n",
    "     \n"
   ]
  },
  {
   "cell_type": "markdown",
   "id": "22ad0995-96d5-4298-a12a-716386a21ff6",
   "metadata": {},
   "source": [
    "Then in our modules ('module1.py' and 'module2.py') we can use the same logger names:"
   ]
  },
  {
   "cell_type": "code",
   "execution_count": null,
   "id": "db1ee61a-c27e-43e3-a6f9-6f54367425bc",
   "metadata": {},
   "outputs": [],
   "source": [
    "# module1.py\n",
    "\n",
    "import logging \n",
    "\n",
    "logger_module = logging.getLogger('module1')\n",
    "\n",
    "class Module1:\n",
    "    def do_something(self):\n",
    "        logger_module1.info(\"Doing something in Module1\")"
   ]
  },
  {
   "cell_type": "code",
   "execution_count": null,
   "id": "240bed19-deee-44a9-965a-edc4982cd6cb",
   "metadata": {},
   "outputs": [],
   "source": [
    "# module2.py\n",
    "\n",
    "import logging\n",
    "\n",
    "logger_module2 = logging.getLogger('module2')\n",
    "\n",
    "class Module2:\n",
    "    def do_something_else(self):\n",
    "        logger_module2.warning(\"Doing something else in Module2\")\n",
    "                                   "
   ]
  },
  {
   "cell_type": "markdown",
   "id": "81b62712-ccca-433b-9511-b3c974fdf877",
   "metadata": {},
   "source": [
    "This way log messages from different parts of application are categorized under different logger names, making it easier to control and configure the logging behaviour for each part independently."
   ]
  },
  {
   "cell_type": "markdown",
   "id": "e1afa0e7-5901-435d-b226-5416ab70e64d",
   "metadata": {},
   "source": [
    "#Q.9 What is the difference between the logging and print statements in python? When should you use logging over print statements in a real-world application?"
   ]
  },
  {
   "cell_type": "markdown",
   "id": "7c01703a-995e-4ce2-848c-c1c32d58dd5a",
   "metadata": {},
   "source": [
    "The main differences between 'logging' and 'print' statements in python are related to their intended purpose,features and flexibility.\n",
    "\n",
    "1.Purpose:\n",
    "  *'print': Primarily used for simple debugging or display information during development.\n",
    "  *'logging': Designed for more sophisticated logging providing a flexible and configurable way to manage and store log messages.\n",
    "  \n",
    "2.Features:\n",
    "  *'print': Outputs messages to the console and is mainly for temporary debugging purposes.It lacks features like log levels formatting options, and the ability to direct output to different destinations.\n",
    "  *'logging': Offers various log levels (DEBUG, INFO, WARNING, ERROR, CRITICAL),allows custom formatting, supports logging to different outputs(file,console,etc), and provides a way to configure logging globally.\n",
    "  \n",
    "3.Flexibility:\n",
    "  *'print': Limited configurability; all messages are printed to the console. \n",
    "  *'logging': Highly configurable, allowing us to control the log level, format,handlers, and destinations for different parts of your application independently.\n",
    "  \n",
    "4.Production Readiness:\n",
    "  *'print': Should be avoided in production code as it can clutter the output and potentially expose sensitive information. It is also challenging to selectively enable/disable prints in diffrent parts of the code.\n",
    "  *'logging': Designed for production use.It enables us to control the verbosity of logs by adjusting the log level.In production we can set the log level to INFO or higher to reduce the volume of output."
   ]
  },
  {
   "cell_type": "markdown",
   "id": "8a5a4508-2b67-48a1-8b1c-6a7c2ca264b8",
   "metadata": {},
   "source": [
    "In a real-world application, its recommended to use 'logging' over'print' for several reason:\n",
    "\n",
    "*Configurability: Logging allows us to configure the output based on log levels, making it easier to control the amount and type of information logged in different environments (development, testing, production).\n",
    "\n",
    "*Centralized Logging: Logging provides a structured way to collect and manage logs from various parts of our application This is crucial for troubleshooting and monitiring in production.\n",
    "\n",
    "*Severity Levels: Differentiate between debug, information, warning, error, and critical messages, making it easier to prioritize and respond to issues.\n",
    "\n",
    "*Consistancy: A standardized logging approach improves code readability and maintainability. It also encourages developers to log useful information for debugging and analysis."
   ]
  },
  {
   "cell_type": "markdown",
   "id": "5c564fd7-0cb2-4a2b-84b0-6fecf60a6f0e",
   "metadata": {},
   "source": [
    "#Q.10 Write a python program that logs a message to a file named \"app.log\" with the following requirements:\n",
    "*The log message should be \"Hello,World!\"\n",
    "*The log level should be set to \"INFO.\"\n",
    "*The log file should append new log entries without overwriting previous ones."
   ]
  },
  {
   "cell_type": "code",
   "execution_count": null,
   "id": "57e1ea07-5a9a-462f-9311-736988010141",
   "metadata": {},
   "outputs": [],
   "source": [
    "import logging\n",
    "# Configure logging to write to a file named \"app.log\"\n",
    "logging.basicConfig(filename='app.log', level=logging.INFO)\n",
    "# Log the message \"Hello, World!\" with INFO level\n",
    "logging.info(\"Hello, World!\")\n"
   ]
  },
  {
   "cell_type": "markdown",
   "id": "da840c63-69d7-455c-a3a0-3e7628989308",
   "metadata": {},
   "source": [
    "This program uses Python's built-in logging module to set up logging to a file named \"app.log\" with an INFO log level. It then logs the message \"Hello, World!\" to the file. The 'basicConfig' function ensures that the log entries are appended to the file without overwriting previous ones."
   ]
  },
  {
   "cell_type": "markdown",
   "id": "bea20012-83f9-45fb-97b8-67c74a5e7f0b",
   "metadata": {},
   "source": [
    "#Q.11 Creat a python program that logs an error message to the console and the file named \"error.log\" if an exception occurs during the program's execution. The error message should include the exception type and a timestamp."
   ]
  },
  {
   "cell_type": "markdown",
   "id": "74fcf17b-8111-4bf4-a95c-e8c8d95d78b3",
   "metadata": {},
   "source": [
    "a Python program that logs an error message to the console and a file named \"errors.log\" if an exception occurs:"
   ]
  },
  {
   "cell_type": "code",
   "execution_count": null,
   "id": "c4538bcf-5af8-4353-b35b-c2d4248104c2",
   "metadata": {},
   "outputs": [],
   "source": [
    "import logging\n",
    "import traceback\n",
    "from datetime import datetime\n",
    "# Configure logging to both console and file\n",
    "logging.basicConfig(level=logging.ERROR, format='%(asctime)s - \n",
    "                    %(levelname)s - %(message)s', filename='errors.log')\n",
    "def main():\n",
    "    try:\n",
    "        # Your main program logic here\n",
    "        # ...\n",
    "        # Simulate an exception for testing\n",
    "        raise ValueError(\"Example Exception\")\n",
    "    except Exception as e:\n",
    "        # Log the exception to console and file\n",
    "        error_message = f\"{type(e).__name__}: {str(e)}\"\n",
    "        logging.error(error_message)\n",
    "        logging.error(traceback.format_exc())\n",
    "if __name__ == \"__main__\":\n",
    "    main()\n"
   ]
  },
  {
   "cell_type": "markdown",
   "id": "967173e1-3b8d-4288-816e-069965937ec7",
   "metadata": {},
   "source": [
    "This program uses the 'logging' module to log errors. It configures logging to log messages of ERROR level and above to both the console and a file named \"errors.log\". The error message includes the exception type, the exception message, and a timestamp. In the 'main()' function, we can replace the example exception with our actual program logic."
   ]
  }
 ],
 "metadata": {
  "kernelspec": {
   "display_name": "Python 3 (ipykernel)",
   "language": "python",
   "name": "python3"
  },
  "language_info": {
   "codemirror_mode": {
    "name": "ipython",
    "version": 3
   },
   "file_extension": ".py",
   "mimetype": "text/x-python",
   "name": "python",
   "nbconvert_exporter": "python",
   "pygments_lexer": "ipython3",
   "version": "3.10.6"
  }
 },
 "nbformat": 4,
 "nbformat_minor": 5
}
