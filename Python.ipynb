{
 "cells": [
  {
   "cell_type": "markdown",
   "id": "ed7663a7-b28f-434c-ba43-8f35582bb857",
   "metadata": {},
   "source": [
    "1.Write an efficient algorithm that searches for a value target in an m x n integer matrix. This matrix has the following properties:\n",
    "Integers in each row are sorted from right to left.\n",
    "The first integer of each row is greater than the last integer of the previous row.\n",
    "                              Example-: \n",
    "                                        Input: matrix = [[1,3,5,7],[10,11,16,20],[23,30,34,60]], target = 3\n",
    "                                         Output: True"
   ]
  },
  {
   "cell_type": "markdown",
   "id": "ea9634d9-0b49-42dd-ba59-899f1aa086de",
   "metadata": {},
   "source": [
    "We can perform a binary search on the matrix to efficiently search for the target value. Here's a Python implementation:"
   ]
  },
  {
   "cell_type": "code",
   "execution_count": null,
   "id": "ab4e866d-4f06-4b15-8b49-8f14ed4c1a2d",
   "metadata": {},
   "outputs": [],
   "source": [
    "def searchMatrix(matrix, target):\n",
    "    if not matrix or not matrix[0]:\n",
    "        return False\n",
    "    rows, cols = len(matrix), len(matrix[0])\n",
    "    left, right = 0, rows * cols - 1\n",
    "    while left <= right:\n",
    "        mid = (left + right) // 2\n",
    "        mid_value = matrix[mid // cols][mid % cols]\n",
    "        if mid_value == target:\n",
    "            return True\n",
    "        elif mid_value < target:\n",
    "            left = mid + 1\n",
    "        else:\n",
    "            right = mid - 1\n",
    "    return False\n"
   ]
  },
  {
   "cell_type": "markdown",
   "id": "4c88c056-f9f3-4a33-9b77-cc06d648c4ca",
   "metadata": {},
   "source": [
    "We can use this function like this:"
   ]
  },
  {
   "cell_type": "code",
   "execution_count": null,
   "id": "e92a4456-66c0-4cc7-9791-584b8129bf5a",
   "metadata": {},
   "outputs": [],
   "source": [
    "matrix = [[1,3,5,7],[10,11,16,20],[23,30,34,60]]\n",
    "target = 3\n",
    "output = searchMatrix(matrix, target)\n",
    "print(output)  # Output: True\n"
   ]
  },
  {
   "cell_type": "markdown",
   "id": "5a9f0d3d-dddb-462b-8c86-c437210d51b2",
   "metadata": {},
   "source": [
    "This algorithm takes advantage of the sorted properties of the matrix to efficiently narrow down the search space using binary search."
   ]
  },
  {
   "cell_type": "markdown",
   "id": "4edf5381-7097-4cde-aa21-e22677bc3eb1",
   "metadata": {},
   "source": [
    "2.  Write a program that takes a string as input, and counts the frequency of each word in the string, there might  be repeated characters in the string. Your task is to find the highest frequency and returns the length of the  highest-frequency word. \n",
    "Note - You have to write at least 2 additional test cases in which your program will run successfully and provide  an explanation for the same.  "
   ]
  },
  {
   "cell_type": "markdown",
   "id": "6cf0278b-3bb4-4c13-8ae2-ae58d3c90d0c",
   "metadata": {},
   "source": [
    "Here's a Python program that takes a string as input, counts the frequency of each word, and returns the length of the highest-frequency word:"
   ]
  },
  {
   "cell_type": "code",
   "execution_count": null,
   "id": "19636bdf-c02f-43d0-a1ca-bcc91bbd15dc",
   "metadata": {},
   "outputs": [],
   "source": [
    "from collections import Counter\n",
    "def highest_frequency_word_length(input_string):\n",
    "    words = input_string.split()\n",
    "    word_counts = Counter(words)\n",
    "    if not word_counts:\n",
    "        return 0\n",
    "    max_word = max(word_counts, key=word_counts.get)\n",
    "    return len(max_word)\n",
    "# Test case 1\n",
    "input_str1 = \"Hello world world world! Python is awesome.\"\n",
    "output1 = highest_frequency_word_length(input_str1)\n",
    "print(f\"Test Case 1: {output1}\")  # Output: 5 (length of 'world')\n",
    "# Test case 2\n",
    "input_str2 = \"Programming is fun. Python is fun too!\"\n",
    "output2 = highest_frequency_word_length(input_str2)\n",
    "print(f\"Test Case 2: {output2}\")  # Output: 4 (length of 'fun')\n",
    "# Test case 3\n",
    "input_str3 = \"No repeated words in this string.\"\n",
    "output3 = highest_frequency_word_length(input_str3)\n",
    "print(f\"Test Case 3: {output3}\")  # Output: 8 (length of 'repeated')\n"
   ]
  },
  {
   "cell_type": "markdown",
   "id": "84d4ab07-05d9-4c9e-be8c-c0981dc8528c",
   "metadata": {},
   "source": [
    "Explanation:\n",
    "In Test Case 1, the word 'world' has the highest frequency (3 occurrences), so the program returns the length of 'world', which is 5.\n",
    "In Test Case 2, both 'Programming' and 'fun' have the highest frequency (2 occurrences each). The program returns the length of the first one encountered, so it returns the length of 'fun', which is 4.\n",
    "In Test Case 3, there are no repeated words, so the program returns 0 as there is no highest-frequency word."
   ]
  }
 ],
 "metadata": {
  "kernelspec": {
   "display_name": "Python 3 (ipykernel)",
   "language": "python",
   "name": "python3"
  },
  "language_info": {
   "codemirror_mode": {
    "name": "ipython",
    "version": 3
   },
   "file_extension": ".py",
   "mimetype": "text/x-python",
   "name": "python",
   "nbconvert_exporter": "python",
   "pygments_lexer": "ipython3",
   "version": "3.10.6"
  }
 },
 "nbformat": 4,
 "nbformat_minor": 5
}
