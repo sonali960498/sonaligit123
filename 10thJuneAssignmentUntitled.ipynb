{
 "cells": [
  {
   "cell_type": "markdown",
   "id": "376f4f8b-8654-46fb-94e1-64ffad42cc65",
   "metadata": {},
   "source": [
    "#Q.1 In python,what is the difference between a built-in function and a user-defined function?Provide an example of each."
   ]
  },
  {
   "cell_type": "markdown",
   "id": "3432cc45-69ca-4f00-896b-3a004d4a9d8a",
   "metadata": {},
   "source": [
    "1.Built-in Function:\n",
    "*Built-in function are provided by the python programming language itself.\n",
    "*they are part of the python standard library and are readily available for use without requiring additional coding.\n",
    "*Example of built-in functions include 'print()','len()',and 'max()'\n",
    "Example for built-in function:"
   ]
  },
  {
   "cell_type": "code",
   "execution_count": 1,
   "id": "6bcf677c-0b84-464a-8ea6-7958a602f8e5",
   "metadata": {},
   "outputs": [
    {
     "name": "stdout",
     "output_type": "stream",
     "text": [
      "5\n"
     ]
    }
   ],
   "source": [
    "# using the len() built-in function to find the length of a list\n",
    "my_list = [1,2,3,4,5]\n",
    "length = len(my_list)\n",
    "print(length) "
   ]
  },
  {
   "cell_type": "markdown",
   "id": "58982c1e-1992-4fac-b659-4b71a6bea372",
   "metadata": {},
   "source": [
    "1.User-Defined Function:\n",
    "*User-defined functions are created by the programmer to perform specific tasks.\n",
    "*They are defined using the 'def' keyword followed by a function name and a block of code.\n",
    "*Users can create custom functions tailored to their specific needs.\n",
    "Example of a user-defined function:"
   ]
  },
  {
   "cell_type": "code",
   "execution_count": 2,
   "id": "0527b043-c5ab-415f-a851-bc22eb57987b",
   "metadata": {},
   "outputs": [
    {
     "name": "stdout",
     "output_type": "stream",
     "text": [
      "16\n"
     ]
    }
   ],
   "source": [
    "# Defining a user-defined function to calculate the square of a number\n",
    "def square(x):\n",
    "    return x ** 2\n",
    "\n",
    "# Using the user-defined function\n",
    "result = square(4)\n",
    "print(result)"
   ]
  },
  {
   "cell_type": "markdown",
   "id": "5701e3be-325d-4f7e-b2df-67e8457997f2",
   "metadata": {},
   "source": [
    "#Q.2 How can you pass arguments to a function in python? Explain the difference between positional arguments and keyword arguments."
   ]
  },
  {
   "cell_type": "markdown",
   "id": "712ff6d9-fbc1-48f2-acbf-c53370f580e4",
   "metadata": {},
   "source": [
    "In python you can pass arguments to a function in two main ways:Using positional arguments and using keyword arguments.Here's an explanation of each and the key differences between them.\n",
    "\n",
    "1.Positional Arguments:\n",
    "*Positional arguments are passed to a function based on their position or order in the function's parameter list.\n",
    "*The order of arguments matters,and they are assigned to the corresponding parameters in the function definition from left to right.\n",
    "*Positional arguments are suitable for functions with a fixed number of parameters and when the order of arguments is clear.\n",
    "Example of positional arguments:"
   ]
  },
  {
   "cell_type": "code",
   "execution_count": 3,
   "id": "e0c8f8f3-e1c4-4fd6-acd9-155b43e46fcd",
   "metadata": {},
   "outputs": [
    {
     "name": "stdout",
     "output_type": "stream",
     "text": [
      "Hello, Alice!\n"
     ]
    }
   ],
   "source": [
    "# Function definition with two positional parameters \n",
    "def greet(name, greeting):\n",
    "    print(f\"{greeting}, {name}!\")\n",
    "    \n",
    "# Passing arguments by position\n",
    "greet(\"Alice\", \"Hello\")"
   ]
  },
  {
   "cell_type": "markdown",
   "id": "8e6337f0-1c95-4614-a80d-e511bb723153",
   "metadata": {},
   "source": [
    "1.Keyword Arguments:\n",
    "*Keyword arguments are passed to a function by explicity specifying the parameter name and its corresponding value.\n",
    "*This allows you to pass arguments out of order and makes code more readable and self-explanatory.\n",
    "*Keyword arguments are especially useful when a function has a large number of optional parameters or when you want to make your code more explicit and maintainable.\n",
    "Example of keyword arguments:"
   ]
  },
  {
   "cell_type": "code",
   "execution_count": 4,
   "id": "6145482f-2049-4216-8647-e9a5f1627a84",
   "metadata": {},
   "outputs": [
    {
     "name": "stdout",
     "output_type": "stream",
     "text": [
      "Hi,Bob!\n"
     ]
    }
   ],
   "source": [
    "# Function definition with two keyword parameters\n",
    "def greet(name, greeting):\n",
    "    print(f\"{greeting},{name}!\")\n",
    "    \n",
    "# Passing arguments by keyword\n",
    "greet(greeting = \"Hi\", name = \"Bob\")"
   ]
  },
  {
   "cell_type": "markdown",
   "id": "f1d9e8a7-14c0-4998-a73e-f46174d17f71",
   "metadata": {},
   "source": [
    "Key difference between positional and keyword arguments:\n",
    "\n",
    "*Positional arguments rely on the order of parameters,while keyword arguments explicitly mention the parameters names.\n",
    "*With positional arguments,the order matters;with keyword arguments, it doesn't.\n",
    "*You can mix positional and keyword arguments in a function call but positional arguments must come before keyword arguments.\n",
    "\n",
    "Example of mixing positional and keyword arguments:"
   ]
  },
  {
   "cell_type": "code",
   "execution_count": 7,
   "id": "710dcab1-bb5e-4da3-b4bf-ff670a202cab",
   "metadata": {},
   "outputs": [
    {
     "name": "stdout",
     "output_type": "stream",
     "text": [
      "Hey,Eve!\n",
      "Hola,charlie!\n"
     ]
    }
   ],
   "source": [
    "greet(\"Eve\", greeting = \"Hey\")\n",
    "greet(name=\"charlie\", greeting=\"Hola\")"
   ]
  },
  {
   "cell_type": "markdown",
   "id": "588f9f01-cd8e-4b41-8d38-f1f8cb2f1c0b",
   "metadata": {},
   "source": [
    "#Q.3 What is the purpose of the return statement in a function? Can a function have multiple return statements?Explain with an example."
   ]
  },
  {
   "cell_type": "markdown",
   "id": "c667a68a-c753-4a1f-b1af-8980e1f48edf",
   "metadata": {},
   "source": [
    "The purpose of the 'return' statement in a function in python is to specify what value or values the function should produce as its result. When a 'return' statement is encountered in a function,it immediately exist the function and returns the specified value(s) to the caller.\n",
    "\n",
    "A function can indeed have multiple 'return' statements,and which one gets executed depends on conditional logic within the function.\n",
    "once a 'return' statement is executed,the function terminates,and no further code in the function is executed.\n",
    "\n",
    "Example illustrating the use of a 'return' statement and multiple 'return' statements in a function:"
   ]
  },
  {
   "cell_type": "code",
   "execution_count": null,
   "id": "113a6463-156a-4f9a-83c8-01841d3c4216",
   "metadata": {},
   "outputs": [],
   "source": [
    "# Function that checks if a number is even or odd and return a message\n",
    "def is_even_or_odd(number):\n",
    "    if number % 2 == 0:\n",
    "        return f\"{number} is even.\"\n",
    "    else:\n",
    "        return f\"{number} is odd.\""
   ]
  },
  {
   "cell_type": "code",
   "execution_count": 6,
   "id": "9bbef93d-b5c1-4afd-afc8-6b15361d7b62",
   "metadata": {},
   "outputs": [
    {
     "name": "stdout",
     "output_type": "stream",
     "text": [
      "4 is even.\n"
     ]
    }
   ],
   "source": [
    "# Using the function with a single return statement \n",
    "result1 = is_even_or_odd(4)\n",
    "print(result1)"
   ]
  },
  {
   "cell_type": "code",
   "execution_count": 7,
   "id": "0b262293-e28b-4d5b-a4f7-5852df7addad",
   "metadata": {},
   "outputs": [
    {
     "name": "stdout",
     "output_type": "stream",
     "text": [
      "7 is odd.\n"
     ]
    }
   ],
   "source": [
    "# Using the function with muliple return statements\n",
    "result2 = is_even_or_odd(7)\n",
    "print(result2)"
   ]
  },
  {
   "cell_type": "markdown",
   "id": "3e92489c-1c07-47e7-b2c2-fcafbe8c9169",
   "metadata": {},
   "source": [
    "In this example, the function 'is_even_or_odd\" has two 'return' statements.DEpending on whether the input numbers is even or odd, one of the two 'return' statements is executed. If the number is even, the first 'return' statement is executed, and if it's odd,the second 'return'statement is executed."
   ]
  },
  {
   "cell_type": "markdown",
   "id": "b4d0a9a8-0e6b-467a-854e-75b492a6895c",
   "metadata": {},
   "source": [
    "#Q.4 What are the lambda functions in python? How are they different from regular functions? Provide an example where a lambda function can be useful."
   ]
  },
  {
   "cell_type": "markdown",
   "id": "40699b69-ffa6-4f03-9a03-403a13d0fd78",
   "metadata": {},
   "source": [
    "Lambda functions i python, also known as anonymous functions, are small inline functions defined using the 'lambda' keyword.They are a way to create simple,one-line functions without the need for a full function definition.Lambda function are typically used for shor,throwaway operations where you don't want to define a separate named function.\n",
    "\n",
    "Here's the basic syntax of a lambda function:"
   ]
  },
  {
   "cell_type": "code",
   "execution_count": null,
   "id": "d9dee9ce-9a53-49b5-871b-e8e9067fe5ec",
   "metadata": {},
   "outputs": [],
   "source": [
    "lambda arguments: expression"
   ]
  },
  {
   "cell_type": "markdown",
   "id": "a69a0198-6664-456f-8022-f42ab15deaf1",
   "metadata": {},
   "source": [
    "Key differences between lambda functions and regular functions:\n",
    "\n",
    "1.Anonymous: Lambda functions are anonymous,meaning they don't have a name.They are often used where a small function is needed for a short period and doesn't require a seperate function name.\n",
    "\n",
    "2.Single Expression: Lambda functions can only consist of a single expression. They return the result of evaluating this expression.\n",
    "\n",
    "Example where a lambda function can be useful.\n",
    "Suppose you have a list of numbers, and you want to sort them based on their remainder when divided by 3. You can use a lambda function as the key argument in the 'sirted()' function to achive this:"
   ]
  },
  {
   "cell_type": "code",
   "execution_count": 9,
   "id": "06d153ae-2dcf-4f79-a7bb-c1a35104a180",
   "metadata": {},
   "outputs": [
    {
     "name": "stdout",
     "output_type": "stream",
     "text": [
      "[3, 10, 4, 7, 8, 20, 5, 11]\n"
     ]
    }
   ],
   "source": [
    "numbers = [10,4,7,8,20,5,3,11]\n",
    "\n",
    "# Using a lambda function to sort the numbers based on their remainder when divided by 3\n",
    "sorted_numbers = sorted(numbers, key=lambda x: x % 3)\n",
    "\n",
    "print(sorted_numbers)"
   ]
  },
  {
   "cell_type": "markdown",
   "id": "e843ff8a-1500-4e9d-b2b5-448b673fc7e6",
   "metadata": {},
   "source": [
    "In this example the lambda function 'lambda x: x % 3' is used as the 'key' argument in the 'sorted()' function. It defines a custom sorting criterion based on the remainder when each number is divided by 3. The lambda function is concise and fits the purpose well. making it a useful tool in such cases where you need a short,specialized function."
   ]
  },
  {
   "cell_type": "markdown",
   "id": "c1c60e41-1863-4880-8927-a97e642711aa",
   "metadata": {},
   "source": [
    "#Q.5 How does the concept of \"scope\" apply to functions in python? Explain the difference between local scope and global scope."
   ]
  },
  {
   "cell_type": "markdown",
   "id": "f422c9a8-78d2-4d5f-9788-cbc73cc8bce4",
   "metadata": {},
   "source": [
    "The concept of \"scope\" refers to region or context in which a variable is defined and can be accessed. Scope plays a crucial role in functions.and there are two main types of scope to consider: local scope and global scope.\n",
    "\n",
    "1.Local Scope:\n",
    "*Local scope,also known as function scope, refers to region within a function where variables are defined.\n",
    "*Variables defined within a function are said to have local scope, meaning they are only accessible within that function.\n",
    "*These variables are not visible or accessible outside of the function in which they are defined:\n",
    "\n",
    "Example of local scope:"
   ]
  },
  {
   "cell_type": "code",
   "execution_count": 11,
   "id": "1e28b71e-6326-4816-9f33-bb0fa01f0d40",
   "metadata": {},
   "outputs": [
    {
     "name": "stdout",
     "output_type": "stream",
     "text": [
      "10\n"
     ]
    }
   ],
   "source": [
    "def my_function():\n",
    "    x = 10   # x has local scope within my_function\n",
    "    print(x)\n",
    "    \n",
    "my_function()\n",
    "# Accessing x outside the functin would result in an error\n",
    "# print(x) # This would raise a NameError:name 'x' is not defined"
   ]
  },
  {
   "cell_type": "markdown",
   "id": "2a5076b1-584b-401d-b90a-e80c634d5479",
   "metadata": {},
   "source": [
    "1.Global Scope:\n",
    "*Global scope refers to the outernmost region is a python script or module wher variables are defined.\n",
    "*Variables defined in the main body of a script or at the top level of a module have global scope.\n",
    "*Global variables can be accessed from anywhere within the script or module, including within functions.\n",
    "\n",
    "Example of global scope:"
   ]
  },
  {
   "cell_type": "code",
   "execution_count": 12,
   "id": "1e34d40d-0ab3-4a8d-90a6-f6d12b4c69bd",
   "metadata": {},
   "outputs": [
    {
     "name": "stdout",
     "output_type": "stream",
     "text": [
      "20\n",
      "20\n"
     ]
    }
   ],
   "source": [
    "y = 20  # y has global scope\n",
    "\n",
    "def my_function():\n",
    "    print(y)  #y can be accessed inside the function\n",
    "    \n",
    "my_function()\n",
    "print(y)   # y can be accessed outside function"
   ]
  },
  {
   "cell_type": "markdown",
   "id": "c05ad50b-ca97-4b4b-b95c-c5623bac8c4d",
   "metadata": {},
   "source": [
    "Key difference:\n",
    "\n",
    "*Local scope is confined to the function in which variables are defined. Variables with local scope are not accessible outside that specific function.\n",
    "*Global scope encompasses the entire scipt or module, allowing variables to be acceseed from any part of the script or module.\n",
    "\n",
    "It's important to note that if a variable with the same name exists both in the local and global scope, the local variable takes precedence withi the function. However,we can access the global variables explicitly using the 'global' keyword."
   ]
  },
  {
   "cell_type": "markdown",
   "id": "a219264e-4be4-4113-ab42-25dfde239f9e",
   "metadata": {},
   "source": [
    "#Q.6 How can you use the \"return\" statement in python function to return multiple values?"
   ]
  },
  {
   "cell_type": "markdown",
   "id": "6710781f-d0aa-42c2-a345-58700ba7322b",
   "metadata": {},
   "source": [
    "We can use the 'return' statement in a function to return multiple values as a tuple, a list or any other data structure that can hold multiple values. Here's how you can do it:\n",
    "\n",
    "1.Using a Tuple: we can return multiple values as a tuple, and then unpack th tuple when you call the function."
   ]
  },
  {
   "cell_type": "code",
   "execution_count": 13,
   "id": "799a88e1-9cd6-4dd5-baf7-6d410a5b9ac1",
   "metadata": {},
   "outputs": [
    {
     "name": "stdout",
     "output_type": "stream",
     "text": [
      "5 10 15\n"
     ]
    }
   ],
   "source": [
    "def multiple_values():\n",
    "    x = 5\n",
    "    y = 10\n",
    "    z = 15\n",
    "    return x,y,z\n",
    "\n",
    "result = multiple_values()\n",
    "a,b,c = result  # Unpacking the tuple\n",
    "print(a,b,c)  "
   ]
  },
  {
   "cell_type": "markdown",
   "id": "b888e2b9-342d-4c9e-8be9-48b9befe31a4",
   "metadata": {},
   "source": [
    "2.Using a List: we can return multiple values as a list."
   ]
  },
  {
   "cell_type": "code",
   "execution_count": 14,
   "id": "dc99c212-2a1e-4400-ae3c-d4baaea9970b",
   "metadata": {},
   "outputs": [
    {
     "name": "stdout",
     "output_type": "stream",
     "text": [
      "[5, 10, 15]\n"
     ]
    }
   ],
   "source": [
    "def multiple_values():\n",
    "    x = 5\n",
    "    y = 10\n",
    "    z = 15\n",
    "    return [x,y,z]\n",
    "\n",
    "result = multiple_values()\n",
    "print(result)"
   ]
  },
  {
   "cell_type": "markdown",
   "id": "dc25afbd-cc96-42fc-b211-9c241451e2fb",
   "metadata": {},
   "source": [
    "3.Using Named Tuples: we can use python's\n",
    "'collections.namedtuple' to return multiple values with named fields which can make our code more readables."
   ]
  },
  {
   "cell_type": "code",
   "execution_count": 15,
   "id": "4d7274db-4ff9-4fb6-bde6-01a3994e144c",
   "metadata": {},
   "outputs": [
    {
     "name": "stdout",
     "output_type": "stream",
     "text": [
      "5 10 15\n"
     ]
    }
   ],
   "source": [
    "from collections import namedtuple\n",
    "\n",
    "def multiple_values():\n",
    "    Values = namedtuple('Values',['x','y','z'])\n",
    "    x = 5\n",
    "    y = 10\n",
    "    z = 15\n",
    "    return Values(x,y,z)\n",
    "\n",
    "result = multiple_values()\n",
    "print(result.x, result.y, result.z)"
   ]
  },
  {
   "cell_type": "markdown",
   "id": "8a1489f2-1bbc-4b12-b201-a90e670a81d8",
   "metadata": {},
   "source": [
    "4.Using a Dictionary: We can also return multiple values as key-values pairs in a dictionary."
   ]
  },
  {
   "cell_type": "code",
   "execution_count": 16,
   "id": "1871af68-c98c-4ccc-8340-3915a82de72b",
   "metadata": {},
   "outputs": [
    {
     "name": "stdout",
     "output_type": "stream",
     "text": [
      "5 10 15\n"
     ]
    }
   ],
   "source": [
    "def multiple_values():\n",
    "    x = 5\n",
    "    y = 10\n",
    "    z = 15\n",
    "    return{'x': x,'y': y,'z': z}\n",
    "\n",
    "result = multiple_values()\n",
    "print(result['x'], result['y'], result['z'])"
   ]
  },
  {
   "cell_type": "markdown",
   "id": "f66be43d-121d-4b22-a3b8-0650b6f74451",
   "metadata": {},
   "source": [
    "These are the various ways to return multiple values from a python function."
   ]
  },
  {
   "cell_type": "markdown",
   "id": "7198cb13-b3c2-4658-839d-052a39bdfbe2",
   "metadata": {},
   "source": [
    "#Q.7 What is the difference between the \"pass by value\" and 'pass by reference\" concepts when it comes to function arguments in python?"
   ]
  },
  {
   "cell_type": "markdown",
   "id": "372e2777-ec7e-4a83-b846-b99630df132b",
   "metadata": {},
   "source": [
    "1.Pass by Value:\n",
    "*In pass by value,a copy of the actual data (the value) is passed to the function. Any modifictions made to the parameter inside the function do not affect the original variable outside the function.\n",
    "*This is common in languages like c and java for primitive data types like integers and floats.\n",
    "\n",
    "2.Pass by Reference:\n",
    "*In pass by reference,a reference or memory address to the original data is passed to the function. Any changes made to the parameters inside the function directly affect the orignal variable outside the function.\n",
    "*This is common in languages like C++ when passing variables by using pointers or references.\n",
    "\n",
    "In python:\n",
    "*Python passes references to objects as function arguments.\n",
    "However,whether the original variable is modified or not depends on the type of objects:\n",
    "*Immutable objects(e.g.,numbers,strings,tuples)behave somewhat like pass be value. Changes inside the function do not affect the original variable.\n",
    "*Mutable objects(e.g.,lists,dictionaries) behave more like pass by reference. Changes inside the function affected the original variables.\n",
    "\n",
    "Example:"
   ]
  },
  {
   "cell_type": "code",
   "execution_count": 5,
   "id": "b67db90d-91f5-4cfd-938c-3e1a6230fa4d",
   "metadata": {},
   "outputs": [
    {
     "name": "stdout",
     "output_type": "stream",
     "text": [
      "10\n"
     ]
    }
   ],
   "source": [
    "def modify_immutable(x):\n",
    "    x += 1\n",
    "    \n",
    "def modify_mutable(list):\n",
    "    list.append(42)\n",
    "    \n",
    "a = 10\n",
    "modify_immutable(a)\n",
    "print(a)"
   ]
  },
  {
   "cell_type": "code",
   "execution_count": 6,
   "id": "a5ca1b63-dc2d-44e3-b28b-74db6c88013e",
   "metadata": {},
   "outputs": [
    {
     "name": "stdout",
     "output_type": "stream",
     "text": [
      "[1, 2, 3, 42]\n"
     ]
    }
   ],
   "source": [
    "my_list = [1,2,3]\n",
    "modify_mutable(my_list)\n",
    "print(my_list)"
   ]
  },
  {
   "cell_type": "markdown",
   "id": "3b598d5d-fb47-4dbe-b384-8431ab884292",
   "metadata": {},
   "source": [
    "In this case,the integer 'a' is immutable so changes inside the function don't affect it. In the second case the list 'my_list in mutable, so changes made inside the function are reflected in the original list."
   ]
  },
  {
   "cell_type": "markdown",
   "id": "03f9760e-8d37-4d83-a769-58e81589167f",
   "metadata": {},
   "source": [
    "#Q.8 Create a function that can intake integer or decimal value and do following operations:\n",
    "a.LOgarithmic function(logx)\n",
    "b.Exponentional function(exp(x))\n",
    "c.Power function with base2(2x)\n",
    "d.Square root"
   ]
  },
  {
   "cell_type": "code",
   "execution_count": null,
   "id": "9539708e-9030-4713-bb2a-505362b58e5d",
   "metadata": {},
   "outputs": [],
   "source": [
    "import math\n",
    "\n",
    "def perfor_operation(x):\n",
    "    try:\n",
    "        x = float(x)  # convert input to a float to handle decimal values\n",
    "        \n",
    "        # calculate the operations\n",
    "        logarithm = math.log(x) \n",
    "        exponential = math.exp(x)\n",
    "        power_of_two = 2 ** x\n",
    "        square_root = math.sqrt(x)\n",
    "        \n",
    "        # Return the results\n",
    "        return {'logarithm': logarithm,\n",
    "                'exponential':exponetial,\n",
    "                'power_of_two': power_of_two,\n",
    "                'square_root': square_root}\n",
    "    \n",
    "    except ValueError:\n",
    "        return \"Input must be a valid number.\"\n",
    "    \n",
    "# Example usages:\n",
    "input_value = input(\"Enter an integer or decimal value:\")\n",
    "result = perform_operations(input_value)\n",
    "\n",
    "if isinstance(result, dict):\n",
    "    print(f\"logarithm: {result['logarithm']}\")\n",
    "    print(f\"Exponential: {result['exponential']}\")\n",
    "    print(f\"2^x: {result['power_of_two']}\")\n",
    "    print(f\"Square Root: {result['square root']}\")\n",
    "else:\n",
    "    print(result)"
   ]
  },
  {
   "cell_type": "markdown",
   "id": "7c2b1684-1e66-483a-80a3-af65fb1e2fce",
   "metadata": {},
   "source": [
    "This function takes an input value, converts it to a float,and then calculates the logarithmic, exponential,power of 2 and square root operation.It returns a dictionary with the result or an erro message if the input is not valide number."
   ]
  },
  {
   "cell_type": "markdown",
   "id": "9bf1a808-fc1d-4dc7-95d2-1866dc1160c6",
   "metadata": {},
   "source": [
    "#Q.9 Create a function that takes a full name as an argumet and returns first name and last name."
   ]
  },
  {
   "cell_type": "code",
   "execution_count": null,
   "id": "a611d6fa-13b5-4380-9019-490a9d303420",
   "metadata": {},
   "outputs": [],
   "source": [
    "def split_full_name(full_name):\n",
    "    name_parts = full_name.split()\n",
    "    \n",
    "    if len(name_parts) >= 2:\n",
    "        first_name = name_parts[0]\n",
    "        last_name = ''.Join(name_parts[1:])\n",
    "        return first_name, last_name\n",
    "    else:\n",
    "        return \"Invalid input. Please provide a full name with at least a first and last name.\"\n",
    "      \n",
    "# Example usage:\n",
    "full_name = input(\"Enter a full name:\")\n",
    "first_name, last_name = spit_full_name(full_name)\n",
    "print(\"First Name:\",first_name)\n",
    "print(\"Last Name:\",last_name)"
   ]
  },
  {
   "cell_type": "markdown",
   "id": "59148182-46af-4b43-b822-59f9f3d85e8c",
   "metadata": {},
   "source": [
    "We can call this function with a full name and it will return the first name and last name as separate values."
   ]
  },
  {
   "cell_type": "code",
   "execution_count": null,
   "id": "f3ec77ca-0400-490a-9138-dd2115ff7dce",
   "metadata": {},
   "outputs": [],
   "source": []
  }
 ],
 "metadata": {
  "kernelspec": {
   "display_name": "Python 3 (ipykernel)",
   "language": "python",
   "name": "python3"
  },
  "language_info": {
   "codemirror_mode": {
    "name": "ipython",
    "version": 3
   },
   "file_extension": ".py",
   "mimetype": "text/x-python",
   "name": "python",
   "nbconvert_exporter": "python",
   "pygments_lexer": "ipython3",
   "version": "3.10.6"
  }
 },
 "nbformat": 4,
 "nbformat_minor": 5
}
