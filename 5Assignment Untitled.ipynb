{
 "cells": [
  {
   "cell_type": "markdown",
   "id": "6cbd3f93-5220-4c22-9617-307d7bc3232c",
   "metadata": {},
   "source": [
    "#Q.1 What does an empty dictionary's code look like?"
   ]
  },
  {
   "cell_type": "code",
   "execution_count": null,
   "id": "78809876-247f-4460-bc72-df38f03a5562",
   "metadata": {},
   "outputs": [],
   "source": [
    "An empty dictionary's code looks like this:"
   ]
  },
  {
   "cell_type": "code",
   "execution_count": null,
   "id": "38aefec9-abcc-4207-b0f5-79f7b7e53aa5",
   "metadata": {},
   "outputs": [],
   "source": [
    "empty_dict = {}"
   ]
  },
  {
   "cell_type": "markdown",
   "id": "7abeaf0f-af0d-46a5-91fd-510b2ca4c962",
   "metadata": {},
   "source": [
    "#Q.2 What is the value of a dictionary value with the key 'foo' and the value 42?"
   ]
  },
  {
   "cell_type": "code",
   "execution_count": null,
   "id": "ecdace95-e8b1-44ab-875f-3e60e3fc038d",
   "metadata": {},
   "outputs": [],
   "source": [
    "The value of a dictionary value with the key 'foo' and the value 42 is 42."
   ]
  },
  {
   "cell_type": "code",
   "execution_count": 4,
   "id": "21fd4ddc-3049-4d88-bd5d-87f271440a46",
   "metadata": {},
   "outputs": [],
   "source": [
    "my_dict = {'foo': 42}\n",
    "value = my_dict['foo']"
   ]
  },
  {
   "cell_type": "code",
   "execution_count": null,
   "id": "060673fe-6bda-472b-8489-a1e2d5639268",
   "metadata": {},
   "outputs": [],
   "source": [
    "The variable 'value'will now hold the value 42."
   ]
  },
  {
   "cell_type": "markdown",
   "id": "b127498e-5e94-4afe-8947-19104d50d923",
   "metadata": {},
   "source": [
    "#Q.3 What is the most significant distinction between a dictionary and a list?"
   ]
  },
  {
   "cell_type": "markdown",
   "id": "4d82f2de-bb8e-44ee-b44f-0236a0caefe3",
   "metadata": {},
   "source": [
    "The most significant distinction between a dictionary and a list is how they store and access data.\n",
    "1.Dictionary: A dictionary is an unordered collection of key-value pairs,where each key must be unique.It allows you to access values using their corresponding keys,making it effcient for retrieving specific data quickly.\n",
    "1.List: A list is an ordered collection of elements,and each element can be accessed using its index.Unlike dictionaries, lists do not use keys for access,and the order of elements is maintained."
   ]
  },
  {
   "cell_type": "markdown",
   "id": "c74dc5b3-367e-4cb4-a683-f40071783f5e",
   "metadata": {},
   "source": [
    "#Q.4 What happens if you try to access spam['foo'] if spam is {'bar':100}?"
   ]
  },
  {
   "cell_type": "markdown",
   "id": "8ece4aa2-cbe4-4ee2-bd11-c2ec52d329dc",
   "metadata": {},
   "source": [
    "You will encounter a KeyError. This is because the key 'foo' does not exist in the dictionary 'spam', and attempting to access a non-existent key in a dictionary raises a keyError in python."
   ]
  },
  {
   "cell_type": "code",
   "execution_count": 3,
   "id": "98641bdd-d6ea-42f1-91c3-8f1e8565b457",
   "metadata": {},
   "outputs": [
    {
     "ename": "KeyError",
     "evalue": "'foo'",
     "output_type": "error",
     "traceback": [
      "\u001b[0;31m---------------------------------------------------------------------------\u001b[0m",
      "\u001b[0;31mKeyError\u001b[0m                                  Traceback (most recent call last)",
      "Cell \u001b[0;32mIn [3], line 2\u001b[0m\n\u001b[1;32m      1\u001b[0m spam \u001b[38;5;241m=\u001b[39m {\u001b[38;5;124m'\u001b[39m\u001b[38;5;124mbar\u001b[39m\u001b[38;5;124m'\u001b[39m: \u001b[38;5;241m100\u001b[39m}\n\u001b[0;32m----> 2\u001b[0m value \u001b[38;5;241m=\u001b[39m \u001b[43mspam\u001b[49m\u001b[43m[\u001b[49m\u001b[38;5;124;43m'\u001b[39;49m\u001b[38;5;124;43mfoo\u001b[39;49m\u001b[38;5;124;43m'\u001b[39;49m\u001b[43m]\u001b[49m\n",
      "\u001b[0;31mKeyError\u001b[0m: 'foo'"
     ]
    }
   ],
   "source": [
    "spam = {'bar': 100}\n",
    "value = spam['foo'] "
   ]
  },
  {
   "cell_type": "markdown",
   "id": "5b3fa00c-c6d4-41ca-bd13-91adf022f44f",
   "metadata": {},
   "source": [
    "#Q.5 If dictionary is stored in spam, what is the difference between the expressions'cat' in spam and 'cat' in spam.keys()?"
   ]
  },
  {
   "cell_type": "markdown",
   "id": "e67e3fc1-d111-4c74-a241-f3c60b5a1bba",
   "metadata": {},
   "source": [
    "Both expression,''cat'in spam' and ''cat in spam.keys()' check for the existence of the key ''cat' in the dictionary 'spam',but there is a subtle difference in how they achieve it:\n",
    "\n",
    "1.''cat'in spam': This expression checks if the key 'cat' exists in the dictionary 'spam'.It directly looks for the key in the dictionary's keys,and if the key is found,it returns'True' otherwise,it returns 'False'\n",
    "\n",
    "2.''cat'in spam.key()': This expression first retrieves all the keys from the dictionary 'spam' using the 'keys()' method and then checks if the key 'cat' exists among those keys.If the key is found,it returns'True': otherwise it returns'False"
   ]
  },
  {
   "cell_type": "markdown",
   "id": "bd9afd05-3a8d-4692-b59b-2c1ea107ffe0",
   "metadata": {},
   "source": [
    "#Q.6 If a dictionary is stored in spam,what is the difference between the expressions 'cat' in spam and 'cat' in spam.values()?"
   ]
  },
  {
   "cell_type": "markdown",
   "id": "beb97e15-d0d9-4e17-ae99-7bf4aeaf363e",
   "metadata": {},
   "source": [
    "1.''cat'in spam': This expression checks if the string 'cat' exists as a key in the dictionary 'spam'.It looks for the key directly in the dictionary's keys,and if the key is found,it returns 'True': otherwise, it returns'False'\n",
    "\n",
    "2.''cat in spam.values()': This expression checks if the string 'cat' exists as a value in the dictionary 'spam'.It retrieves all the values from the dictionary using the 'values() method and then checks if the value 'cat' exists among those values.If the value is found,it returns'True'; otherwise it returns 'False'."
   ]
  },
  {
   "cell_type": "markdown",
   "id": "227e23a6-5f3f-42b6-836f-542185705119",
   "metadata": {},
   "source": [
    "#Q.7 What is the shortcut for the following code?\n",
    "if'color'not in spam:\n",
    "spam['color']='black'"
   ]
  },
  {
   "cell_type": "markdown",
   "id": "87f30bdb-bd07-4cb0-9571-eec862a77a4f",
   "metadata": {},
   "source": [
    "You can use the 'setdefault()' method to achive the same result in a shorter way:'spam.setdefault('color','black')'"
   ]
  },
  {
   "cell_type": "markdown",
   "id": "28be68ab-5726-4ba4-9d53-749e4db916a2",
   "metadata": {},
   "source": [
    "#Q.8 How do you \"pretty print\" dictionary values using which module and function?"
   ]
  },
  {
   "cell_type": "markdown",
   "id": "67d94c5b-c515-41e3-bab8-1b3d51b585c0",
   "metadata": {},
   "source": [
    "YOu can \"pretty print dictionary values in python using the 'pprint' module and its 'pprint()' function."
   ]
  },
  {
   "cell_type": "code",
   "execution_count": 1,
   "id": "a5d03e4c-cdcc-4a7a-a6a2-9107176476bc",
   "metadata": {},
   "outputs": [
    {
     "name": "stdout",
     "output_type": "stream",
     "text": [
      "{'age': 30, 'city': 'New York', 'name': 'John'}\n"
     ]
    }
   ],
   "source": [
    "from pprint import pprint\n",
    "\n",
    "my_dict = {\"name\":\"John\", \"age\":30, \"city\":\"New York\"}\n",
    "pprint(my_dict, indent=4)"
   ]
  }
 ],
 "metadata": {
  "kernelspec": {
   "display_name": "Python 3 (ipykernel)",
   "language": "python",
   "name": "python3"
  },
  "language_info": {
   "codemirror_mode": {
    "name": "ipython",
    "version": 3
   },
   "file_extension": ".py",
   "mimetype": "text/x-python",
   "name": "python",
   "nbconvert_exporter": "python",
   "pygments_lexer": "ipython3",
   "version": "3.10.6"
  }
 },
 "nbformat": 4,
 "nbformat_minor": 5
}
