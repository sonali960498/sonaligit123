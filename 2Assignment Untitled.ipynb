{
 "cells": [
  {
   "cell_type": "markdown",
   "id": "a7375452-f817-47f0-9599-0918b12fb8c7",
   "metadata": {},
   "source": [
    "#Q.1 what are the two values of the boolean data type? How do you write them?"
   ]
  },
  {
   "cell_type": "markdown",
   "id": "04e24e91-cb1b-45fb-b3a8-a3fc916bb1a8",
   "metadata": {},
   "source": [
    "Answer- True and False.\n",
    "        using capital T and F, with the rest of the word in lowercase.\n",
    "        These values represent binary logic where 'True' stads for \"true\"or \"1\"         and 'False' stands for \"False\" or \"0\"."
   ]
  },
  {
   "cell_type": "markdown",
   "id": "4321f0d4-19c6-4818-be00-362ce497a095",
   "metadata": {},
   "source": [
    "#Q.2 What are the three different types of Boolean operator's?"
   ]
  },
  {
   "cell_type": "code",
   "execution_count": null,
   "id": "66943a6a-ea5b-4ae5-af46-8e408d0e940b",
   "metadata": {},
   "outputs": [],
   "source": [
    "Answer- and,\n",
    "        or, \n",
    "        not."
   ]
  },
  {
   "cell_type": "markdown",
   "id": "1f770c88-c8c6-490e-8f7b-0280e77a9045",
   "metadata": {},
   "source": [
    "#Q.3 Make a list of each Boolean operator's truth table (i.e every possible combination of Boolean values for the operator and what it evaluate)."
   ]
  },
  {
   "cell_type": "code",
   "execution_count": null,
   "id": "2a5fda6b-4e60-4c93-b67d-b5fa5a967c6d",
   "metadata": {},
   "outputs": [],
   "source": [
    "1.AND operator"
   ]
  },
  {
   "cell_type": "code",
   "execution_count": 10,
   "id": "56a81de7-1296-433b-9e39-2c4f6ec716af",
   "metadata": {},
   "outputs": [
    {
     "data": {
      "text/plain": [
       "True"
      ]
     },
     "execution_count": 10,
     "metadata": {},
     "output_type": "execute_result"
    }
   ],
   "source": [
    "True and True"
   ]
  },
  {
   "cell_type": "code",
   "execution_count": 11,
   "id": "6a54ac6a-0000-4f62-8cb0-f7e410f11b0b",
   "metadata": {},
   "outputs": [
    {
     "data": {
      "text/plain": [
       "False"
      ]
     },
     "execution_count": 11,
     "metadata": {},
     "output_type": "execute_result"
    }
   ],
   "source": [
    "True and False"
   ]
  },
  {
   "cell_type": "code",
   "execution_count": 12,
   "id": "25f073b7-ae44-4c15-9fe1-8aa49bc42837",
   "metadata": {},
   "outputs": [
    {
     "data": {
      "text/plain": [
       "False"
      ]
     },
     "execution_count": 12,
     "metadata": {},
     "output_type": "execute_result"
    }
   ],
   "source": [
    "False and True"
   ]
  },
  {
   "cell_type": "code",
   "execution_count": 13,
   "id": "25f4c3cb-d1d8-40f2-adad-2cd990fe3b53",
   "metadata": {},
   "outputs": [
    {
     "data": {
      "text/plain": [
       "False"
      ]
     },
     "execution_count": 13,
     "metadata": {},
     "output_type": "execute_result"
    }
   ],
   "source": [
    "False and False "
   ]
  },
  {
   "cell_type": "code",
   "execution_count": null,
   "id": "ea8e219e-c647-4cb3-bbb4-7ec803c4b874",
   "metadata": {},
   "outputs": [],
   "source": [
    "2.OR Operator"
   ]
  },
  {
   "cell_type": "code",
   "execution_count": 15,
   "id": "69f28d7c-b9c1-4d40-b9e4-396551a27842",
   "metadata": {},
   "outputs": [
    {
     "data": {
      "text/plain": [
       "True"
      ]
     },
     "execution_count": 15,
     "metadata": {},
     "output_type": "execute_result"
    }
   ],
   "source": [
    "True or True"
   ]
  },
  {
   "cell_type": "code",
   "execution_count": 16,
   "id": "1f08caf3-e2a2-4c1e-a6d5-32ced04d68b0",
   "metadata": {},
   "outputs": [
    {
     "data": {
      "text/plain": [
       "True"
      ]
     },
     "execution_count": 16,
     "metadata": {},
     "output_type": "execute_result"
    }
   ],
   "source": [
    "True or False "
   ]
  },
  {
   "cell_type": "code",
   "execution_count": 17,
   "id": "56955dcb-8653-46e5-a74d-b8168f558e14",
   "metadata": {},
   "outputs": [
    {
     "data": {
      "text/plain": [
       "True"
      ]
     },
     "execution_count": 17,
     "metadata": {},
     "output_type": "execute_result"
    }
   ],
   "source": [
    "False or True"
   ]
  },
  {
   "cell_type": "code",
   "execution_count": 18,
   "id": "b06847db-1461-4eac-b1b7-aa085017514d",
   "metadata": {},
   "outputs": [
    {
     "data": {
      "text/plain": [
       "False"
      ]
     },
     "execution_count": 18,
     "metadata": {},
     "output_type": "execute_result"
    }
   ],
   "source": [
    "False or False"
   ]
  },
  {
   "cell_type": "code",
   "execution_count": null,
   "id": "e820c9a4-f840-4585-8358-3edc63946769",
   "metadata": {},
   "outputs": [],
   "source": [
    "3.NOT Operator"
   ]
  },
  {
   "cell_type": "code",
   "execution_count": 19,
   "id": "6a21436c-bb6a-4867-96ce-e9bed6dc8c3c",
   "metadata": {},
   "outputs": [
    {
     "data": {
      "text/plain": [
       "False"
      ]
     },
     "execution_count": 19,
     "metadata": {},
     "output_type": "execute_result"
    }
   ],
   "source": [
    "not True "
   ]
  },
  {
   "cell_type": "code",
   "execution_count": 20,
   "id": "6496c6d4-d15d-4909-9f09-947faf3dc6e1",
   "metadata": {},
   "outputs": [
    {
     "data": {
      "text/plain": [
       "True"
      ]
     },
     "execution_count": 20,
     "metadata": {},
     "output_type": "execute_result"
    }
   ],
   "source": [
    "not False"
   ]
  },
  {
   "cell_type": "markdown",
   "id": "54c79df9-223b-41a9-b59d-18b0dcf412d4",
   "metadata": {},
   "source": [
    "#Q.4 What are the two values of following expression?\n",
    "(5>4) and (3==5)\n",
    "not (5>4)\n",
    "(5>4)or(3==5)\n",
    "not ((5>4)or(3==5))\n",
    "(True and True) and (True==False)\n",
    "(not False) or (not True)"
   ]
  },
  {
   "cell_type": "code",
   "execution_count": 2,
   "id": "c126ebd6-d48d-4f68-ac93-538241d32121",
   "metadata": {},
   "outputs": [
    {
     "data": {
      "text/plain": [
       "False"
      ]
     },
     "execution_count": 2,
     "metadata": {},
     "output_type": "execute_result"
    }
   ],
   "source": [
    "(5>4) and (3==5)"
   ]
  },
  {
   "cell_type": "code",
   "execution_count": 3,
   "id": "e6ca578f-2b40-4338-85da-ba8be3432d2a",
   "metadata": {},
   "outputs": [
    {
     "data": {
      "text/plain": [
       "False"
      ]
     },
     "execution_count": 3,
     "metadata": {},
     "output_type": "execute_result"
    }
   ],
   "source": [
    "not(5>4)"
   ]
  },
  {
   "cell_type": "code",
   "execution_count": 4,
   "id": "8bc25aca-d34d-4307-bdc9-1a2ff8698059",
   "metadata": {},
   "outputs": [
    {
     "data": {
      "text/plain": [
       "True"
      ]
     },
     "execution_count": 4,
     "metadata": {},
     "output_type": "execute_result"
    }
   ],
   "source": [
    "(5>4)or(3==5)"
   ]
  },
  {
   "cell_type": "code",
   "execution_count": 5,
   "id": "0eb5272b-2d6a-4147-b270-618bb47f3be9",
   "metadata": {
    "tags": []
   },
   "outputs": [
    {
     "data": {
      "text/plain": [
       "False"
      ]
     },
     "execution_count": 5,
     "metadata": {},
     "output_type": "execute_result"
    }
   ],
   "source": [
    "not((5>4)or(3==5))"
   ]
  },
  {
   "cell_type": "code",
   "execution_count": 6,
   "id": "a2e21373-c25c-4662-9936-4573c00fbebb",
   "metadata": {},
   "outputs": [
    {
     "data": {
      "text/plain": [
       "False"
      ]
     },
     "execution_count": 6,
     "metadata": {},
     "output_type": "execute_result"
    }
   ],
   "source": [
    "(True and True) and (True==False)"
   ]
  },
  {
   "cell_type": "code",
   "execution_count": 8,
   "id": "db456ae2-03f1-42a3-baaf-c84f646b577f",
   "metadata": {},
   "outputs": [
    {
     "data": {
      "text/plain": [
       "True"
      ]
     },
     "execution_count": 8,
     "metadata": {},
     "output_type": "execute_result"
    }
   ],
   "source": [
    "(not False) or (not True)"
   ]
  },
  {
   "cell_type": "markdown",
   "id": "18853a32-d30b-4461-bd4c-f3a3416c3878",
   "metadata": {},
   "source": [
    "#Q.5 What are the six comparison operators?"
   ]
  },
  {
   "cell_type": "code",
   "execution_count": null,
   "id": "9894e6b1-f4f4-43b3-94aa-84d0b60c1262",
   "metadata": {},
   "outputs": [],
   "source": [
    "Answer- \n",
    "(==) Equal to\n",
    "(!=) Not equal to\n",
    "(<) Less than\n",
    "(>) Greater than\n",
    "(<=) Less than or equal to\n",
    "(>=) Greater than or equal to"
   ]
  },
  {
   "cell_type": "markdown",
   "id": "0dfcb2f5-1da5-47b8-81c5-8fd3ecdfb924",
   "metadata": {},
   "source": [
    "#Q.6 How do you tell the difference between the equal to and assignment operators?Describe a condition and when you would use one."
   ]
  },
  {
   "cell_type": "markdown",
   "id": "208b75bd-2efd-4b9e-9dfe-31fb6110774e",
   "metadata": {},
   "source": [
    "Answer- \n",
    "Equal to (==) Operator -\n",
    "== is the equal to operator that compares two values and evaluates to a Boolean. it checks if the values of both sides of the operator are equal.if the values are equal,it returns True;otherwise,it returns False.\n",
    "i.e"
   ]
  },
  {
   "cell_type": "code",
   "execution_count": 1,
   "id": "8a61628f-2015-44d3-a00a-a91224a0bd52",
   "metadata": {},
   "outputs": [
    {
     "name": "stdout",
     "output_type": "stream",
     "text": [
      "x and y are not equal.\n"
     ]
    }
   ],
   "source": [
    "x = 5\n",
    "y = 10\n",
    "\n",
    "if x == y:\n",
    "    print(\"x and y are eqal.\")\n",
    "else:\n",
    "    print(\"x and y are not equal.\")"
   ]
  },
  {
   "cell_type": "markdown",
   "id": "8fc80124-342f-4cb1-81c0-ee229c73224e",
   "metadata": {},
   "source": [
    "Assignment (=) Operator -\n",
    "= is the assignment operator that stored a value in a variable.\n",
    "A condition is an expression used in a flow control statement that evaluates to a Boolean value. It takes the value on the right and stores in the variable on the left. This operator is use to initialize variables or their values.\n",
    "i.e"
   ]
  },
  {
   "cell_type": "code",
   "execution_count": 1,
   "id": "a0a2ee28-ad36-4dba-87ad-5a3e4b768cbb",
   "metadata": {},
   "outputs": [],
   "source": [
    "x = 5\n",
    "y = x + 2"
   ]
  },
  {
   "cell_type": "markdown",
   "id": "6035f30f-49d3-4c91-9304-4291ffe33eb6",
   "metadata": {},
   "source": [
    "In the first line, we use the assignment operator to assign the value 5 to the variable x. In the second line, we use the assignment operator again to calculate the value of y(x+2) and assign it to the variable y."
   ]
  },
  {
   "cell_type": "markdown",
   "id": "c54ffc00-cd78-4774-b825-d8bcafc22c29",
   "metadata": {},
   "source": [
    "#Q.7 Identify the three blocks in this code:\n",
    "spam = 0\n",
    "if spam == 10:\n",
    "print('eggs')\n",
    "if spam>5:\n",
    "print('bacon')\n",
    "else:\n",
    "print('ham')\n",
    "print('spam')\n",
    "print('spam')"
   ]
  },
  {
   "cell_type": "markdown",
   "id": "fe599471-e13f-4be2-ad6c-3ee73df4fbad",
   "metadata": {},
   "source": [
    "Answer- The three blocks are everything inside the statement and the lines print ('bacon') and print('ham')."
   ]
  },
  {
   "cell_type": "code",
   "execution_count": null,
   "id": "d35816cc-b732-4c94-9065-54703197773d",
   "metadata": {},
   "outputs": [],
   "source": [
    "spam = o\n",
    "#First Block\n",
    " if spam == 10:\n",
    "    print('eggs')\n",
    "\n",
    "#Second Block\n",
    "if spam > 5:\n",
    "    print('bacon')\n",
    " else:\n",
    "    #Third Block\n",
    "    print('ham')\n",
    "    \n",
    "print('spam')\n",
    "print('spam')"
   ]
  },
  {
   "cell_type": "markdown",
   "id": "11568773-a76b-4d4d-9b94-7154012e9710",
   "metadata": {},
   "source": [
    "#Q.8 Write code that prints Hello if 1 is stored in spam, print Howdy if 2 is stored in spam,and prints Greetings! if anything else is stored in spam."
   ]
  },
  {
   "cell_type": "code",
   "execution_count": null,
   "id": "1488308b-218a-4a30-b7cb-036d474e22b9",
   "metadata": {},
   "outputs": [],
   "source": [
    "if spam == 1:\n",
    "    print('Hello')\n",
    "elif spam == 2:\n",
    "    print('Howdy')\n",
    "else:\n",
    "    print('Greetings!')"
   ]
  },
  {
   "cell_type": "markdown",
   "id": "026d1ad6-0dfc-4c56-bac8-c4ccf5bfee08",
   "metadata": {},
   "source": [
    "#Q.9 If your programme is stuck in an endless loop,what keys you'll press?"
   ]
  },
  {
   "cell_type": "code",
   "execution_count": null,
   "id": "a3da168f-db35-4b6b-abd9-72bdae53ea49",
   "metadata": {},
   "outputs": [],
   "source": [
    "Answer- Press CTRL+C to stope a program stuck in an infinite loop."
   ]
  },
  {
   "cell_type": "markdown",
   "id": "55f45d46-5392-4038-ba3b-a82d6bfc6331",
   "metadata": {},
   "source": [
    "#Q.10 How can you tell the difference between break and continue?"
   ]
  },
  {
   "cell_type": "markdown",
   "id": "2a068fff-f713-463f-8135-2634042848c7",
   "metadata": {},
   "source": [
    "Answer-\n",
    "The break statement will move the execution outside and just after a loop.\n",
    "break is used to exit a loop completely.\n",
    "The continue statement will move the execution to the start of the loop.\n",
    "continue is used to skip the current iteration and proceed to the next iteration of the loop."
   ]
  },
  {
   "cell_type": "markdown",
   "id": "7a8c6e69-f5ba-46e2-8e4e-e66443fdcca0",
   "metadata": {},
   "source": [
    "#Q.11 In a for loop, what is the difference between range(10),range(0,10),and(0,10,1)?"
   ]
  },
  {
   "cell_type": "markdown",
   "id": "9adde168-297b-4fd8-808d-e447db320fff",
   "metadata": {},
   "source": [
    "Answer- All three expression will generate the same sequence of numbers and can be used interchangeably in a for loop.\n",
    "\n",
    "range(10) - This expression generates a sequence of integers from 0 to 9 (excluding 10) with a default step of 1. It start from 0 by default, and the value 10 is not included in the range.\n",
    "\n",
    "range(0,10) - This expression is equivalent to range(10). It explicitly specifies the start value as 0 and generates a sequence of integers from 0 to 9 (excluding 10)with a default step of 1. explicitly tells the loop to start at 0.\n",
    "\n",
    "range(0,10,1) - The start value is explicitly set to 0,and the step value is set to 1. One more,this will creat a sequence from 0 to 9.\n",
    "explicitly tells the loop to increase the variable by 1 on each iteration."
   ]
  },
  {
   "cell_type": "markdown",
   "id": "fa304301-d190-4bbe-b04f-edadafdcf6b2",
   "metadata": {},
   "source": [
    "#Q.12 Write a sort program that print the numbers 1 to 10 using a for loop. Then write an equivalent program that print the numbers 1 to 10 using a while loop."
   ]
  },
  {
   "cell_type": "code",
   "execution_count": null,
   "id": "20e89c2f-0ffa-420d-9686-84a3b3c65578",
   "metadata": {},
   "outputs": [],
   "source": [
    "Answer-\n",
    "#using a for loop\n",
    "for i in range(1,11):\n",
    "    print(i)\n",
    "    \n",
    "\n",
    "#using a while loop\n",
    "        \n",
    "    i = 1\n",
    "    while i <= 10:\n",
    "        print(i)\n",
    "        i+=1"
   ]
  },
  {
   "cell_type": "markdown",
   "id": "ed73da3b-7f68-4285-b5fb-3c2d995d97d0",
   "metadata": {},
   "source": [
    "#Q.13 If you had a function named becon()inside a module named spam,how would you call it after importing spam?"
   ]
  },
  {
   "cell_type": "code",
   "execution_count": null,
   "id": "9cb3b709-14b7-45f5-bf24-59c3cfb9590d",
   "metadata": {},
   "outputs": [],
   "source": [
    "Answer- This function can be called with spam.bacon()."
   ]
  }
 ],
 "metadata": {
  "kernelspec": {
   "display_name": "Python 3 (ipykernel)",
   "language": "python",
   "name": "python3"
  },
  "language_info": {
   "codemirror_mode": {
    "name": "ipython",
    "version": 3
   },
   "file_extension": ".py",
   "mimetype": "text/x-python",
   "name": "python",
   "nbconvert_exporter": "python",
   "pygments_lexer": "ipython3",
   "version": "3.10.6"
  }
 },
 "nbformat": 4,
 "nbformat_minor": 5
}
