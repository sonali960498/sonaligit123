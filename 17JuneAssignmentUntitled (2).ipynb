{
 "cells": [
  {
   "cell_type": "markdown",
   "id": "e71ce2bd-ee6d-4bfb-9b75-ecda430a4df1",
   "metadata": {},
   "source": [
    "#Q.1 What is the role of try and exception block?"
   ]
  },
  {
   "cell_type": "markdown",
   "id": "0c5d0cda-c35f-4bb2-ad60-ad727dab6816",
   "metadata": {},
   "source": [
    "The try and exception block is a fundamental construct in many programming languages.Its role is to handle errors and exceptions that may occur during the execution of code.\n",
    "\n",
    "1.Try Block: Code that may potentially raise an exception is placed within a \"try\" block. This is the portion of code where error are anticipated.\n",
    "2.Exception block: Following the \"try\" block there is an \"exception\"or \"catch\" block. If an exception occurs within the \"try\" block the code inside the \"catch\" block is executed.This block contains instruction for how to handle the exception such as logging an error message or taking corrective action.\n",
    "3.Finally Block:Some languages allow you to include a \"finally\" block after the \"catch\"block. The code in the \"finally\" block is executed regardless of where an exception occurred or not. It is often used for cleanup tasks,like closing files or files or releasing resources.\n",
    "\n",
    "The try-catch mechanism helps ensure that even if an erroe occurs the program can gracefully recover or terminate without crashing. It promotes robist error handling and allows developers to maintain better control over their code's behavior in exceptional situations."
   ]
  },
  {
   "cell_type": "markdown",
   "id": "85dcb5d2-535f-4415-a8e8-7b01a6a7ab6a",
   "metadata": {},
   "source": [
    "#Q.2 What is the syntax for a basic try-except block?"
   ]
  },
  {
   "cell_type": "markdown",
   "id": "5a038475-25cc-4bba-9c1f-faaf0e43f8b7",
   "metadata": {},
   "source": [
    "The suntax for basic try-except block varies slightly depending on the programming language we are using.\n",
    "In python:"
   ]
  },
  {
   "cell_type": "code",
   "execution_count": null,
   "id": "55c39e1a-178b-4602-bf07-9f1c30ea12f1",
   "metadata": {},
   "outputs": [],
   "source": [
    "try:\n",
    "    # Code that may raise an exception\n",
    "    result = 10 / 0    # example: Division by zero\n",
    "except ExceptionType:\n",
    "    # Code to handle the exception\n",
    "    print(\"An exception occurred\")"
   ]
  },
  {
   "cell_type": "markdown",
   "id": "144724a9-408b-4048-85fd-613855c734b3",
   "metadata": {},
   "source": [
    "In python we specify the exception type (or use a more general 'Exception' if we want to catch any exception) after the 'except' keyword."
   ]
  },
  {
   "cell_type": "markdown",
   "id": "6477f7e1-24df-401a-b943-4bf00c7ed8b8",
   "metadata": {},
   "source": [
    "#Q.3 What happens if exception occurs inside a try block and there is no matching except block?"
   ]
  },
  {
   "cell_type": "markdown",
   "id": "6387ea21-b023-44d8-8834-e21429d1d0be",
   "metadata": {},
   "source": [
    "If an exception occurs inside a 'try' block and there is no matching 'catch'(or 'except') block to handle that specific type of exception the program will terminate abruptly and an error message or stack trace will be displayed on the programming language and environment.\n",
    "\n",
    "1.The exception is thrown: When an exception occurs within the 'try' block the program's nomal flow of execution is interrputed and the exception is \"thrown\" or \"raise\".\n",
    "2.The program looks for a matching 'catch' block: The program starts searching for a 'catch'(or 'except') block that can handle the type of exception thrown. It checks each 'catch' block one by one in the order they are defined.\n",
    "3.No matching 'catch' block is found: If no 'catch' block with the appropriate exception type is found the program will terminate abruptly and an unhandled exception error message or stack trace is typically displayed.This behavior is often referred to as an \"unhandled exception\" or \"exception propagation.\""
   ]
  },
  {
   "cell_type": "markdown",
   "id": "4243b984-bed4-4bc2-8a02-cf6226ae8921",
   "metadata": {},
   "source": [
    "#Q.4 What is the difference between using a bare except block and specifying a specific exception type?"
   ]
  },
  {
   "cell_type": "markdown",
   "id": "7b7ff14a-3bb7-4b72-b361-d1bde22b3bc0",
   "metadata": {},
   "source": [
    "Using a bare 'exception' and specifying a specific exception type in a 'try-except' block serve different purposes and have distinct implications for error handling in programming.\n",
    "\n",
    "1.Specific Exception Type:\n",
    "*When we specify a specific exception type in a 'try-except'block we are instructing the program to catch only exceptins of that particular type.\n",
    "*This allows us to handle different types of exceptions differently.Foe example we can have separate 'catch' blocks for handling division by zero file'not-found error and other specific exceptions.\n",
    "*It promotes precise and targeted error handling making it easier to diagnose and respond to specific issues.\n",
    "We have more control over which exceptions are caught and how they are handled.\n",
    "Example in python:"
   ]
  },
  {
   "cell_type": "code",
   "execution_count": 1,
   "id": "46ad608a-4bb6-4163-bdcb-acff0301d109",
   "metadata": {},
   "outputs": [
    {
     "name": "stdout",
     "output_type": "stream",
     "text": [
      "Division by zero error occurred.\n"
     ]
    }
   ],
   "source": [
    "try:\n",
    "    result = 10 / 0\n",
    "except ZeroDivisionError:\n",
    "    print(\"Division by zero error occurred.\")"
   ]
  },
  {
   "cell_type": "markdown",
   "id": "c12100d1-09b6-4271-a60a-92f3be219e49",
   "metadata": {},
   "source": [
    "2.Bare'except'Block:\n",
    "*When we use a bare'except'block without specifying a specific exception type it catches any exception that occcures within the 'try'block. This is a generic or catch-all approach.\n",
    "*It can be useful for logging or handling unexpected reeors when we don't know in advance what type of exceptions might occur.\n",
    "*However it can make debugging more challenging because it lumps all exceptions together potentially masking specific issues.\n",
    "*it should be used sparingly and with caution because it can lead to less predictable bahavior.\n",
    "Example in python:"
   ]
  },
  {
   "cell_type": "code",
   "execution_count": 2,
   "id": "2a92e585-0064-467b-945d-6096c0860f68",
   "metadata": {},
   "outputs": [
    {
     "name": "stdout",
     "output_type": "stream",
     "text": [
      "An error occurred.\n"
     ]
    }
   ],
   "source": [
    "try:\n",
    "    result = 10 / 0\n",
    "except:\n",
    "    print(\"An error occurred.\")"
   ]
  },
  {
   "cell_type": "markdown",
   "id": "fa67afa5-16e1-40c4-9d46-b3f7b5edf966",
   "metadata": {},
   "source": [
    "#Q.5 Can you have nested try-except blocks in python? If yes, then give an example."
   ]
  },
  {
   "cell_type": "markdown",
   "id": "a810b151-b401-4b85-a465-29484afe131b",
   "metadata": {},
   "source": [
    "Yes, We can have nested'try-except' blocks in python.This means we can place one \"try-except' block inside another to handle exception at different levels of your code. This can be useful for more granular error handling.\n",
    "Example:"
   ]
  },
  {
   "cell_type": "code",
   "execution_count": null,
   "id": "c5a46968-b106-4e96-b557-b20ae5a1e321",
   "metadata": {},
   "outputs": [],
   "source": [
    "try:\n",
    "    # Outer tyr block\n",
    "    x = int(input(\"Enter a number: \"))\n",
    "    y = int(input(\"Enter another number: \"))\n",
    "    \n",
    "    try:\n",
    "        # Inner tyr block\n",
    "        result = x / y\n",
    "        print(\"Result:\". result)\n",
    "    except ZeroDivisionError:\n",
    "        print(\"Inner: Division by zero error occured\")\n",
    "except ValueError:\n",
    "    print(\"Outer: Invalid input. Please enter a valid number.\")"
   ]
  },
  {
   "cell_type": "markdown",
   "id": "8e5ba875-8bef-4ddf-bc26-f04afe78ce99",
   "metadata": {},
   "source": [
    "In this example:\n",
    "1.The oter 'try-except' block attempts to get two integer inputs from the user and handles the 'ValueError\" that may occur if the user enters something that's not a valid integer.\n",
    "2.Inside the outer 'try block there's an inner 'try-except' block that handles the division operation>it catches a 'ZeroDivisionError' if the user enters zero as the second number.\n",
    "\n",
    "By nesting \"try-except' blocks we can handle errors at different levels of ou program allowing for more fine-grained error management and better control over how your program responds to different exception situations."
   ]
  },
  {
   "cell_type": "markdown",
   "id": "4be7c841-9e0b-4478-97c3-2bc885226041",
   "metadata": {},
   "source": [
    "#Q.6 Can we use multiple exception blocks,if yes then give an example."
   ]
  },
  {
   "cell_type": "markdown",
   "id": "ceb32e27-a851-4df8-99be-2650c67e6dd6",
   "metadata": {},
   "source": [
    "Yes, We can use multiple 'except' blocks in a single 'try-except' statement in python to handle different types of exceptions. This allows you to provide specific error-handling logic for each type of exception that may occur.\n",
    "Example:"
   ]
  },
  {
   "cell_type": "code",
   "execution_count": null,
   "id": "7ced8da7-72bc-4ffa-adc8-bea53445170e",
   "metadata": {},
   "outputs": [],
   "source": [
    "try:\n",
    "    num = int(input(\"Enter a number:\"))\n",
    "    result = 10 / num\n",
    "except ValueError:\n",
    "    print(\"Invalid input. Please enter a valid number.\")\n",
    "except ZeroDivisionError:\n",
    "    print(\"Division by zero is not allowed.\")\n",
    "except Exception as e:\n",
    "    print(f\"An error occurred: {e}\")"
   ]
  },
  {
   "cell_type": "markdown",
   "id": "97d43a22-7b2c-48f7-a884-178ae0cf1fc6",
   "metadata": {},
   "source": [
    "In this example:\n",
    "1.The 'try' block attempts to get an integer input from the user and perform a division operation.\n",
    "2.There are multiple 'except' blocks:\n",
    "*The first 'except' block catches a \"ValueError' if the user enters something that's not a valid integer.\n",
    "*The second 'except' block' catches a 'ZeroDivisionError' if the user enters zero as the input.\n",
    "*The third'except' block with 'Exception as e' is a catch-all that will handle any other exception not caught by the previous blocks. It prints an error message with details about the exception.\n",
    "\n",
    "Using multiple 'exept' blocks in this way allows us to tailor our error-handling code to specific exception types,making our program more robust and informative when exception occur."
   ]
  },
  {
   "cell_type": "raw",
   "id": "8e3e1540-184d-4cde-b463-f56f8cb06a35",
   "metadata": {},
   "source": [
    "#Q.7 Write the reason due to which following errors are raised:\n",
    "   a. EOFError\n",
    "   b. FloatingPointError\n",
    "   c. IndexError\n",
    "   d. MemoryError\n",
    "   e. OverflowError\n",
    "   f. TabError\n",
    "   g. ValueError"
   ]
  },
  {
   "cell_type": "markdown",
   "id": "be5c13e9-6408-4b26-a49b-b7c96d8765d2",
   "metadata": {},
   "source": [
    "a.'EOFError':\n",
    "*Raised when the'input()' function encounters the end of file(EOF) while trying to read input from the user.\n",
    "*It typically occurs when the user presses Ctrl+D(Unix/Linux)or Ctrl+Z(Windows) to signal the end of input.\n",
    "\n",
    "b.'FloatingPointError':\n",
    "*Raised when a floating -point operation(e.g.,division by zero) cannot be performed correctly or result in an undefined value.\n",
    "*It occurs when there is an issue with floating-point arthmetic such as dividing a number by zero or trying to perform an operation that exceeds the representational limits of the floating-point type.\n",
    "\n",
    "c.'IndexError':\n",
    "*Raised when we try to access an endex that is out of range in a sequence(e.g.,list,tuple,string)\n",
    "*It occurs when we use an index that is greater than or equal to the length of the sequence or less than the negative length of the sequence.\n",
    "\n",
    "d.'MemoryError':\n",
    "*Raised when the program runs out of available memory(RAM) while trying to allocate memory for a new object.\n",
    "*It occurs when there is insufficient memory to fulfill a memory allocation request,typically due to the program's memory consumption exceeding system limits.\n",
    "\n",
    "e.'OverflowError':\n",
    "*Raised when an arthmetic operation exceends the defined limits for a numeric data type.\n",
    "*It occurs when we try to perform an operation that results in a numeric value outside the range that can be represented by the data type.\n",
    "\n",
    "f.'TabError':\n",
    "*Raised when there are inconsistent or incorrect uses of tabs and spaces for indentation in python code.\n",
    "*It occurs when python's indentation rules are violated,such as mixing tabs and spaces in the same block of code.\n",
    "\n",
    "g.'ValueError':\n",
    "*Raised when an operation or function or function receives an argument of the correct data types but with an inappropriate or invalid value.\n",
    "*It occurs when we provide an argument that is the righ type but doesn'tmake sense in the context of the operation like trying to convert a non-numeric string to an integer.\n",
    "\n",
    "These error types help python developers identify and handle specific issues in their code making it easier to debug and create robust applications."
   ]
  },
  {
   "cell_type": "markdown",
   "id": "10949906-4a2e-4fec-8265-95b9430309a6",
   "metadata": {},
   "source": [
    "#Q.8 Write code for the following given scenario and add try-exception block to it.\n",
    "   a. Program to divide two numbers\n",
    "   b. Program to convert a string to an integer\n",
    "   c. Program to access an element in a list\n",
    "   d. Program to handle a specific exception\n",
    "   e. Pragram to handle any exception"
   ]
  },
  {
   "cell_type": "markdown",
   "id": "1d4c6804-008d-4c8a-8a9c-1509984831d9",
   "metadata": {},
   "source": [
    "a.Program to divide two numbers:"
   ]
  },
  {
   "cell_type": "code",
   "execution_count": null,
   "id": "c40cd853-4012-4c6e-bc3e-b8c6e19ed4ea",
   "metadata": {},
   "outputs": [],
   "source": [
    "try:\n",
    "    numerator = int(input(\"Enter the numerator:\"))\n",
    "    denominator = int(input(\"Enter the denominator:\"))\n",
    "    result = numerator / denominator\n",
    "    print(\"Result:\" result)\n",
    "except ZeroDivisionError:\n",
    "    print(\"Division by zero is not allowed.\")\n",
    "except ValueError:\n",
    "    print(\"Invalid input. Please enter valid numbers.\")\n",
    "except Exception as e:\n",
    "    print(f\"An error occurred: {e}\")"
   ]
  },
  {
   "cell_type": "markdown",
   "id": "a79d5be4-06e2-466d-9edd-3d4326e14987",
   "metadata": {},
   "source": [
    "b.Program to conver a string to an integer:"
   ]
  },
  {
   "cell_type": "code",
   "execution_count": null,
   "id": "d1d30411-496f-401b-9e44-fe87639864cd",
   "metadata": {},
   "outputs": [],
   "source": [
    "try:\n",
    "    num_str = input(\"Enter an integer:\")\n",
    "    num = int(num_str)\n",
    "    print(\"Successfully converted to integer:\",num)\n",
    "except ValueError:\n",
    "    print(\"Invalid input please enter a valid integer.\")\n",
    "except Exception as e:\n",
    "    print (f\"An error occurred: {e}\")"
   ]
  },
  {
   "cell_type": "markdown",
   "id": "34b2b414-d01e-471f-b979-6b4ddcb86370",
   "metadata": {},
   "source": [
    "c.Program to access an element in a list:"
   ]
  },
  {
   "cell_type": "code",
   "execution_count": null,
   "id": "1211c4a6-afd0-4df2-b8a5-d3e3c5ca39d2",
   "metadata": {},
   "outputs": [],
   "source": [
    "my_list = [1,2,3,4,5]\n",
    "try:\n",
    "    index = int(input(\"Enter an index:\"))\n",
    "    value = my_list[index]\n",
    "    print(\"Value at index\", index, \"is , value)\n",
    "except IndexError:\n",
    "    print(\"Index is out of range.\")\n",
    "except ValueError:\n",
    "    print(\"Invalid input. Please enter a valid integer index.\")\n",
    "except Exception as e:\n",
    "    print(f\"An error occurred: {e}\")"
   ]
  },
  {
   "cell_type": "markdown",
   "id": "6556497d-c13c-4d1b-80a8-fc7c773e1cb0",
   "metadata": {},
   "source": [
    "d.Program to handle a specific exception(ValueError)"
   ]
  },
  {
   "cell_type": "code",
   "execution_count": null,
   "id": "08dbbefd-e889-46ff-9d87-f3a4b5214f54",
   "metadata": {},
   "outputs": [],
   "source": [
    "try:\n",
    "    age_str = input(\"Enter your age:\")\n",
    "    age = int(age_str)\n",
    "    if age < 0:\n",
    "        raise ValueError(\"Age cannot be negative.\")\n",
    "    print(\"Your age is:\", age)\n",
    "except ValueError:\n",
    "    print(f\"ValueError: {ve}\")\n",
    "except Exception as e:\n",
    "    print(f\"An error occurred: {e}\")"
   ]
  },
  {
   "cell_type": "markdown",
   "id": "b1743070-4833-4822-a401-3402a63c337e",
   "metadata": {},
   "source": [
    "e.Program to handle any exception:"
   ]
  },
  {
   "cell_type": "code",
   "execution_count": null,
   "id": "98fe6a2b-8852-4782-ac0c-aa87e5ba7457",
   "metadata": {},
   "outputs": [],
   "source": [
    "try:\n",
    "    num1 = int(input(\"Enter the first number:\"))\n",
    "    num2 = int(input(\"Enter the second number:\"))\n",
    "    result = num1 / num2\n",
    "    print(\"Result:\", result)\n",
    "except Exception as e:\n",
    "    print(f\"An error occurred: {e}\")"
   ]
  },
  {
   "cell_type": "markdown",
   "id": "d12ed121-95ae-4662-a36d-b1f023ea8ee0",
   "metadata": {},
   "source": [
    "These examples demonstrate how to use try-except blocks to handle various scenarios and exceptions in python code."
   ]
  }
 ],
 "metadata": {
  "kernelspec": {
   "display_name": "Python 3 (ipykernel)",
   "language": "python",
   "name": "python3"
  },
  "language_info": {
   "codemirror_mode": {
    "name": "ipython",
    "version": 3
   },
   "file_extension": ".py",
   "mimetype": "text/x-python",
   "name": "python",
   "nbconvert_exporter": "python",
   "pygments_lexer": "ipython3",
   "version": "3.10.6"
  }
 },
 "nbformat": 4,
 "nbformat_minor": 5
}
