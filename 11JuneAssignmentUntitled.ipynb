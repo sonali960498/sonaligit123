{
 "cells": [
  {
   "cell_type": "markdown",
   "id": "bf624626-43fa-4b9b-b28f-c2103274dab5",
   "metadata": {},
   "source": [
    "#Q.1 What is a lambda function in python, and how does it differ from a regular function?"
   ]
  },
  {
   "cell_type": "markdown",
   "id": "3f4c4d2d-ec3f-47d9-99f2-8382d757cf48",
   "metadata": {},
   "source": [
    "A lambda function in python is a small anonymous function defined using the 'lambda' keyword. It is also known as a lambda expression. Lmbda functions are typically used for short, simple operations and can take any number of arguments but can only have one expression.\n",
    "\n",
    "Example of a lambda function that adds two numbers:"
   ]
  },
  {
   "cell_type": "code",
   "execution_count": 16,
   "id": "d407303d-d1c1-4c0a-bf6f-af83f31e290e",
   "metadata": {},
   "outputs": [],
   "source": [
    "add = lambda x, y: x + y\n",
    "result = add(5, 3)"
   ]
  },
  {
   "cell_type": "markdown",
   "id": "23432dfa-9d55-4bc2-a727-5301634f196c",
   "metadata": {},
   "source": [
    "8"
   ]
  },
  {
   "cell_type": "markdown",
   "id": "a9d83751-8080-4ba8-91f4-a9aaafa4eb27",
   "metadata": {},
   "source": [
    "Differences from regular functions:\n",
    "\n",
    "1.Anonymous: Lambda functions are anonymous, meaning they don't have a name.They are often used for quick, one-time operations where defining a named function would be unnecessary.\n",
    "\n",
    "2.Single Expression: Lambda functions can only contain a single expression,while regular functions can have multiple statements and more complex logic.\n",
    "\n",
    "3.Conciseness: Lambda functions are concise and used for simple operations,where as regular functions provide more structure and are suitable for larger and more complex tasks.\n",
    "\n",
    "4.Scope: Lambda functions have their own local scope but can access variables from the surrounding scope, similar to regular functions."
   ]
  },
  {
   "cell_type": "markdown",
   "id": "8f12d6dc-d05b-4155-aaae-fc5d18de722a",
   "metadata": {},
   "source": [
    "#Q.2 Can a lambda function in python have multiple arguments?If yes, how can you define and use them?"
   ]
  },
  {
   "cell_type": "markdown",
   "id": "f4af12f8-037c-482d-bc6c-dd98afbd2820",
   "metadata": {},
   "source": [
    "Yes, lambda functions in python can have multiple arguments. You can define and use them in the following way:"
   ]
  },
  {
   "cell_type": "code",
   "execution_count": 17,
   "id": "5989541e-09fd-4019-aa9e-860fc286260c",
   "metadata": {},
   "outputs": [],
   "source": [
    "# Syntax: lambda arguments: expression\n",
    "multiply = lambda x, y: x * y\n",
    "\n",
    "# Using the lambda function\n",
    "result = multiply(3, 4)"
   ]
  },
  {
   "cell_type": "markdown",
   "id": "0f3abf9a-dca4-4158-8463-35e152fe5712",
   "metadata": {},
   "source": [
    "12"
   ]
  },
  {
   "cell_type": "markdown",
   "id": "4fb20344-5140-4e55-a533-373ff224d609",
   "metadata": {},
   "source": [
    "In the example above the lambda function 'multiply' takes two arguments,'x' and 'y' and returns their product. You can have as many arguments as needed in a lambda function, separated by commas followed by a colon, and then the expression that computes the result based on those arguments.\n",
    "\n",
    "Lambda functions with multiple arguments are handy for simple operations where we don't want to define a separate named function. Lambda functions are best suited for concise tasks,and if we function logic becomes more complex,it's often better to use a regular named functon."
   ]
  },
  {
   "cell_type": "markdown",
   "id": "ef9b5491-0aa5-4af0-bec4-30350eed101d",
   "metadata": {},
   "source": [
    "#Q.3 How are lambda function typically used in python? Provide an example use case."
   ]
  },
  {
   "cell_type": "markdown",
   "id": "2f3ed057-0082-4403-b874-c495d93ae0ee",
   "metadata": {},
   "source": [
    "Lambda funtcions in python are typically used for short,simple operations especially in situations where you need a small, anonymous function for a specific purpose. \n",
    "Example:"
   ]
  },
  {
   "cell_type": "markdown",
   "id": "33264bbd-f09a-4a2d-ba0d-bba17c6fa504",
   "metadata": {},
   "source": [
    "Sorting a list of Tuples:\n",
    "\n",
    "Suppose we have a list of tuples representing people's names and ages, and you want to sort them by age. You can use a lambda function as the key parameter for the 'sorted()' function to achive this:"
   ]
  },
  {
   "cell_type": "code",
   "execution_count": 18,
   "id": "977c76be-e200-4660-80f0-0da02c91a0ef",
   "metadata": {},
   "outputs": [
    {
     "name": "stdout",
     "output_type": "stream",
     "text": [
      "[('Bob', 25), ('David', 28), ('Alice', 30), ('Charlie', 35)]\n"
     ]
    }
   ],
   "source": [
    "people = [(\"Alice\", 30),(\"Bob\", 25),(\"Charlie\",35),(\"David\",28)]\n",
    "\n",
    "# Sort the list of tuples by age using a lambda function\n",
    "sorted_people = sorted(people, key=lambda person: person[1])\n",
    "\n",
    "print(sorted_people)"
   ]
  },
  {
   "cell_type": "markdown",
   "id": "e93c2d32-068d-4051-a361-5d543d5155c3",
   "metadata": {},
   "source": [
    "In this example the lambda function 'lambda person: person[1]' is used as the key to the 'sorted()' function. It tells python to sort the list based second element (age) of each tuple in the list. The result is a sorted of people by their ages.\n",
    "Lambda functions are convenient for such short and specific tasks where defining a separate named function would be overkill. They are commonly used in functions like'sorted()' filter()' and 'map()' where we need to provide a function allows you to do so inline without defining a separate function."
   ]
  },
  {
   "cell_type": "markdown",
   "id": "52176e25-9c0a-43be-97f0-5a4545113a39",
   "metadata": {},
   "source": [
    "#Q.4 What are the advantages and limitations of lambda functions compared to regular function in Python?"
   ]
  },
  {
   "cell_type": "markdown",
   "id": "91bcbe3c-71ba-4469-8c30-82d566b5b04d",
   "metadata": {},
   "source": [
    "Advantages of Lambda Functions:\n",
    "\n",
    "1.Conciseness: Lambda function are concise and allow you to define simple, one-line functions quickly. This can lead to cleaner and more readable code in cases where a full named function might be overly verbose.\n",
    "\n",
    "2.Anonymous: Lambda functions are anonymous which means you don't need to assign them a name. This is useful for short-lived, single-use functions that don't require a permanent function definition.\n",
    "\n",
    "3.Inline Usage: Lambda functions are often used inline as arguments to gigher-order functions like 'sorted()', 'map()', and 'filter()'. This makes code more compact and readable when we need a simple function for a specific task.\n",
    "\n",
    "Limitations of Lambda Functions:\n",
    "\n",
    "1.Limited Complexity: Lambda function are limited to a single expression which means they are not suitable for complex operations that require multiple statements or control flow structures like loops or conditionals.\n",
    "\n",
    "2.Readability: While lambda functions can make code concise, they can also reduce readablility when used for complex operations. Named functions with clear, descriptive names are often more understandable.\n",
    "\n",
    "3.Lack of Documentation: Lambda function lack docstrings and meaningful names which can makes it challenging for others to understand their purpose and usage.\n",
    "\n",
    "4.Limited Reusability: Lambda functions are typically used for one-off,specific tasks.If you need to reuse a function in multiple places or extend its functionality a regular named function is more suitable."
   ]
  },
  {
   "cell_type": "markdown",
   "id": "06eab3ea-f4f5-417f-85cb-f1380ffa0c46",
   "metadata": {},
   "source": [
    "#Q.5 Are lambda function in python able to access variable defined outside of their own scope? Explain with an example."
   ]
  },
  {
   "cell_type": "markdown",
   "id": "3c78596f-4e35-4e6e-8810-8422836679fb",
   "metadata": {},
   "source": [
    "Yes, lambda function in python can access variables defined outside of their own scope. They can access variables from the surrounding scope,similar to regular functions.This behavior is known as \"lexical scoping\" or \"closure\".\n",
    "Example:"
   ]
  },
  {
   "cell_type": "code",
   "execution_count": null,
   "id": "176a07a6-9499-4f01-b034-0ced8cc4232f",
   "metadata": {},
   "outputs": [],
   "source": [
    "def outer_function(x):\n",
    "    \n",
    "    inner_lambda = lambda y:x + y\n",
    "    return inner_lambda\n",
    "\n",
    "# Instance of the inner lambda function\n",
    "add_five = outer_function(5)\n",
    "\n",
    "# we can use the lambda function\n",
    "result = add_five(3)  # Result will be 8"
   ]
  },
  {
   "cell_type": "markdown",
   "id": "221ea840-df1a-4675-8115-b80f2f203b5b",
   "metadata": {},
   "source": [
    "In this example the 'inner_lambda' lambda function is defined inside the 'outer_function'.It takes an argument 'y' and uses the variable 'x' from the outer scope. When we call 'outer_function',it returns the'inner_lambda'function with 'x' set to 5. Later we can call 'add_five(3)' to add 3 to the 'x' (which is 5) resulting in 8.\n",
    "\n",
    "lambda functions maintain a reference to the variables in their enclosing scope, allowing them to access and use those variables even after the outer function has completed exexution. This behavior makes lambda function quite powerful when used in the context of closures."
   ]
  },
  {
   "cell_type": "markdown",
   "id": "b74cf52c-953a-4c6b-83bf-cc47429a1c56",
   "metadata": {},
   "source": [
    "#Q.6 Write a lambda function to calculate the square of a given number."
   ]
  },
  {
   "cell_type": "markdown",
   "id": "b3fd0c30-9005-4390-9bdf-2699febdf33e",
   "metadata": {},
   "source": [
    "We can creat a lambda function to calculate the square of a given number as"
   ]
  },
  {
   "cell_type": "code",
   "execution_count": null,
   "id": "8c4c9f68-56f9-4cef-90f5-cf12fec2f7d1",
   "metadata": {},
   "outputs": [],
   "source": [
    "square = lambda x: x ** 2"
   ]
  },
  {
   "cell_type": "markdown",
   "id": "53831c9a-a4a3-45e1-9fe2-ee807f379ff9",
   "metadata": {},
   "source": [
    "In this lambda function 'x' is the input argument and 'x ** 2' calculates the square of 'x' we can use this lambda function to square number like this:"
   ]
  },
  {
   "cell_type": "code",
   "execution_count": null,
   "id": "d3829484-3a02-4dd5-a0ce-afdf75e6c039",
   "metadata": {},
   "outputs": [],
   "source": [
    "result = square(5)   # result will be 25"
   ]
  },
  {
   "cell_type": "markdown",
   "id": "93e71a9b-b87f-477f-bc29-fea460a60913",
   "metadata": {},
   "source": [
    "This lambda function takes a single  argument 'x' and returns its square making it a simple and concise way to perform this calculation."
   ]
  },
  {
   "cell_type": "markdown",
   "id": "a5b11d91-5dd2-4c68-aa9c-29343a88be76",
   "metadata": {},
   "source": [
    "#Q.7 Create a lambda function to find the maximum value in a list of integers."
   ]
  },
  {
   "cell_type": "markdown",
   "id": "1110005f-c9e9-4c94-8f49-8f2c9ddd7e73",
   "metadata": {},
   "source": [
    "We can creat a lambda function to find the maximum value in a list of integers and use the 'max()' function with this lambda function as the 'key argument."
   ]
  },
  {
   "cell_type": "code",
   "execution_count": 2,
   "id": "18dbdce8-f1f1-4732-a756-6ebda0b414c0",
   "metadata": {},
   "outputs": [],
   "source": [
    "find_max = lambda lst: max(lst)\n",
    "\n",
    "# Example usages:\n",
    "numbers = [12,45,67,23,89,54]\n",
    "maximum = find_max(numbers) # Maximum number will be 89"
   ]
  },
  {
   "cell_type": "markdown",
   "id": "c2ad635d-7703-4e96-8951-e1476d09c530",
   "metadata": {},
   "source": [
    "In this lambda function 'lst' is the input argument representing the list of integers.The 'max()' function then finds the maximum value in the list using the lambda function as the 'key' to compare elements. This lambda function simplifies the process of finding the maximum value in a list."
   ]
  },
  {
   "cell_type": "markdown",
   "id": "3c0295a3-28b8-459a-860d-72b3d2853899",
   "metadata": {},
   "source": [
    "#Q.8 Implement a lambda function to filter out all the even numbers from a list of integers."
   ]
  },
  {
   "cell_type": "markdown",
   "id": "150bc623-4e48-406a-afdb-f85a1cacdb17",
   "metadata": {},
   "source": [
    "We can creat a lambda function to filter out all the even numbers from a list of integers and use the 'filter()' function with this lambda function as the filtering criterion.\n",
    "Example:"
   ]
  },
  {
   "cell_type": "code",
   "execution_count": 3,
   "id": "72aae754-b37d-4043-86b3-149e3ab62294",
   "metadata": {},
   "outputs": [
    {
     "name": "stdout",
     "output_type": "stream",
     "text": [
      "[2, 4, 6, 8, 10]\n"
     ]
    }
   ],
   "source": [
    "# List of integers\n",
    "numbers = [1,2,3,4,5,6,7,8,9,10]\n",
    "\n",
    "# Use a lambda function with filter to get even numbers\n",
    "even_numbers = list(filter(lambda x: x % 2 == 0, numbers))\n",
    "print(even_numbers)"
   ]
  },
  {
   "cell_type": "markdown",
   "id": "d93f6193-85a7-4cf7-a9c9-2a699208445c",
   "metadata": {},
   "source": [
    "In this code:\n",
    "\n",
    "*The lambda function'lambda x: x % 2 == 0' is used as the filtering criterion for 'filtera90'. It checks if element 'x' in the list is even(i.e, divisible by 2).\n",
    "\n",
    "*'filter()' iterates through the 'numbers' list and returns an iterable containing the elements that satisfy the lambda function's condition.\n",
    "\n",
    "*We convert the iterable to a list to get the final list of even numbers."
   ]
  },
  {
   "cell_type": "markdown",
   "id": "4dc8f2e1-c488-4cbe-9cb8-aed38af17d10",
   "metadata": {},
   "source": [
    "#Q.9 Write a lambda function to sort a list of strings in ascending order based on the length of each string."
   ]
  },
  {
   "cell_type": "markdown",
   "id": "120312bf-648e-4143-b709-056e0a4deb94",
   "metadata": {},
   "source": [
    "We can use the 'sorted()' function with a lambda function as the key to sort a list of strings in ascending order based on their lengths."
   ]
  },
  {
   "cell_type": "code",
   "execution_count": 1,
   "id": "e4922423-6990-4d8e-8d78-8be4826b1fbe",
   "metadata": {},
   "outputs": [
    {
     "name": "stdout",
     "output_type": "stream",
     "text": [
      "['fig', 'date', 'apple', 'banana', 'cherry']\n"
     ]
    }
   ],
   "source": [
    "string_list = [\"apple\",\"banana\",\"cherry\",\"date\",\"fig\"]\n",
    "sorted_list = sorted(string_list, key=lambda x: len(x))\n",
    "print(sorted_list)"
   ]
  },
  {
   "cell_type": "markdown",
   "id": "2fceee75-70ed-4695-bfbf-e8e4a796347a",
   "metadata": {},
   "source": [
    "The 'key' argument in the 'sorted()' function specifies the function to determine the sort order and in this case it uses a lambda function to sort the strings based on their lengths."
   ]
  },
  {
   "cell_type": "markdown",
   "id": "c060fde3-ec65-47f9-b727-6eb29615c36b",
   "metadata": {},
   "source": [
    "#Q.10 Create a lambda function that takes two lists as input and returns a  new list containing the common elements between the two lists."
   ]
  },
  {
   "cell_type": "markdown",
   "id": "d7406aa9-6ca2-4120-a2e7-ff1dd31d5348",
   "metadata": {},
   "source": [
    "We can creat a lambda function to find the common elements between two lists like this:"
   ]
  },
  {
   "cell_type": "code",
   "execution_count": 2,
   "id": "05d3bd83-bee0-4813-9061-261d1e9e2016",
   "metadata": {},
   "outputs": [
    {
     "name": "stdout",
     "output_type": "stream",
     "text": [
      "[3, 4, 5]\n"
     ]
    }
   ],
   "source": [
    "common_elements = lambda list1,list2:[element for element in list1 if element in list2]\n",
    "\n",
    "# Example usage:\n",
    "list1 = [1,2,3,4,5]\n",
    "list2 = [3,4,5,6,7]\n",
    "\n",
    "result = common_elements(list1, list2)\n",
    "print(result)"
   ]
  },
  {
   "cell_type": "markdown",
   "id": "1d884a13-c53d-4f3f-a2d1-bfe529b56dce",
   "metadata": {},
   "source": [
    "This lambda function compares each element in 'list1' to the elements in 'list2' and returns a new list containing the common elements In the example provided, the 'result' will be'[3,4,5]' as those are the elements that both lists have in common."
   ]
  },
  {
   "cell_type": "markdown",
   "id": "fb1b03e1-5ff1-404c-b819-5c2bd42856bf",
   "metadata": {},
   "source": [
    "#Q.11 Write a recursive function to calculate the factorial of a given positive integer."
   ]
  },
  {
   "cell_type": "markdown",
   "id": "1caf578c-3023-4bc0-b0be-ee0d524cbad5",
   "metadata": {},
   "source": [
    "Python recusive function to calculate the factorial of a positive integer:"
   ]
  },
  {
   "cell_type": "code",
   "execution_count": 2,
   "id": "764ad06d-cd80-4309-9c98-77cf86647811",
   "metadata": {},
   "outputs": [
    {
     "name": "stdout",
     "output_type": "stream",
     "text": [
      "120\n"
     ]
    }
   ],
   "source": [
    "def factorial(n):\n",
    "    if n == 0:\n",
    "        return 1\n",
    "    else:\n",
    "        return n * factorial(n-1)\n",
    "    \n",
    "result = factorial(5)\n",
    "print(result)"
   ]
  },
  {
   "cell_type": "markdown",
   "id": "38bb224d-1922-4803-b83a-e5cfef6861f5",
   "metadata": {},
   "source": [
    "We can call this function with a positive integer as an argument to calculate its factorial.\n",
    "\n",
    "This function recursively multiplies the input number 'n' by the factorial of 'n-1'until it reaches the base case where 'n' is 0,at which point it returns 1."
   ]
  },
  {
   "cell_type": "markdown",
   "id": "27a5ea0f-2089-45c4-94cc-175021c7793f",
   "metadata": {},
   "source": [
    "#Q.12 Implement a recursive function to compute the nth Fibonacci number."
   ]
  },
  {
   "cell_type": "markdown",
   "id": "940bd921-0729-4ff4-bb25-3ba1da34bc63",
   "metadata": {},
   "source": [
    "Python recusive function to compute the nth Fibonacci number:"
   ]
  },
  {
   "cell_type": "code",
   "execution_count": 6,
   "id": "e5a42912-ebbe-44b9-8c3b-33568c55a98c",
   "metadata": {},
   "outputs": [
    {
     "name": "stdout",
     "output_type": "stream",
     "text": [
      "13\n"
     ]
    }
   ],
   "source": [
    "def fibonacci(n):\n",
    "    if n <= 0:\n",
    "        return 0\n",
    "    elif n == 1:\n",
    "        return 1\n",
    "    else:\n",
    "        return fibonacci(n-1) + fibonacci(n-2)\n",
    "    \n",
    "result = fibonacci(7)\n",
    "print(result)"
   ]
  },
  {
   "cell_type": "markdown",
   "id": "120f5d06-08b0-4129-9055-f77dcd69cba8",
   "metadata": {},
   "source": [
    "We can call this function with a positive integer 'n' to calculate the nth Fibonacci number.\n",
    "\n",
    "This function recursively calculates the Fibonacci number by summing the previous two Fabonacci numbers (F(n-1) and F(n-2) until it reaches the base cases where 'n' is 0 or 1."
   ]
  },
  {
   "cell_type": "markdown",
   "id": "4adb1bd1-cb1e-42d0-a421-d3aedfd1b272",
   "metadata": {},
   "source": [
    "#Q.13 Create a recursive function to find the sum of all the elements in a given list."
   ]
  },
  {
   "cell_type": "markdown",
   "id": "647ceede-102b-4e9c-85d1-2c88751acb03",
   "metadata": {},
   "source": [
    "Python recursive function to find the sum of all the elements in a given list:"
   ]
  },
  {
   "cell_type": "code",
   "execution_count": 7,
   "id": "2596523f-0af6-41cb-aed9-68df600e9f85",
   "metadata": {},
   "outputs": [
    {
     "name": "stdout",
     "output_type": "stream",
     "text": [
      "15\n"
     ]
    }
   ],
   "source": [
    "def recursive_sum(lst):\n",
    "    if len(lst) == 0:\n",
    "        return 0\n",
    "    else:\n",
    "        return lst[0] + recursive_sum(lst[1:])\n",
    "    \n",
    "my_list = [1,2,3,4,5]\n",
    "result = recursive_sum(my_list)\n",
    "print(result)"
   ]
  },
  {
   "cell_type": "markdown",
   "id": "bf7ec075-221c-4856-a5a8-f0e7737e02a0",
   "metadata": {},
   "source": [
    "We can call this function with a list of numbers as an argument to calculate the sum of all its elements.\n",
    "\n",
    "This function recursivly calculates the sum by adding the first element of the list to the sum of the rest of the elements(achieved by calling the function with 'lst[1:]') until the list becomes empty(base case) at which point it returns 0."
   ]
  },
  {
   "cell_type": "markdown",
   "id": "838222be-5599-4ac3-b418-951949e5f7d2",
   "metadata": {},
   "source": [
    "#Q.14 Write a recursive function to determine whether a given string is a palindrome."
   ]
  },
  {
   "cell_type": "markdown",
   "id": "bba4844d-804e-4c4e-abcb-2dbb5886ec01",
   "metadata": {},
   "source": [
    "Python recursive function to determine whether a given string is a palindrome:"
   ]
  },
  {
   "cell_type": "code",
   "execution_count": 12,
   "id": "dd5d6eb4-0f20-44e2-befc-d81426bb2384",
   "metadata": {},
   "outputs": [
    {
     "name": "stdout",
     "output_type": "stream",
     "text": [
      "True\n"
     ]
    }
   ],
   "source": [
    "def is_palindrome(s):\n",
    "    # Base case; If the string has 0 or 1 cahracters,it's a palindrome.\n",
    "    if len(s) <= 1:\n",
    "        return True\n",
    "    # Compare the first and last characters and check the rest of the string.\n",
    "    if s[0] == s[-1]:\n",
    "        return is_palindrome(s[1:-1])\n",
    "    else:\n",
    "        return False\n",
    "\n",
    "result = is_palindrome(\"racecar\")\n",
    "print(result)"
   ]
  },
  {
   "cell_type": "markdown",
   "id": "ca47f319-3c36-420e-9ba2-962341c5b4f0",
   "metadata": {},
   "source": [
    "We can call this function with a string as an argument to check if it's a palindrome.\n",
    "\n",
    "The function work by comparing the first and last characters of the string and then recursively checking the smaller string without those characters until it reaches the base case of a string with 0 or 1 character. If at ant point the first and last caracters don't match it returns False; otherwise it returns True when the base case is reached."
   ]
  },
  {
   "cell_type": "markdown",
   "id": "7b1d359e-83a0-4d27-b06e-bf61aec23a98",
   "metadata": {},
   "source": [
    "#Q.15 Implement a recursive function to find the greatest common divisor (GCD) of two positive integers."
   ]
  },
  {
   "cell_type": "markdown",
   "id": "2fe61004-8cc2-4fd9-b428-4c9527130c43",
   "metadata": {},
   "source": [
    "Python recursive function to find the greatest common divisor(GCD) of two positive using the Euclidean algorithm:"
   ]
  },
  {
   "cell_type": "code",
   "execution_count": 13,
   "id": "ae2343da-dbc0-4e88-81d7-f38f36b20c60",
   "metadata": {},
   "outputs": [
    {
     "name": "stdout",
     "output_type": "stream",
     "text": [
      "6\n"
     ]
    }
   ],
   "source": [
    "def gcd(a, b):\n",
    "    if b == 0:\n",
    "        return a\n",
    "    else:\n",
    "        return gcd(b, a % b)\n",
    "    \n",
    "result = gcd(48, 18)\n",
    "print(result)"
   ]
  },
  {
   "cell_type": "markdown",
   "id": "9cddf8e5-f7e5-460d-beb4-57890d8602b4",
   "metadata": {},
   "source": [
    "We can call this function with two positive integers 'a' and 'b' as arguments to calculate their GCD.\n",
    "\n",
    "This function uses the Euclidean algorithm,which repeatedly takes the remainder of the larger number divided by the smaller number until the smaller number becomes zero.At that point the GCD is the larger number which is returned."
   ]
  }
 ],
 "metadata": {
  "kernelspec": {
   "display_name": "Python 3 (ipykernel)",
   "language": "python",
   "name": "python3"
  },
  "language_info": {
   "codemirror_mode": {
    "name": "ipython",
    "version": 3
   },
   "file_extension": ".py",
   "mimetype": "text/x-python",
   "name": "python",
   "nbconvert_exporter": "python",
   "pygments_lexer": "ipython3",
   "version": "3.10.6"
  }
 },
 "nbformat": 4,
 "nbformat_minor": 5
}
